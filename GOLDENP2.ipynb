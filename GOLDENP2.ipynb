{
  "nbformat": 4,
  "nbformat_minor": 0,
  "metadata": {
    "colab": {
      "provenance": []
    },
    "kernelspec": {
      "name": "python3",
      "display_name": "Python 3"
    },
    "language_info": {
      "name": "python"
    }
  },
  "cells": [
    {
      "cell_type": "code",
      "execution_count": 1,
      "metadata": {
        "id": "CTfcEruGzbuG"
      },
      "outputs": [],
      "source": [
        "import datetime, warnings, scipy \n",
        "import pandas as pd\n",
        "import numpy as np\n",
        "import seaborn as sns\n",
        "import matplotlib.pyplot as plt"
      ]
    },
    {
      "cell_type": "code",
      "source": [
        "data = pd.read_csv(\"/content/flights.csv\")"
      ],
      "metadata": {
        "id": "EEpPb_FyzsDo"
      },
      "execution_count": 2,
      "outputs": []
    },
    {
      "cell_type": "code",
      "source": [
        "airport = pd.read_csv('/content/airports.csv')\n",
        "airlines = pd.read_csv('/content/airlines.csv')"
      ],
      "metadata": {
        "id": "amXHqVoYz73P"
      },
      "execution_count": 3,
      "outputs": []
    },
    {
      "cell_type": "code",
      "source": [
        "data.info()"
      ],
      "metadata": {
        "colab": {
          "base_uri": "https://localhost:8080/"
        },
        "id": "XMZqExnK0FrX",
        "outputId": "9ccbfede-ac4f-40da-89b4-857701292774"
      },
      "execution_count": 4,
      "outputs": [
        {
          "output_type": "stream",
          "name": "stdout",
          "text": [
            "<class 'pandas.core.frame.DataFrame'>\n",
            "RangeIndex: 62006 entries, 0 to 62005\n",
            "Data columns (total 31 columns):\n",
            " #   Column               Non-Null Count  Dtype  \n",
            "---  ------               --------------  -----  \n",
            " 0   YEAR                 62006 non-null  int64  \n",
            " 1   MONTH                62006 non-null  int64  \n",
            " 2   DAY                  62006 non-null  int64  \n",
            " 3   DAY_OF_WEEK          62006 non-null  int64  \n",
            " 4   AIRLINE              62006 non-null  object \n",
            " 5   FLIGHT_NUMBER        62006 non-null  int64  \n",
            " 6   TAIL_NUMBER          61937 non-null  object \n",
            " 7   ORIGIN_AIRPORT       62006 non-null  object \n",
            " 8   DESTINATION_AIRPORT  62006 non-null  object \n",
            " 9   SCHEDULED_DEPARTURE  62006 non-null  int64  \n",
            " 10  DEPARTURE_TIME       60573 non-null  float64\n",
            " 11  DEPARTURE_DELAY      60573 non-null  float64\n",
            " 12  TAXI_OUT             60543 non-null  float64\n",
            " 13  WHEELS_OFF           60543 non-null  float64\n",
            " 14  SCHEDULED_TIME       62005 non-null  float64\n",
            " 15  ELAPSED_TIME         60398 non-null  float64\n",
            " 16  AIR_TIME             60398 non-null  float64\n",
            " 17  DISTANCE             62005 non-null  float64\n",
            " 18  WHEELS_ON            60504 non-null  float64\n",
            " 19  TAXI_IN              60504 non-null  float64\n",
            " 20  SCHEDULED_ARRIVAL    62005 non-null  float64\n",
            " 21  ARRIVAL_TIME         60504 non-null  float64\n",
            " 22  ARRIVAL_DELAY        60398 non-null  float64\n",
            " 23  DIVERTED             62005 non-null  float64\n",
            " 24  CANCELLED            62005 non-null  float64\n",
            " 25  CANCELLATION_REASON  1474 non-null   object \n",
            " 26  AIR_SYSTEM_DELAY     21960 non-null  float64\n",
            " 27  SECURITY_DELAY       21960 non-null  float64\n",
            " 28  AIRLINE_DELAY        21960 non-null  float64\n",
            " 29  LATE_AIRCRAFT_DELAY  21960 non-null  float64\n",
            " 30  WEATHER_DELAY        21960 non-null  float64\n",
            "dtypes: float64(20), int64(6), object(5)\n",
            "memory usage: 14.7+ MB\n"
          ]
        }
      ]
    },
    {
      "cell_type": "code",
      "source": [
        "data.shape"
      ],
      "metadata": {
        "colab": {
          "base_uri": "https://localhost:8080/"
        },
        "id": "g431BJaN0Inn",
        "outputId": "9361a008-d97c-4934-8bc0-f7031f74c847"
      },
      "execution_count": 5,
      "outputs": [
        {
          "output_type": "execute_result",
          "data": {
            "text/plain": [
              "(62006, 31)"
            ]
          },
          "metadata": {},
          "execution_count": 5
        }
      ]
    },
    {
      "cell_type": "code",
      "source": [
        "data.describe()"
      ],
      "metadata": {
        "colab": {
          "base_uri": "https://localhost:8080/",
          "height": 394
        },
        "id": "VkuvCsxt0Ls2",
        "outputId": "04da4681-28cd-47c6-ff39-a5e7d68f5f21"
      },
      "execution_count": 6,
      "outputs": [
        {
          "output_type": "execute_result",
          "data": {
            "text/plain": [
              "          YEAR    MONTH           DAY   DAY_OF_WEEK  FLIGHT_NUMBER  \\\n",
              "count  62006.0  62006.0  62006.000000  62006.000000   62006.000000   \n",
              "mean    2015.0      1.0      2.536174      5.536174    2250.175354   \n",
              "std        0.0      0.0      1.100413      1.100413    1818.197365   \n",
              "min     2015.0      1.0      1.000000      4.000000       1.000000   \n",
              "25%     2015.0      1.0      2.000000      5.000000     783.250000   \n",
              "50%     2015.0      1.0      3.000000      6.000000    1692.000000   \n",
              "75%     2015.0      1.0      4.000000      7.000000    3372.000000   \n",
              "max     2015.0      1.0      4.000000      7.000000    7438.000000   \n",
              "\n",
              "       SCHEDULED_DEPARTURE  DEPARTURE_TIME  DEPARTURE_DELAY      TAXI_OUT  \\\n",
              "count         62006.000000    60573.000000     60573.000000  60543.000000   \n",
              "mean           1337.972728     1359.219916        19.902646     16.779975   \n",
              "std             475.261900      497.380856        45.677545      9.818741   \n",
              "min               5.000000        1.000000       -39.000000      1.000000   \n",
              "25%             935.000000      941.000000        -3.000000     11.000000   \n",
              "50%            1331.000000     1348.000000         3.000000     14.000000   \n",
              "75%            1730.000000     1754.000000        25.000000     19.000000   \n",
              "max            2359.000000     2400.000000      1380.000000    176.000000   \n",
              "\n",
              "         WHEELS_OFF  ...  SCHEDULED_ARRIVAL  ARRIVAL_TIME  ARRIVAL_DELAY  \\\n",
              "count  60543.000000  ...       62005.000000  60504.000000   60398.000000   \n",
              "mean    1382.062815  ...        1514.336666   1487.392354      18.388092   \n",
              "std      498.586843  ...         496.722771    542.439947      48.313411   \n",
              "min        1.000000  ...           1.000000      1.000000     -65.000000   \n",
              "25%      956.000000  ...        1126.000000   1112.000000      -8.000000   \n",
              "50%     1401.000000  ...        1532.000000   1525.000000       5.000000   \n",
              "75%     1808.000000  ...        1925.000000   1929.000000      28.000000   \n",
              "max     2400.000000  ...        2359.000000   2400.000000    1384.000000   \n",
              "\n",
              "           DIVERTED     CANCELLED  AIR_SYSTEM_DELAY  SECURITY_DELAY  \\\n",
              "count  62005.000000  62005.000000      21960.000000    21960.000000   \n",
              "mean       0.002145      0.023772         12.900729        0.084973   \n",
              "std        0.046265      0.152340         24.326709        1.927194   \n",
              "min        0.000000      0.000000          0.000000        0.000000   \n",
              "25%        0.000000      0.000000          0.000000        0.000000   \n",
              "50%        0.000000      0.000000          4.000000        0.000000   \n",
              "75%        0.000000      0.000000         18.000000        0.000000   \n",
              "max        1.000000      1.000000        570.000000      107.000000   \n",
              "\n",
              "       AIRLINE_DELAY  LATE_AIRCRAFT_DELAY  WEATHER_DELAY  \n",
              "count   21960.000000         21960.000000   21960.000000  \n",
              "mean       17.918169            26.137477       1.932741  \n",
              "std        43.915945            42.281340      12.866282  \n",
              "min         0.000000             0.000000       0.000000  \n",
              "25%         0.000000             0.000000       0.000000  \n",
              "50%         5.000000            11.000000       0.000000  \n",
              "75%        19.000000            35.000000       0.000000  \n",
              "max      1380.000000           891.000000     453.000000  \n",
              "\n",
              "[8 rows x 26 columns]"
            ],
            "text/html": [
              "\n",
              "  <div id=\"df-a97f7c9d-c84f-4f77-ac6f-801fd4aa6061\">\n",
              "    <div class=\"colab-df-container\">\n",
              "      <div>\n",
              "<style scoped>\n",
              "    .dataframe tbody tr th:only-of-type {\n",
              "        vertical-align: middle;\n",
              "    }\n",
              "\n",
              "    .dataframe tbody tr th {\n",
              "        vertical-align: top;\n",
              "    }\n",
              "\n",
              "    .dataframe thead th {\n",
              "        text-align: right;\n",
              "    }\n",
              "</style>\n",
              "<table border=\"1\" class=\"dataframe\">\n",
              "  <thead>\n",
              "    <tr style=\"text-align: right;\">\n",
              "      <th></th>\n",
              "      <th>YEAR</th>\n",
              "      <th>MONTH</th>\n",
              "      <th>DAY</th>\n",
              "      <th>DAY_OF_WEEK</th>\n",
              "      <th>FLIGHT_NUMBER</th>\n",
              "      <th>SCHEDULED_DEPARTURE</th>\n",
              "      <th>DEPARTURE_TIME</th>\n",
              "      <th>DEPARTURE_DELAY</th>\n",
              "      <th>TAXI_OUT</th>\n",
              "      <th>WHEELS_OFF</th>\n",
              "      <th>...</th>\n",
              "      <th>SCHEDULED_ARRIVAL</th>\n",
              "      <th>ARRIVAL_TIME</th>\n",
              "      <th>ARRIVAL_DELAY</th>\n",
              "      <th>DIVERTED</th>\n",
              "      <th>CANCELLED</th>\n",
              "      <th>AIR_SYSTEM_DELAY</th>\n",
              "      <th>SECURITY_DELAY</th>\n",
              "      <th>AIRLINE_DELAY</th>\n",
              "      <th>LATE_AIRCRAFT_DELAY</th>\n",
              "      <th>WEATHER_DELAY</th>\n",
              "    </tr>\n",
              "  </thead>\n",
              "  <tbody>\n",
              "    <tr>\n",
              "      <th>count</th>\n",
              "      <td>62006.0</td>\n",
              "      <td>62006.0</td>\n",
              "      <td>62006.000000</td>\n",
              "      <td>62006.000000</td>\n",
              "      <td>62006.000000</td>\n",
              "      <td>62006.000000</td>\n",
              "      <td>60573.000000</td>\n",
              "      <td>60573.000000</td>\n",
              "      <td>60543.000000</td>\n",
              "      <td>60543.000000</td>\n",
              "      <td>...</td>\n",
              "      <td>62005.000000</td>\n",
              "      <td>60504.000000</td>\n",
              "      <td>60398.000000</td>\n",
              "      <td>62005.000000</td>\n",
              "      <td>62005.000000</td>\n",
              "      <td>21960.000000</td>\n",
              "      <td>21960.000000</td>\n",
              "      <td>21960.000000</td>\n",
              "      <td>21960.000000</td>\n",
              "      <td>21960.000000</td>\n",
              "    </tr>\n",
              "    <tr>\n",
              "      <th>mean</th>\n",
              "      <td>2015.0</td>\n",
              "      <td>1.0</td>\n",
              "      <td>2.536174</td>\n",
              "      <td>5.536174</td>\n",
              "      <td>2250.175354</td>\n",
              "      <td>1337.972728</td>\n",
              "      <td>1359.219916</td>\n",
              "      <td>19.902646</td>\n",
              "      <td>16.779975</td>\n",
              "      <td>1382.062815</td>\n",
              "      <td>...</td>\n",
              "      <td>1514.336666</td>\n",
              "      <td>1487.392354</td>\n",
              "      <td>18.388092</td>\n",
              "      <td>0.002145</td>\n",
              "      <td>0.023772</td>\n",
              "      <td>12.900729</td>\n",
              "      <td>0.084973</td>\n",
              "      <td>17.918169</td>\n",
              "      <td>26.137477</td>\n",
              "      <td>1.932741</td>\n",
              "    </tr>\n",
              "    <tr>\n",
              "      <th>std</th>\n",
              "      <td>0.0</td>\n",
              "      <td>0.0</td>\n",
              "      <td>1.100413</td>\n",
              "      <td>1.100413</td>\n",
              "      <td>1818.197365</td>\n",
              "      <td>475.261900</td>\n",
              "      <td>497.380856</td>\n",
              "      <td>45.677545</td>\n",
              "      <td>9.818741</td>\n",
              "      <td>498.586843</td>\n",
              "      <td>...</td>\n",
              "      <td>496.722771</td>\n",
              "      <td>542.439947</td>\n",
              "      <td>48.313411</td>\n",
              "      <td>0.046265</td>\n",
              "      <td>0.152340</td>\n",
              "      <td>24.326709</td>\n",
              "      <td>1.927194</td>\n",
              "      <td>43.915945</td>\n",
              "      <td>42.281340</td>\n",
              "      <td>12.866282</td>\n",
              "    </tr>\n",
              "    <tr>\n",
              "      <th>min</th>\n",
              "      <td>2015.0</td>\n",
              "      <td>1.0</td>\n",
              "      <td>1.000000</td>\n",
              "      <td>4.000000</td>\n",
              "      <td>1.000000</td>\n",
              "      <td>5.000000</td>\n",
              "      <td>1.000000</td>\n",
              "      <td>-39.000000</td>\n",
              "      <td>1.000000</td>\n",
              "      <td>1.000000</td>\n",
              "      <td>...</td>\n",
              "      <td>1.000000</td>\n",
              "      <td>1.000000</td>\n",
              "      <td>-65.000000</td>\n",
              "      <td>0.000000</td>\n",
              "      <td>0.000000</td>\n",
              "      <td>0.000000</td>\n",
              "      <td>0.000000</td>\n",
              "      <td>0.000000</td>\n",
              "      <td>0.000000</td>\n",
              "      <td>0.000000</td>\n",
              "    </tr>\n",
              "    <tr>\n",
              "      <th>25%</th>\n",
              "      <td>2015.0</td>\n",
              "      <td>1.0</td>\n",
              "      <td>2.000000</td>\n",
              "      <td>5.000000</td>\n",
              "      <td>783.250000</td>\n",
              "      <td>935.000000</td>\n",
              "      <td>941.000000</td>\n",
              "      <td>-3.000000</td>\n",
              "      <td>11.000000</td>\n",
              "      <td>956.000000</td>\n",
              "      <td>...</td>\n",
              "      <td>1126.000000</td>\n",
              "      <td>1112.000000</td>\n",
              "      <td>-8.000000</td>\n",
              "      <td>0.000000</td>\n",
              "      <td>0.000000</td>\n",
              "      <td>0.000000</td>\n",
              "      <td>0.000000</td>\n",
              "      <td>0.000000</td>\n",
              "      <td>0.000000</td>\n",
              "      <td>0.000000</td>\n",
              "    </tr>\n",
              "    <tr>\n",
              "      <th>50%</th>\n",
              "      <td>2015.0</td>\n",
              "      <td>1.0</td>\n",
              "      <td>3.000000</td>\n",
              "      <td>6.000000</td>\n",
              "      <td>1692.000000</td>\n",
              "      <td>1331.000000</td>\n",
              "      <td>1348.000000</td>\n",
              "      <td>3.000000</td>\n",
              "      <td>14.000000</td>\n",
              "      <td>1401.000000</td>\n",
              "      <td>...</td>\n",
              "      <td>1532.000000</td>\n",
              "      <td>1525.000000</td>\n",
              "      <td>5.000000</td>\n",
              "      <td>0.000000</td>\n",
              "      <td>0.000000</td>\n",
              "      <td>4.000000</td>\n",
              "      <td>0.000000</td>\n",
              "      <td>5.000000</td>\n",
              "      <td>11.000000</td>\n",
              "      <td>0.000000</td>\n",
              "    </tr>\n",
              "    <tr>\n",
              "      <th>75%</th>\n",
              "      <td>2015.0</td>\n",
              "      <td>1.0</td>\n",
              "      <td>4.000000</td>\n",
              "      <td>7.000000</td>\n",
              "      <td>3372.000000</td>\n",
              "      <td>1730.000000</td>\n",
              "      <td>1754.000000</td>\n",
              "      <td>25.000000</td>\n",
              "      <td>19.000000</td>\n",
              "      <td>1808.000000</td>\n",
              "      <td>...</td>\n",
              "      <td>1925.000000</td>\n",
              "      <td>1929.000000</td>\n",
              "      <td>28.000000</td>\n",
              "      <td>0.000000</td>\n",
              "      <td>0.000000</td>\n",
              "      <td>18.000000</td>\n",
              "      <td>0.000000</td>\n",
              "      <td>19.000000</td>\n",
              "      <td>35.000000</td>\n",
              "      <td>0.000000</td>\n",
              "    </tr>\n",
              "    <tr>\n",
              "      <th>max</th>\n",
              "      <td>2015.0</td>\n",
              "      <td>1.0</td>\n",
              "      <td>4.000000</td>\n",
              "      <td>7.000000</td>\n",
              "      <td>7438.000000</td>\n",
              "      <td>2359.000000</td>\n",
              "      <td>2400.000000</td>\n",
              "      <td>1380.000000</td>\n",
              "      <td>176.000000</td>\n",
              "      <td>2400.000000</td>\n",
              "      <td>...</td>\n",
              "      <td>2359.000000</td>\n",
              "      <td>2400.000000</td>\n",
              "      <td>1384.000000</td>\n",
              "      <td>1.000000</td>\n",
              "      <td>1.000000</td>\n",
              "      <td>570.000000</td>\n",
              "      <td>107.000000</td>\n",
              "      <td>1380.000000</td>\n",
              "      <td>891.000000</td>\n",
              "      <td>453.000000</td>\n",
              "    </tr>\n",
              "  </tbody>\n",
              "</table>\n",
              "<p>8 rows × 26 columns</p>\n",
              "</div>\n",
              "      <button class=\"colab-df-convert\" onclick=\"convertToInteractive('df-a97f7c9d-c84f-4f77-ac6f-801fd4aa6061')\"\n",
              "              title=\"Convert this dataframe to an interactive table.\"\n",
              "              style=\"display:none;\">\n",
              "        \n",
              "  <svg xmlns=\"http://www.w3.org/2000/svg\" height=\"24px\"viewBox=\"0 0 24 24\"\n",
              "       width=\"24px\">\n",
              "    <path d=\"M0 0h24v24H0V0z\" fill=\"none\"/>\n",
              "    <path d=\"M18.56 5.44l.94 2.06.94-2.06 2.06-.94-2.06-.94-.94-2.06-.94 2.06-2.06.94zm-11 1L8.5 8.5l.94-2.06 2.06-.94-2.06-.94L8.5 2.5l-.94 2.06-2.06.94zm10 10l.94 2.06.94-2.06 2.06-.94-2.06-.94-.94-2.06-.94 2.06-2.06.94z\"/><path d=\"M17.41 7.96l-1.37-1.37c-.4-.4-.92-.59-1.43-.59-.52 0-1.04.2-1.43.59L10.3 9.45l-7.72 7.72c-.78.78-.78 2.05 0 2.83L4 21.41c.39.39.9.59 1.41.59.51 0 1.02-.2 1.41-.59l7.78-7.78 2.81-2.81c.8-.78.8-2.07 0-2.86zM5.41 20L4 18.59l7.72-7.72 1.47 1.35L5.41 20z\"/>\n",
              "  </svg>\n",
              "      </button>\n",
              "      \n",
              "  <style>\n",
              "    .colab-df-container {\n",
              "      display:flex;\n",
              "      flex-wrap:wrap;\n",
              "      gap: 12px;\n",
              "    }\n",
              "\n",
              "    .colab-df-convert {\n",
              "      background-color: #E8F0FE;\n",
              "      border: none;\n",
              "      border-radius: 50%;\n",
              "      cursor: pointer;\n",
              "      display: none;\n",
              "      fill: #1967D2;\n",
              "      height: 32px;\n",
              "      padding: 0 0 0 0;\n",
              "      width: 32px;\n",
              "    }\n",
              "\n",
              "    .colab-df-convert:hover {\n",
              "      background-color: #E2EBFA;\n",
              "      box-shadow: 0px 1px 2px rgba(60, 64, 67, 0.3), 0px 1px 3px 1px rgba(60, 64, 67, 0.15);\n",
              "      fill: #174EA6;\n",
              "    }\n",
              "\n",
              "    [theme=dark] .colab-df-convert {\n",
              "      background-color: #3B4455;\n",
              "      fill: #D2E3FC;\n",
              "    }\n",
              "\n",
              "    [theme=dark] .colab-df-convert:hover {\n",
              "      background-color: #434B5C;\n",
              "      box-shadow: 0px 1px 3px 1px rgba(0, 0, 0, 0.15);\n",
              "      filter: drop-shadow(0px 1px 2px rgba(0, 0, 0, 0.3));\n",
              "      fill: #FFFFFF;\n",
              "    }\n",
              "  </style>\n",
              "\n",
              "      <script>\n",
              "        const buttonEl =\n",
              "          document.querySelector('#df-a97f7c9d-c84f-4f77-ac6f-801fd4aa6061 button.colab-df-convert');\n",
              "        buttonEl.style.display =\n",
              "          google.colab.kernel.accessAllowed ? 'block' : 'none';\n",
              "\n",
              "        async function convertToInteractive(key) {\n",
              "          const element = document.querySelector('#df-a97f7c9d-c84f-4f77-ac6f-801fd4aa6061');\n",
              "          const dataTable =\n",
              "            await google.colab.kernel.invokeFunction('convertToInteractive',\n",
              "                                                     [key], {});\n",
              "          if (!dataTable) return;\n",
              "\n",
              "          const docLinkHtml = 'Like what you see? Visit the ' +\n",
              "            '<a target=\"_blank\" href=https://colab.research.google.com/notebooks/data_table.ipynb>data table notebook</a>'\n",
              "            + ' to learn more about interactive tables.';\n",
              "          element.innerHTML = '';\n",
              "          dataTable['output_type'] = 'display_data';\n",
              "          await google.colab.output.renderOutput(dataTable, element);\n",
              "          const docLink = document.createElement('div');\n",
              "          docLink.innerHTML = docLinkHtml;\n",
              "          element.appendChild(docLink);\n",
              "        }\n",
              "      </script>\n",
              "    </div>\n",
              "  </div>\n",
              "  "
            ]
          },
          "metadata": {},
          "execution_count": 6
        }
      ]
    },
    {
      "cell_type": "code",
      "source": [
        "data.head()"
      ],
      "metadata": {
        "colab": {
          "base_uri": "https://localhost:8080/",
          "height": 300
        },
        "id": "cNHFPvo20NCe",
        "outputId": "a1edbb90-d95e-4dce-f343-395190b589a3"
      },
      "execution_count": 7,
      "outputs": [
        {
          "output_type": "execute_result",
          "data": {
            "text/plain": [
              "   YEAR  MONTH  DAY  DAY_OF_WEEK AIRLINE  FLIGHT_NUMBER TAIL_NUMBER  \\\n",
              "0  2015      1    1            4      AS             98      N407AS   \n",
              "1  2015      1    1            4      AA           2336      N3KUAA   \n",
              "2  2015      1    1            4      US            840      N171US   \n",
              "3  2015      1    1            4      AA            258      N3HYAA   \n",
              "4  2015      1    1            4      AS            135      N527AS   \n",
              "\n",
              "  ORIGIN_AIRPORT DESTINATION_AIRPORT  SCHEDULED_DEPARTURE  ...  ARRIVAL_TIME  \\\n",
              "0            ANC                 SEA                    5  ...         408.0   \n",
              "1            LAX                 PBI                   10  ...         741.0   \n",
              "2            SFO                 CLT                   20  ...         811.0   \n",
              "3            LAX                 MIA                   20  ...         756.0   \n",
              "4            SEA                 ANC                   25  ...         259.0   \n",
              "\n",
              "   ARRIVAL_DELAY  DIVERTED  CANCELLED  CANCELLATION_REASON  AIR_SYSTEM_DELAY  \\\n",
              "0          -22.0       0.0        0.0                  NaN               NaN   \n",
              "1           -9.0       0.0        0.0                  NaN               NaN   \n",
              "2            5.0       0.0        0.0                  NaN               NaN   \n",
              "3           -9.0       0.0        0.0                  NaN               NaN   \n",
              "4          -21.0       0.0        0.0                  NaN               NaN   \n",
              "\n",
              "   SECURITY_DELAY  AIRLINE_DELAY  LATE_AIRCRAFT_DELAY  WEATHER_DELAY  \n",
              "0             NaN            NaN                  NaN            NaN  \n",
              "1             NaN            NaN                  NaN            NaN  \n",
              "2             NaN            NaN                  NaN            NaN  \n",
              "3             NaN            NaN                  NaN            NaN  \n",
              "4             NaN            NaN                  NaN            NaN  \n",
              "\n",
              "[5 rows x 31 columns]"
            ],
            "text/html": [
              "\n",
              "  <div id=\"df-212a2264-05e6-498e-827c-f3311b557bd2\">\n",
              "    <div class=\"colab-df-container\">\n",
              "      <div>\n",
              "<style scoped>\n",
              "    .dataframe tbody tr th:only-of-type {\n",
              "        vertical-align: middle;\n",
              "    }\n",
              "\n",
              "    .dataframe tbody tr th {\n",
              "        vertical-align: top;\n",
              "    }\n",
              "\n",
              "    .dataframe thead th {\n",
              "        text-align: right;\n",
              "    }\n",
              "</style>\n",
              "<table border=\"1\" class=\"dataframe\">\n",
              "  <thead>\n",
              "    <tr style=\"text-align: right;\">\n",
              "      <th></th>\n",
              "      <th>YEAR</th>\n",
              "      <th>MONTH</th>\n",
              "      <th>DAY</th>\n",
              "      <th>DAY_OF_WEEK</th>\n",
              "      <th>AIRLINE</th>\n",
              "      <th>FLIGHT_NUMBER</th>\n",
              "      <th>TAIL_NUMBER</th>\n",
              "      <th>ORIGIN_AIRPORT</th>\n",
              "      <th>DESTINATION_AIRPORT</th>\n",
              "      <th>SCHEDULED_DEPARTURE</th>\n",
              "      <th>...</th>\n",
              "      <th>ARRIVAL_TIME</th>\n",
              "      <th>ARRIVAL_DELAY</th>\n",
              "      <th>DIVERTED</th>\n",
              "      <th>CANCELLED</th>\n",
              "      <th>CANCELLATION_REASON</th>\n",
              "      <th>AIR_SYSTEM_DELAY</th>\n",
              "      <th>SECURITY_DELAY</th>\n",
              "      <th>AIRLINE_DELAY</th>\n",
              "      <th>LATE_AIRCRAFT_DELAY</th>\n",
              "      <th>WEATHER_DELAY</th>\n",
              "    </tr>\n",
              "  </thead>\n",
              "  <tbody>\n",
              "    <tr>\n",
              "      <th>0</th>\n",
              "      <td>2015</td>\n",
              "      <td>1</td>\n",
              "      <td>1</td>\n",
              "      <td>4</td>\n",
              "      <td>AS</td>\n",
              "      <td>98</td>\n",
              "      <td>N407AS</td>\n",
              "      <td>ANC</td>\n",
              "      <td>SEA</td>\n",
              "      <td>5</td>\n",
              "      <td>...</td>\n",
              "      <td>408.0</td>\n",
              "      <td>-22.0</td>\n",
              "      <td>0.0</td>\n",
              "      <td>0.0</td>\n",
              "      <td>NaN</td>\n",
              "      <td>NaN</td>\n",
              "      <td>NaN</td>\n",
              "      <td>NaN</td>\n",
              "      <td>NaN</td>\n",
              "      <td>NaN</td>\n",
              "    </tr>\n",
              "    <tr>\n",
              "      <th>1</th>\n",
              "      <td>2015</td>\n",
              "      <td>1</td>\n",
              "      <td>1</td>\n",
              "      <td>4</td>\n",
              "      <td>AA</td>\n",
              "      <td>2336</td>\n",
              "      <td>N3KUAA</td>\n",
              "      <td>LAX</td>\n",
              "      <td>PBI</td>\n",
              "      <td>10</td>\n",
              "      <td>...</td>\n",
              "      <td>741.0</td>\n",
              "      <td>-9.0</td>\n",
              "      <td>0.0</td>\n",
              "      <td>0.0</td>\n",
              "      <td>NaN</td>\n",
              "      <td>NaN</td>\n",
              "      <td>NaN</td>\n",
              "      <td>NaN</td>\n",
              "      <td>NaN</td>\n",
              "      <td>NaN</td>\n",
              "    </tr>\n",
              "    <tr>\n",
              "      <th>2</th>\n",
              "      <td>2015</td>\n",
              "      <td>1</td>\n",
              "      <td>1</td>\n",
              "      <td>4</td>\n",
              "      <td>US</td>\n",
              "      <td>840</td>\n",
              "      <td>N171US</td>\n",
              "      <td>SFO</td>\n",
              "      <td>CLT</td>\n",
              "      <td>20</td>\n",
              "      <td>...</td>\n",
              "      <td>811.0</td>\n",
              "      <td>5.0</td>\n",
              "      <td>0.0</td>\n",
              "      <td>0.0</td>\n",
              "      <td>NaN</td>\n",
              "      <td>NaN</td>\n",
              "      <td>NaN</td>\n",
              "      <td>NaN</td>\n",
              "      <td>NaN</td>\n",
              "      <td>NaN</td>\n",
              "    </tr>\n",
              "    <tr>\n",
              "      <th>3</th>\n",
              "      <td>2015</td>\n",
              "      <td>1</td>\n",
              "      <td>1</td>\n",
              "      <td>4</td>\n",
              "      <td>AA</td>\n",
              "      <td>258</td>\n",
              "      <td>N3HYAA</td>\n",
              "      <td>LAX</td>\n",
              "      <td>MIA</td>\n",
              "      <td>20</td>\n",
              "      <td>...</td>\n",
              "      <td>756.0</td>\n",
              "      <td>-9.0</td>\n",
              "      <td>0.0</td>\n",
              "      <td>0.0</td>\n",
              "      <td>NaN</td>\n",
              "      <td>NaN</td>\n",
              "      <td>NaN</td>\n",
              "      <td>NaN</td>\n",
              "      <td>NaN</td>\n",
              "      <td>NaN</td>\n",
              "    </tr>\n",
              "    <tr>\n",
              "      <th>4</th>\n",
              "      <td>2015</td>\n",
              "      <td>1</td>\n",
              "      <td>1</td>\n",
              "      <td>4</td>\n",
              "      <td>AS</td>\n",
              "      <td>135</td>\n",
              "      <td>N527AS</td>\n",
              "      <td>SEA</td>\n",
              "      <td>ANC</td>\n",
              "      <td>25</td>\n",
              "      <td>...</td>\n",
              "      <td>259.0</td>\n",
              "      <td>-21.0</td>\n",
              "      <td>0.0</td>\n",
              "      <td>0.0</td>\n",
              "      <td>NaN</td>\n",
              "      <td>NaN</td>\n",
              "      <td>NaN</td>\n",
              "      <td>NaN</td>\n",
              "      <td>NaN</td>\n",
              "      <td>NaN</td>\n",
              "    </tr>\n",
              "  </tbody>\n",
              "</table>\n",
              "<p>5 rows × 31 columns</p>\n",
              "</div>\n",
              "      <button class=\"colab-df-convert\" onclick=\"convertToInteractive('df-212a2264-05e6-498e-827c-f3311b557bd2')\"\n",
              "              title=\"Convert this dataframe to an interactive table.\"\n",
              "              style=\"display:none;\">\n",
              "        \n",
              "  <svg xmlns=\"http://www.w3.org/2000/svg\" height=\"24px\"viewBox=\"0 0 24 24\"\n",
              "       width=\"24px\">\n",
              "    <path d=\"M0 0h24v24H0V0z\" fill=\"none\"/>\n",
              "    <path d=\"M18.56 5.44l.94 2.06.94-2.06 2.06-.94-2.06-.94-.94-2.06-.94 2.06-2.06.94zm-11 1L8.5 8.5l.94-2.06 2.06-.94-2.06-.94L8.5 2.5l-.94 2.06-2.06.94zm10 10l.94 2.06.94-2.06 2.06-.94-2.06-.94-.94-2.06-.94 2.06-2.06.94z\"/><path d=\"M17.41 7.96l-1.37-1.37c-.4-.4-.92-.59-1.43-.59-.52 0-1.04.2-1.43.59L10.3 9.45l-7.72 7.72c-.78.78-.78 2.05 0 2.83L4 21.41c.39.39.9.59 1.41.59.51 0 1.02-.2 1.41-.59l7.78-7.78 2.81-2.81c.8-.78.8-2.07 0-2.86zM5.41 20L4 18.59l7.72-7.72 1.47 1.35L5.41 20z\"/>\n",
              "  </svg>\n",
              "      </button>\n",
              "      \n",
              "  <style>\n",
              "    .colab-df-container {\n",
              "      display:flex;\n",
              "      flex-wrap:wrap;\n",
              "      gap: 12px;\n",
              "    }\n",
              "\n",
              "    .colab-df-convert {\n",
              "      background-color: #E8F0FE;\n",
              "      border: none;\n",
              "      border-radius: 50%;\n",
              "      cursor: pointer;\n",
              "      display: none;\n",
              "      fill: #1967D2;\n",
              "      height: 32px;\n",
              "      padding: 0 0 0 0;\n",
              "      width: 32px;\n",
              "    }\n",
              "\n",
              "    .colab-df-convert:hover {\n",
              "      background-color: #E2EBFA;\n",
              "      box-shadow: 0px 1px 2px rgba(60, 64, 67, 0.3), 0px 1px 3px 1px rgba(60, 64, 67, 0.15);\n",
              "      fill: #174EA6;\n",
              "    }\n",
              "\n",
              "    [theme=dark] .colab-df-convert {\n",
              "      background-color: #3B4455;\n",
              "      fill: #D2E3FC;\n",
              "    }\n",
              "\n",
              "    [theme=dark] .colab-df-convert:hover {\n",
              "      background-color: #434B5C;\n",
              "      box-shadow: 0px 1px 3px 1px rgba(0, 0, 0, 0.15);\n",
              "      filter: drop-shadow(0px 1px 2px rgba(0, 0, 0, 0.3));\n",
              "      fill: #FFFFFF;\n",
              "    }\n",
              "  </style>\n",
              "\n",
              "      <script>\n",
              "        const buttonEl =\n",
              "          document.querySelector('#df-212a2264-05e6-498e-827c-f3311b557bd2 button.colab-df-convert');\n",
              "        buttonEl.style.display =\n",
              "          google.colab.kernel.accessAllowed ? 'block' : 'none';\n",
              "\n",
              "        async function convertToInteractive(key) {\n",
              "          const element = document.querySelector('#df-212a2264-05e6-498e-827c-f3311b557bd2');\n",
              "          const dataTable =\n",
              "            await google.colab.kernel.invokeFunction('convertToInteractive',\n",
              "                                                     [key], {});\n",
              "          if (!dataTable) return;\n",
              "\n",
              "          const docLinkHtml = 'Like what you see? Visit the ' +\n",
              "            '<a target=\"_blank\" href=https://colab.research.google.com/notebooks/data_table.ipynb>data table notebook</a>'\n",
              "            + ' to learn more about interactive tables.';\n",
              "          element.innerHTML = '';\n",
              "          dataTable['output_type'] = 'display_data';\n",
              "          await google.colab.output.renderOutput(dataTable, element);\n",
              "          const docLink = document.createElement('div');\n",
              "          docLink.innerHTML = docLinkHtml;\n",
              "          element.appendChild(docLink);\n",
              "        }\n",
              "      </script>\n",
              "    </div>\n",
              "  </div>\n",
              "  "
            ]
          },
          "metadata": {},
          "execution_count": 7
        }
      ]
    },
    {
      "cell_type": "code",
      "source": [
        "data.tail()"
      ],
      "metadata": {
        "colab": {
          "base_uri": "https://localhost:8080/",
          "height": 300
        },
        "id": "4e7ugTkn0Pvu",
        "outputId": "59edd13b-ceef-4e2f-a2c6-f094feb4f0c1"
      },
      "execution_count": 8,
      "outputs": [
        {
          "output_type": "execute_result",
          "data": {
            "text/plain": [
              "       YEAR  MONTH  DAY  DAY_OF_WEEK AIRLINE  FLIGHT_NUMBER TAIL_NUMBER  \\\n",
              "62001  2015      1    4            7      OO           4548      N161PQ   \n",
              "62002  2015      1    4            7      OO           4805      N459SW   \n",
              "62003  2015      1    4            7      OO           5531      N930SW   \n",
              "62004  2015      1    4            7      OO           7388      N560SW   \n",
              "62005  2015      1    4            7      DL            558      N901DE   \n",
              "\n",
              "      ORIGIN_AIRPORT DESTINATION_AIRPORT  SCHEDULED_DEPARTURE  ...  \\\n",
              "62001            SLC                 FCA                 2155  ...   \n",
              "62002            MSP                 RAP                 2155  ...   \n",
              "62003            DEN                 GTF                 2155  ...   \n",
              "62004            SLC                 EKO                 2155  ...   \n",
              "62005            ATL                 BNA                 2156  ...   \n",
              "\n",
              "       ARRIVAL_TIME  ARRIVAL_DELAY  DIVERTED  CANCELLED  CANCELLATION_REASON  \\\n",
              "62001        2341.0          -12.0       0.0        0.0                  NaN   \n",
              "62002           NaN            NaN       0.0        1.0                    A   \n",
              "62003          39.0           44.0       0.0        0.0                  NaN   \n",
              "62004        2145.0          -21.0       0.0        0.0                  NaN   \n",
              "62005           NaN            NaN       NaN        NaN                  NaN   \n",
              "\n",
              "       AIR_SYSTEM_DELAY  SECURITY_DELAY  AIRLINE_DELAY  LATE_AIRCRAFT_DELAY  \\\n",
              "62001               NaN             NaN            NaN                  NaN   \n",
              "62002               NaN             NaN            NaN                  NaN   \n",
              "62003               0.0             0.0           37.0                  7.0   \n",
              "62004               NaN             NaN            NaN                  NaN   \n",
              "62005               NaN             NaN            NaN                  NaN   \n",
              "\n",
              "       WEATHER_DELAY  \n",
              "62001            NaN  \n",
              "62002            NaN  \n",
              "62003            0.0  \n",
              "62004            NaN  \n",
              "62005            NaN  \n",
              "\n",
              "[5 rows x 31 columns]"
            ],
            "text/html": [
              "\n",
              "  <div id=\"df-3a39454a-51e2-41cc-9002-568d9cf49e24\">\n",
              "    <div class=\"colab-df-container\">\n",
              "      <div>\n",
              "<style scoped>\n",
              "    .dataframe tbody tr th:only-of-type {\n",
              "        vertical-align: middle;\n",
              "    }\n",
              "\n",
              "    .dataframe tbody tr th {\n",
              "        vertical-align: top;\n",
              "    }\n",
              "\n",
              "    .dataframe thead th {\n",
              "        text-align: right;\n",
              "    }\n",
              "</style>\n",
              "<table border=\"1\" class=\"dataframe\">\n",
              "  <thead>\n",
              "    <tr style=\"text-align: right;\">\n",
              "      <th></th>\n",
              "      <th>YEAR</th>\n",
              "      <th>MONTH</th>\n",
              "      <th>DAY</th>\n",
              "      <th>DAY_OF_WEEK</th>\n",
              "      <th>AIRLINE</th>\n",
              "      <th>FLIGHT_NUMBER</th>\n",
              "      <th>TAIL_NUMBER</th>\n",
              "      <th>ORIGIN_AIRPORT</th>\n",
              "      <th>DESTINATION_AIRPORT</th>\n",
              "      <th>SCHEDULED_DEPARTURE</th>\n",
              "      <th>...</th>\n",
              "      <th>ARRIVAL_TIME</th>\n",
              "      <th>ARRIVAL_DELAY</th>\n",
              "      <th>DIVERTED</th>\n",
              "      <th>CANCELLED</th>\n",
              "      <th>CANCELLATION_REASON</th>\n",
              "      <th>AIR_SYSTEM_DELAY</th>\n",
              "      <th>SECURITY_DELAY</th>\n",
              "      <th>AIRLINE_DELAY</th>\n",
              "      <th>LATE_AIRCRAFT_DELAY</th>\n",
              "      <th>WEATHER_DELAY</th>\n",
              "    </tr>\n",
              "  </thead>\n",
              "  <tbody>\n",
              "    <tr>\n",
              "      <th>62001</th>\n",
              "      <td>2015</td>\n",
              "      <td>1</td>\n",
              "      <td>4</td>\n",
              "      <td>7</td>\n",
              "      <td>OO</td>\n",
              "      <td>4548</td>\n",
              "      <td>N161PQ</td>\n",
              "      <td>SLC</td>\n",
              "      <td>FCA</td>\n",
              "      <td>2155</td>\n",
              "      <td>...</td>\n",
              "      <td>2341.0</td>\n",
              "      <td>-12.0</td>\n",
              "      <td>0.0</td>\n",
              "      <td>0.0</td>\n",
              "      <td>NaN</td>\n",
              "      <td>NaN</td>\n",
              "      <td>NaN</td>\n",
              "      <td>NaN</td>\n",
              "      <td>NaN</td>\n",
              "      <td>NaN</td>\n",
              "    </tr>\n",
              "    <tr>\n",
              "      <th>62002</th>\n",
              "      <td>2015</td>\n",
              "      <td>1</td>\n",
              "      <td>4</td>\n",
              "      <td>7</td>\n",
              "      <td>OO</td>\n",
              "      <td>4805</td>\n",
              "      <td>N459SW</td>\n",
              "      <td>MSP</td>\n",
              "      <td>RAP</td>\n",
              "      <td>2155</td>\n",
              "      <td>...</td>\n",
              "      <td>NaN</td>\n",
              "      <td>NaN</td>\n",
              "      <td>0.0</td>\n",
              "      <td>1.0</td>\n",
              "      <td>A</td>\n",
              "      <td>NaN</td>\n",
              "      <td>NaN</td>\n",
              "      <td>NaN</td>\n",
              "      <td>NaN</td>\n",
              "      <td>NaN</td>\n",
              "    </tr>\n",
              "    <tr>\n",
              "      <th>62003</th>\n",
              "      <td>2015</td>\n",
              "      <td>1</td>\n",
              "      <td>4</td>\n",
              "      <td>7</td>\n",
              "      <td>OO</td>\n",
              "      <td>5531</td>\n",
              "      <td>N930SW</td>\n",
              "      <td>DEN</td>\n",
              "      <td>GTF</td>\n",
              "      <td>2155</td>\n",
              "      <td>...</td>\n",
              "      <td>39.0</td>\n",
              "      <td>44.0</td>\n",
              "      <td>0.0</td>\n",
              "      <td>0.0</td>\n",
              "      <td>NaN</td>\n",
              "      <td>0.0</td>\n",
              "      <td>0.0</td>\n",
              "      <td>37.0</td>\n",
              "      <td>7.0</td>\n",
              "      <td>0.0</td>\n",
              "    </tr>\n",
              "    <tr>\n",
              "      <th>62004</th>\n",
              "      <td>2015</td>\n",
              "      <td>1</td>\n",
              "      <td>4</td>\n",
              "      <td>7</td>\n",
              "      <td>OO</td>\n",
              "      <td>7388</td>\n",
              "      <td>N560SW</td>\n",
              "      <td>SLC</td>\n",
              "      <td>EKO</td>\n",
              "      <td>2155</td>\n",
              "      <td>...</td>\n",
              "      <td>2145.0</td>\n",
              "      <td>-21.0</td>\n",
              "      <td>0.0</td>\n",
              "      <td>0.0</td>\n",
              "      <td>NaN</td>\n",
              "      <td>NaN</td>\n",
              "      <td>NaN</td>\n",
              "      <td>NaN</td>\n",
              "      <td>NaN</td>\n",
              "      <td>NaN</td>\n",
              "    </tr>\n",
              "    <tr>\n",
              "      <th>62005</th>\n",
              "      <td>2015</td>\n",
              "      <td>1</td>\n",
              "      <td>4</td>\n",
              "      <td>7</td>\n",
              "      <td>DL</td>\n",
              "      <td>558</td>\n",
              "      <td>N901DE</td>\n",
              "      <td>ATL</td>\n",
              "      <td>BNA</td>\n",
              "      <td>2156</td>\n",
              "      <td>...</td>\n",
              "      <td>NaN</td>\n",
              "      <td>NaN</td>\n",
              "      <td>NaN</td>\n",
              "      <td>NaN</td>\n",
              "      <td>NaN</td>\n",
              "      <td>NaN</td>\n",
              "      <td>NaN</td>\n",
              "      <td>NaN</td>\n",
              "      <td>NaN</td>\n",
              "      <td>NaN</td>\n",
              "    </tr>\n",
              "  </tbody>\n",
              "</table>\n",
              "<p>5 rows × 31 columns</p>\n",
              "</div>\n",
              "      <button class=\"colab-df-convert\" onclick=\"convertToInteractive('df-3a39454a-51e2-41cc-9002-568d9cf49e24')\"\n",
              "              title=\"Convert this dataframe to an interactive table.\"\n",
              "              style=\"display:none;\">\n",
              "        \n",
              "  <svg xmlns=\"http://www.w3.org/2000/svg\" height=\"24px\"viewBox=\"0 0 24 24\"\n",
              "       width=\"24px\">\n",
              "    <path d=\"M0 0h24v24H0V0z\" fill=\"none\"/>\n",
              "    <path d=\"M18.56 5.44l.94 2.06.94-2.06 2.06-.94-2.06-.94-.94-2.06-.94 2.06-2.06.94zm-11 1L8.5 8.5l.94-2.06 2.06-.94-2.06-.94L8.5 2.5l-.94 2.06-2.06.94zm10 10l.94 2.06.94-2.06 2.06-.94-2.06-.94-.94-2.06-.94 2.06-2.06.94z\"/><path d=\"M17.41 7.96l-1.37-1.37c-.4-.4-.92-.59-1.43-.59-.52 0-1.04.2-1.43.59L10.3 9.45l-7.72 7.72c-.78.78-.78 2.05 0 2.83L4 21.41c.39.39.9.59 1.41.59.51 0 1.02-.2 1.41-.59l7.78-7.78 2.81-2.81c.8-.78.8-2.07 0-2.86zM5.41 20L4 18.59l7.72-7.72 1.47 1.35L5.41 20z\"/>\n",
              "  </svg>\n",
              "      </button>\n",
              "      \n",
              "  <style>\n",
              "    .colab-df-container {\n",
              "      display:flex;\n",
              "      flex-wrap:wrap;\n",
              "      gap: 12px;\n",
              "    }\n",
              "\n",
              "    .colab-df-convert {\n",
              "      background-color: #E8F0FE;\n",
              "      border: none;\n",
              "      border-radius: 50%;\n",
              "      cursor: pointer;\n",
              "      display: none;\n",
              "      fill: #1967D2;\n",
              "      height: 32px;\n",
              "      padding: 0 0 0 0;\n",
              "      width: 32px;\n",
              "    }\n",
              "\n",
              "    .colab-df-convert:hover {\n",
              "      background-color: #E2EBFA;\n",
              "      box-shadow: 0px 1px 2px rgba(60, 64, 67, 0.3), 0px 1px 3px 1px rgba(60, 64, 67, 0.15);\n",
              "      fill: #174EA6;\n",
              "    }\n",
              "\n",
              "    [theme=dark] .colab-df-convert {\n",
              "      background-color: #3B4455;\n",
              "      fill: #D2E3FC;\n",
              "    }\n",
              "\n",
              "    [theme=dark] .colab-df-convert:hover {\n",
              "      background-color: #434B5C;\n",
              "      box-shadow: 0px 1px 3px 1px rgba(0, 0, 0, 0.15);\n",
              "      filter: drop-shadow(0px 1px 2px rgba(0, 0, 0, 0.3));\n",
              "      fill: #FFFFFF;\n",
              "    }\n",
              "  </style>\n",
              "\n",
              "      <script>\n",
              "        const buttonEl =\n",
              "          document.querySelector('#df-3a39454a-51e2-41cc-9002-568d9cf49e24 button.colab-df-convert');\n",
              "        buttonEl.style.display =\n",
              "          google.colab.kernel.accessAllowed ? 'block' : 'none';\n",
              "\n",
              "        async function convertToInteractive(key) {\n",
              "          const element = document.querySelector('#df-3a39454a-51e2-41cc-9002-568d9cf49e24');\n",
              "          const dataTable =\n",
              "            await google.colab.kernel.invokeFunction('convertToInteractive',\n",
              "                                                     [key], {});\n",
              "          if (!dataTable) return;\n",
              "\n",
              "          const docLinkHtml = 'Like what you see? Visit the ' +\n",
              "            '<a target=\"_blank\" href=https://colab.research.google.com/notebooks/data_table.ipynb>data table notebook</a>'\n",
              "            + ' to learn more about interactive tables.';\n",
              "          element.innerHTML = '';\n",
              "          dataTable['output_type'] = 'display_data';\n",
              "          await google.colab.output.renderOutput(dataTable, element);\n",
              "          const docLink = document.createElement('div');\n",
              "          docLink.innerHTML = docLinkHtml;\n",
              "          element.appendChild(docLink);\n",
              "        }\n",
              "      </script>\n",
              "    </div>\n",
              "  </div>\n",
              "  "
            ]
          },
          "metadata": {},
          "execution_count": 8
        }
      ]
    },
    {
      "cell_type": "code",
      "source": [
        "data"
      ],
      "metadata": {
        "colab": {
          "base_uri": "https://localhost:8080/",
          "height": 488
        },
        "id": "USvYSziG0RIu",
        "outputId": "e0a22eee-59ed-48aa-ad1a-af344165707d"
      },
      "execution_count": 9,
      "outputs": [
        {
          "output_type": "execute_result",
          "data": {
            "text/plain": [
              "       YEAR  MONTH  DAY  DAY_OF_WEEK AIRLINE  FLIGHT_NUMBER TAIL_NUMBER  \\\n",
              "0      2015      1    1            4      AS             98      N407AS   \n",
              "1      2015      1    1            4      AA           2336      N3KUAA   \n",
              "2      2015      1    1            4      US            840      N171US   \n",
              "3      2015      1    1            4      AA            258      N3HYAA   \n",
              "4      2015      1    1            4      AS            135      N527AS   \n",
              "...     ...    ...  ...          ...     ...            ...         ...   \n",
              "62001  2015      1    4            7      OO           4548      N161PQ   \n",
              "62002  2015      1    4            7      OO           4805      N459SW   \n",
              "62003  2015      1    4            7      OO           5531      N930SW   \n",
              "62004  2015      1    4            7      OO           7388      N560SW   \n",
              "62005  2015      1    4            7      DL            558      N901DE   \n",
              "\n",
              "      ORIGIN_AIRPORT DESTINATION_AIRPORT  SCHEDULED_DEPARTURE  ...  \\\n",
              "0                ANC                 SEA                    5  ...   \n",
              "1                LAX                 PBI                   10  ...   \n",
              "2                SFO                 CLT                   20  ...   \n",
              "3                LAX                 MIA                   20  ...   \n",
              "4                SEA                 ANC                   25  ...   \n",
              "...              ...                 ...                  ...  ...   \n",
              "62001            SLC                 FCA                 2155  ...   \n",
              "62002            MSP                 RAP                 2155  ...   \n",
              "62003            DEN                 GTF                 2155  ...   \n",
              "62004            SLC                 EKO                 2155  ...   \n",
              "62005            ATL                 BNA                 2156  ...   \n",
              "\n",
              "       ARRIVAL_TIME  ARRIVAL_DELAY  DIVERTED  CANCELLED  CANCELLATION_REASON  \\\n",
              "0             408.0          -22.0       0.0        0.0                  NaN   \n",
              "1             741.0           -9.0       0.0        0.0                  NaN   \n",
              "2             811.0            5.0       0.0        0.0                  NaN   \n",
              "3             756.0           -9.0       0.0        0.0                  NaN   \n",
              "4             259.0          -21.0       0.0        0.0                  NaN   \n",
              "...             ...            ...       ...        ...                  ...   \n",
              "62001        2341.0          -12.0       0.0        0.0                  NaN   \n",
              "62002           NaN            NaN       0.0        1.0                    A   \n",
              "62003          39.0           44.0       0.0        0.0                  NaN   \n",
              "62004        2145.0          -21.0       0.0        0.0                  NaN   \n",
              "62005           NaN            NaN       NaN        NaN                  NaN   \n",
              "\n",
              "       AIR_SYSTEM_DELAY  SECURITY_DELAY  AIRLINE_DELAY  LATE_AIRCRAFT_DELAY  \\\n",
              "0                   NaN             NaN            NaN                  NaN   \n",
              "1                   NaN             NaN            NaN                  NaN   \n",
              "2                   NaN             NaN            NaN                  NaN   \n",
              "3                   NaN             NaN            NaN                  NaN   \n",
              "4                   NaN             NaN            NaN                  NaN   \n",
              "...                 ...             ...            ...                  ...   \n",
              "62001               NaN             NaN            NaN                  NaN   \n",
              "62002               NaN             NaN            NaN                  NaN   \n",
              "62003               0.0             0.0           37.0                  7.0   \n",
              "62004               NaN             NaN            NaN                  NaN   \n",
              "62005               NaN             NaN            NaN                  NaN   \n",
              "\n",
              "       WEATHER_DELAY  \n",
              "0                NaN  \n",
              "1                NaN  \n",
              "2                NaN  \n",
              "3                NaN  \n",
              "4                NaN  \n",
              "...              ...  \n",
              "62001            NaN  \n",
              "62002            NaN  \n",
              "62003            0.0  \n",
              "62004            NaN  \n",
              "62005            NaN  \n",
              "\n",
              "[62006 rows x 31 columns]"
            ],
            "text/html": [
              "\n",
              "  <div id=\"df-bc7e3e91-d568-423c-af6f-8a9ee260c39c\">\n",
              "    <div class=\"colab-df-container\">\n",
              "      <div>\n",
              "<style scoped>\n",
              "    .dataframe tbody tr th:only-of-type {\n",
              "        vertical-align: middle;\n",
              "    }\n",
              "\n",
              "    .dataframe tbody tr th {\n",
              "        vertical-align: top;\n",
              "    }\n",
              "\n",
              "    .dataframe thead th {\n",
              "        text-align: right;\n",
              "    }\n",
              "</style>\n",
              "<table border=\"1\" class=\"dataframe\">\n",
              "  <thead>\n",
              "    <tr style=\"text-align: right;\">\n",
              "      <th></th>\n",
              "      <th>YEAR</th>\n",
              "      <th>MONTH</th>\n",
              "      <th>DAY</th>\n",
              "      <th>DAY_OF_WEEK</th>\n",
              "      <th>AIRLINE</th>\n",
              "      <th>FLIGHT_NUMBER</th>\n",
              "      <th>TAIL_NUMBER</th>\n",
              "      <th>ORIGIN_AIRPORT</th>\n",
              "      <th>DESTINATION_AIRPORT</th>\n",
              "      <th>SCHEDULED_DEPARTURE</th>\n",
              "      <th>...</th>\n",
              "      <th>ARRIVAL_TIME</th>\n",
              "      <th>ARRIVAL_DELAY</th>\n",
              "      <th>DIVERTED</th>\n",
              "      <th>CANCELLED</th>\n",
              "      <th>CANCELLATION_REASON</th>\n",
              "      <th>AIR_SYSTEM_DELAY</th>\n",
              "      <th>SECURITY_DELAY</th>\n",
              "      <th>AIRLINE_DELAY</th>\n",
              "      <th>LATE_AIRCRAFT_DELAY</th>\n",
              "      <th>WEATHER_DELAY</th>\n",
              "    </tr>\n",
              "  </thead>\n",
              "  <tbody>\n",
              "    <tr>\n",
              "      <th>0</th>\n",
              "      <td>2015</td>\n",
              "      <td>1</td>\n",
              "      <td>1</td>\n",
              "      <td>4</td>\n",
              "      <td>AS</td>\n",
              "      <td>98</td>\n",
              "      <td>N407AS</td>\n",
              "      <td>ANC</td>\n",
              "      <td>SEA</td>\n",
              "      <td>5</td>\n",
              "      <td>...</td>\n",
              "      <td>408.0</td>\n",
              "      <td>-22.0</td>\n",
              "      <td>0.0</td>\n",
              "      <td>0.0</td>\n",
              "      <td>NaN</td>\n",
              "      <td>NaN</td>\n",
              "      <td>NaN</td>\n",
              "      <td>NaN</td>\n",
              "      <td>NaN</td>\n",
              "      <td>NaN</td>\n",
              "    </tr>\n",
              "    <tr>\n",
              "      <th>1</th>\n",
              "      <td>2015</td>\n",
              "      <td>1</td>\n",
              "      <td>1</td>\n",
              "      <td>4</td>\n",
              "      <td>AA</td>\n",
              "      <td>2336</td>\n",
              "      <td>N3KUAA</td>\n",
              "      <td>LAX</td>\n",
              "      <td>PBI</td>\n",
              "      <td>10</td>\n",
              "      <td>...</td>\n",
              "      <td>741.0</td>\n",
              "      <td>-9.0</td>\n",
              "      <td>0.0</td>\n",
              "      <td>0.0</td>\n",
              "      <td>NaN</td>\n",
              "      <td>NaN</td>\n",
              "      <td>NaN</td>\n",
              "      <td>NaN</td>\n",
              "      <td>NaN</td>\n",
              "      <td>NaN</td>\n",
              "    </tr>\n",
              "    <tr>\n",
              "      <th>2</th>\n",
              "      <td>2015</td>\n",
              "      <td>1</td>\n",
              "      <td>1</td>\n",
              "      <td>4</td>\n",
              "      <td>US</td>\n",
              "      <td>840</td>\n",
              "      <td>N171US</td>\n",
              "      <td>SFO</td>\n",
              "      <td>CLT</td>\n",
              "      <td>20</td>\n",
              "      <td>...</td>\n",
              "      <td>811.0</td>\n",
              "      <td>5.0</td>\n",
              "      <td>0.0</td>\n",
              "      <td>0.0</td>\n",
              "      <td>NaN</td>\n",
              "      <td>NaN</td>\n",
              "      <td>NaN</td>\n",
              "      <td>NaN</td>\n",
              "      <td>NaN</td>\n",
              "      <td>NaN</td>\n",
              "    </tr>\n",
              "    <tr>\n",
              "      <th>3</th>\n",
              "      <td>2015</td>\n",
              "      <td>1</td>\n",
              "      <td>1</td>\n",
              "      <td>4</td>\n",
              "      <td>AA</td>\n",
              "      <td>258</td>\n",
              "      <td>N3HYAA</td>\n",
              "      <td>LAX</td>\n",
              "      <td>MIA</td>\n",
              "      <td>20</td>\n",
              "      <td>...</td>\n",
              "      <td>756.0</td>\n",
              "      <td>-9.0</td>\n",
              "      <td>0.0</td>\n",
              "      <td>0.0</td>\n",
              "      <td>NaN</td>\n",
              "      <td>NaN</td>\n",
              "      <td>NaN</td>\n",
              "      <td>NaN</td>\n",
              "      <td>NaN</td>\n",
              "      <td>NaN</td>\n",
              "    </tr>\n",
              "    <tr>\n",
              "      <th>4</th>\n",
              "      <td>2015</td>\n",
              "      <td>1</td>\n",
              "      <td>1</td>\n",
              "      <td>4</td>\n",
              "      <td>AS</td>\n",
              "      <td>135</td>\n",
              "      <td>N527AS</td>\n",
              "      <td>SEA</td>\n",
              "      <td>ANC</td>\n",
              "      <td>25</td>\n",
              "      <td>...</td>\n",
              "      <td>259.0</td>\n",
              "      <td>-21.0</td>\n",
              "      <td>0.0</td>\n",
              "      <td>0.0</td>\n",
              "      <td>NaN</td>\n",
              "      <td>NaN</td>\n",
              "      <td>NaN</td>\n",
              "      <td>NaN</td>\n",
              "      <td>NaN</td>\n",
              "      <td>NaN</td>\n",
              "    </tr>\n",
              "    <tr>\n",
              "      <th>...</th>\n",
              "      <td>...</td>\n",
              "      <td>...</td>\n",
              "      <td>...</td>\n",
              "      <td>...</td>\n",
              "      <td>...</td>\n",
              "      <td>...</td>\n",
              "      <td>...</td>\n",
              "      <td>...</td>\n",
              "      <td>...</td>\n",
              "      <td>...</td>\n",
              "      <td>...</td>\n",
              "      <td>...</td>\n",
              "      <td>...</td>\n",
              "      <td>...</td>\n",
              "      <td>...</td>\n",
              "      <td>...</td>\n",
              "      <td>...</td>\n",
              "      <td>...</td>\n",
              "      <td>...</td>\n",
              "      <td>...</td>\n",
              "      <td>...</td>\n",
              "    </tr>\n",
              "    <tr>\n",
              "      <th>62001</th>\n",
              "      <td>2015</td>\n",
              "      <td>1</td>\n",
              "      <td>4</td>\n",
              "      <td>7</td>\n",
              "      <td>OO</td>\n",
              "      <td>4548</td>\n",
              "      <td>N161PQ</td>\n",
              "      <td>SLC</td>\n",
              "      <td>FCA</td>\n",
              "      <td>2155</td>\n",
              "      <td>...</td>\n",
              "      <td>2341.0</td>\n",
              "      <td>-12.0</td>\n",
              "      <td>0.0</td>\n",
              "      <td>0.0</td>\n",
              "      <td>NaN</td>\n",
              "      <td>NaN</td>\n",
              "      <td>NaN</td>\n",
              "      <td>NaN</td>\n",
              "      <td>NaN</td>\n",
              "      <td>NaN</td>\n",
              "    </tr>\n",
              "    <tr>\n",
              "      <th>62002</th>\n",
              "      <td>2015</td>\n",
              "      <td>1</td>\n",
              "      <td>4</td>\n",
              "      <td>7</td>\n",
              "      <td>OO</td>\n",
              "      <td>4805</td>\n",
              "      <td>N459SW</td>\n",
              "      <td>MSP</td>\n",
              "      <td>RAP</td>\n",
              "      <td>2155</td>\n",
              "      <td>...</td>\n",
              "      <td>NaN</td>\n",
              "      <td>NaN</td>\n",
              "      <td>0.0</td>\n",
              "      <td>1.0</td>\n",
              "      <td>A</td>\n",
              "      <td>NaN</td>\n",
              "      <td>NaN</td>\n",
              "      <td>NaN</td>\n",
              "      <td>NaN</td>\n",
              "      <td>NaN</td>\n",
              "    </tr>\n",
              "    <tr>\n",
              "      <th>62003</th>\n",
              "      <td>2015</td>\n",
              "      <td>1</td>\n",
              "      <td>4</td>\n",
              "      <td>7</td>\n",
              "      <td>OO</td>\n",
              "      <td>5531</td>\n",
              "      <td>N930SW</td>\n",
              "      <td>DEN</td>\n",
              "      <td>GTF</td>\n",
              "      <td>2155</td>\n",
              "      <td>...</td>\n",
              "      <td>39.0</td>\n",
              "      <td>44.0</td>\n",
              "      <td>0.0</td>\n",
              "      <td>0.0</td>\n",
              "      <td>NaN</td>\n",
              "      <td>0.0</td>\n",
              "      <td>0.0</td>\n",
              "      <td>37.0</td>\n",
              "      <td>7.0</td>\n",
              "      <td>0.0</td>\n",
              "    </tr>\n",
              "    <tr>\n",
              "      <th>62004</th>\n",
              "      <td>2015</td>\n",
              "      <td>1</td>\n",
              "      <td>4</td>\n",
              "      <td>7</td>\n",
              "      <td>OO</td>\n",
              "      <td>7388</td>\n",
              "      <td>N560SW</td>\n",
              "      <td>SLC</td>\n",
              "      <td>EKO</td>\n",
              "      <td>2155</td>\n",
              "      <td>...</td>\n",
              "      <td>2145.0</td>\n",
              "      <td>-21.0</td>\n",
              "      <td>0.0</td>\n",
              "      <td>0.0</td>\n",
              "      <td>NaN</td>\n",
              "      <td>NaN</td>\n",
              "      <td>NaN</td>\n",
              "      <td>NaN</td>\n",
              "      <td>NaN</td>\n",
              "      <td>NaN</td>\n",
              "    </tr>\n",
              "    <tr>\n",
              "      <th>62005</th>\n",
              "      <td>2015</td>\n",
              "      <td>1</td>\n",
              "      <td>4</td>\n",
              "      <td>7</td>\n",
              "      <td>DL</td>\n",
              "      <td>558</td>\n",
              "      <td>N901DE</td>\n",
              "      <td>ATL</td>\n",
              "      <td>BNA</td>\n",
              "      <td>2156</td>\n",
              "      <td>...</td>\n",
              "      <td>NaN</td>\n",
              "      <td>NaN</td>\n",
              "      <td>NaN</td>\n",
              "      <td>NaN</td>\n",
              "      <td>NaN</td>\n",
              "      <td>NaN</td>\n",
              "      <td>NaN</td>\n",
              "      <td>NaN</td>\n",
              "      <td>NaN</td>\n",
              "      <td>NaN</td>\n",
              "    </tr>\n",
              "  </tbody>\n",
              "</table>\n",
              "<p>62006 rows × 31 columns</p>\n",
              "</div>\n",
              "      <button class=\"colab-df-convert\" onclick=\"convertToInteractive('df-bc7e3e91-d568-423c-af6f-8a9ee260c39c')\"\n",
              "              title=\"Convert this dataframe to an interactive table.\"\n",
              "              style=\"display:none;\">\n",
              "        \n",
              "  <svg xmlns=\"http://www.w3.org/2000/svg\" height=\"24px\"viewBox=\"0 0 24 24\"\n",
              "       width=\"24px\">\n",
              "    <path d=\"M0 0h24v24H0V0z\" fill=\"none\"/>\n",
              "    <path d=\"M18.56 5.44l.94 2.06.94-2.06 2.06-.94-2.06-.94-.94-2.06-.94 2.06-2.06.94zm-11 1L8.5 8.5l.94-2.06 2.06-.94-2.06-.94L8.5 2.5l-.94 2.06-2.06.94zm10 10l.94 2.06.94-2.06 2.06-.94-2.06-.94-.94-2.06-.94 2.06-2.06.94z\"/><path d=\"M17.41 7.96l-1.37-1.37c-.4-.4-.92-.59-1.43-.59-.52 0-1.04.2-1.43.59L10.3 9.45l-7.72 7.72c-.78.78-.78 2.05 0 2.83L4 21.41c.39.39.9.59 1.41.59.51 0 1.02-.2 1.41-.59l7.78-7.78 2.81-2.81c.8-.78.8-2.07 0-2.86zM5.41 20L4 18.59l7.72-7.72 1.47 1.35L5.41 20z\"/>\n",
              "  </svg>\n",
              "      </button>\n",
              "      \n",
              "  <style>\n",
              "    .colab-df-container {\n",
              "      display:flex;\n",
              "      flex-wrap:wrap;\n",
              "      gap: 12px;\n",
              "    }\n",
              "\n",
              "    .colab-df-convert {\n",
              "      background-color: #E8F0FE;\n",
              "      border: none;\n",
              "      border-radius: 50%;\n",
              "      cursor: pointer;\n",
              "      display: none;\n",
              "      fill: #1967D2;\n",
              "      height: 32px;\n",
              "      padding: 0 0 0 0;\n",
              "      width: 32px;\n",
              "    }\n",
              "\n",
              "    .colab-df-convert:hover {\n",
              "      background-color: #E2EBFA;\n",
              "      box-shadow: 0px 1px 2px rgba(60, 64, 67, 0.3), 0px 1px 3px 1px rgba(60, 64, 67, 0.15);\n",
              "      fill: #174EA6;\n",
              "    }\n",
              "\n",
              "    [theme=dark] .colab-df-convert {\n",
              "      background-color: #3B4455;\n",
              "      fill: #D2E3FC;\n",
              "    }\n",
              "\n",
              "    [theme=dark] .colab-df-convert:hover {\n",
              "      background-color: #434B5C;\n",
              "      box-shadow: 0px 1px 3px 1px rgba(0, 0, 0, 0.15);\n",
              "      filter: drop-shadow(0px 1px 2px rgba(0, 0, 0, 0.3));\n",
              "      fill: #FFFFFF;\n",
              "    }\n",
              "  </style>\n",
              "\n",
              "      <script>\n",
              "        const buttonEl =\n",
              "          document.querySelector('#df-bc7e3e91-d568-423c-af6f-8a9ee260c39c button.colab-df-convert');\n",
              "        buttonEl.style.display =\n",
              "          google.colab.kernel.accessAllowed ? 'block' : 'none';\n",
              "\n",
              "        async function convertToInteractive(key) {\n",
              "          const element = document.querySelector('#df-bc7e3e91-d568-423c-af6f-8a9ee260c39c');\n",
              "          const dataTable =\n",
              "            await google.colab.kernel.invokeFunction('convertToInteractive',\n",
              "                                                     [key], {});\n",
              "          if (!dataTable) return;\n",
              "\n",
              "          const docLinkHtml = 'Like what you see? Visit the ' +\n",
              "            '<a target=\"_blank\" href=https://colab.research.google.com/notebooks/data_table.ipynb>data table notebook</a>'\n",
              "            + ' to learn more about interactive tables.';\n",
              "          element.innerHTML = '';\n",
              "          dataTable['output_type'] = 'display_data';\n",
              "          await google.colab.output.renderOutput(dataTable, element);\n",
              "          const docLink = document.createElement('div');\n",
              "          docLink.innerHTML = docLinkHtml;\n",
              "          element.appendChild(docLink);\n",
              "        }\n",
              "      </script>\n",
              "    </div>\n",
              "  </div>\n",
              "  "
            ]
          },
          "metadata": {},
          "execution_count": 9
        }
      ]
    },
    {
      "cell_type": "code",
      "source": [
        "airport.isnull().sum()"
      ],
      "metadata": {
        "colab": {
          "base_uri": "https://localhost:8080/"
        },
        "id": "Fn9K2ehA0TnO",
        "outputId": "ec854aac-4385-468a-8b13-bb130a97241c"
      },
      "execution_count": 10,
      "outputs": [
        {
          "output_type": "execute_result",
          "data": {
            "text/plain": [
              "IATA_CODE    0\n",
              "AIRPORT      0\n",
              "CITY         0\n",
              "STATE        0\n",
              "COUNTRY      0\n",
              "LATITUDE     3\n",
              "LONGITUDE    3\n",
              "dtype: int64"
            ]
          },
          "metadata": {},
          "execution_count": 10
        }
      ]
    },
    {
      "cell_type": "code",
      "source": [
        "airport = airport.dropna(subset = ['LATITUDE','LONGITUDE'])"
      ],
      "metadata": {
        "id": "2fJUdzdn0cAW"
      },
      "execution_count": 11,
      "outputs": []
    },
    {
      "cell_type": "code",
      "source": [
        "airport.isnull().sum()"
      ],
      "metadata": {
        "colab": {
          "base_uri": "https://localhost:8080/"
        },
        "id": "fNoQub0Z0fCW",
        "outputId": "5577e2ea-b11d-4f67-8ea9-d84e47ad50f3"
      },
      "execution_count": 12,
      "outputs": [
        {
          "output_type": "execute_result",
          "data": {
            "text/plain": [
              "IATA_CODE    0\n",
              "AIRPORT      0\n",
              "CITY         0\n",
              "STATE        0\n",
              "COUNTRY      0\n",
              "LATITUDE     0\n",
              "LONGITUDE    0\n",
              "dtype: int64"
            ]
          },
          "metadata": {},
          "execution_count": 12
        }
      ]
    },
    {
      "cell_type": "code",
      "source": [
        "airport.head(10)\n"
      ],
      "metadata": {
        "colab": {
          "base_uri": "https://localhost:8080/",
          "height": 363
        },
        "id": "iuD07m8T0gR3",
        "outputId": "9f6e217d-60ff-466f-d8b5-82e36600eae7"
      },
      "execution_count": 13,
      "outputs": [
        {
          "output_type": "execute_result",
          "data": {
            "text/plain": [
              "  IATA_CODE                              AIRPORT           CITY STATE COUNTRY  \\\n",
              "0       ABE  Lehigh Valley International Airport      Allentown    PA     USA   \n",
              "1       ABI             Abilene Regional Airport        Abilene    TX     USA   \n",
              "2       ABQ    Albuquerque International Sunport    Albuquerque    NM     USA   \n",
              "3       ABR            Aberdeen Regional Airport       Aberdeen    SD     USA   \n",
              "4       ABY   Southwest Georgia Regional Airport         Albany    GA     USA   \n",
              "5       ACK           Nantucket Memorial Airport      Nantucket    MA     USA   \n",
              "6       ACT                Waco Regional Airport           Waco    TX     USA   \n",
              "7       ACV                       Arcata Airport  Arcata/Eureka    CA     USA   \n",
              "8       ACY  Atlantic City International Airport  Atlantic City    NJ     USA   \n",
              "9       ADK                         Adak Airport           Adak    AK     USA   \n",
              "\n",
              "   LATITUDE  LONGITUDE  \n",
              "0  40.65236  -75.44040  \n",
              "1  32.41132  -99.68190  \n",
              "2  35.04022 -106.60919  \n",
              "3  45.44906  -98.42183  \n",
              "4  31.53552  -84.19447  \n",
              "5  41.25305  -70.06018  \n",
              "6  31.61129  -97.23052  \n",
              "7  40.97812 -124.10862  \n",
              "8  39.45758  -74.57717  \n",
              "9  51.87796 -176.64603  "
            ],
            "text/html": [
              "\n",
              "  <div id=\"df-660b9c5e-865c-4620-9c33-6e603ccb66b1\">\n",
              "    <div class=\"colab-df-container\">\n",
              "      <div>\n",
              "<style scoped>\n",
              "    .dataframe tbody tr th:only-of-type {\n",
              "        vertical-align: middle;\n",
              "    }\n",
              "\n",
              "    .dataframe tbody tr th {\n",
              "        vertical-align: top;\n",
              "    }\n",
              "\n",
              "    .dataframe thead th {\n",
              "        text-align: right;\n",
              "    }\n",
              "</style>\n",
              "<table border=\"1\" class=\"dataframe\">\n",
              "  <thead>\n",
              "    <tr style=\"text-align: right;\">\n",
              "      <th></th>\n",
              "      <th>IATA_CODE</th>\n",
              "      <th>AIRPORT</th>\n",
              "      <th>CITY</th>\n",
              "      <th>STATE</th>\n",
              "      <th>COUNTRY</th>\n",
              "      <th>LATITUDE</th>\n",
              "      <th>LONGITUDE</th>\n",
              "    </tr>\n",
              "  </thead>\n",
              "  <tbody>\n",
              "    <tr>\n",
              "      <th>0</th>\n",
              "      <td>ABE</td>\n",
              "      <td>Lehigh Valley International Airport</td>\n",
              "      <td>Allentown</td>\n",
              "      <td>PA</td>\n",
              "      <td>USA</td>\n",
              "      <td>40.65236</td>\n",
              "      <td>-75.44040</td>\n",
              "    </tr>\n",
              "    <tr>\n",
              "      <th>1</th>\n",
              "      <td>ABI</td>\n",
              "      <td>Abilene Regional Airport</td>\n",
              "      <td>Abilene</td>\n",
              "      <td>TX</td>\n",
              "      <td>USA</td>\n",
              "      <td>32.41132</td>\n",
              "      <td>-99.68190</td>\n",
              "    </tr>\n",
              "    <tr>\n",
              "      <th>2</th>\n",
              "      <td>ABQ</td>\n",
              "      <td>Albuquerque International Sunport</td>\n",
              "      <td>Albuquerque</td>\n",
              "      <td>NM</td>\n",
              "      <td>USA</td>\n",
              "      <td>35.04022</td>\n",
              "      <td>-106.60919</td>\n",
              "    </tr>\n",
              "    <tr>\n",
              "      <th>3</th>\n",
              "      <td>ABR</td>\n",
              "      <td>Aberdeen Regional Airport</td>\n",
              "      <td>Aberdeen</td>\n",
              "      <td>SD</td>\n",
              "      <td>USA</td>\n",
              "      <td>45.44906</td>\n",
              "      <td>-98.42183</td>\n",
              "    </tr>\n",
              "    <tr>\n",
              "      <th>4</th>\n",
              "      <td>ABY</td>\n",
              "      <td>Southwest Georgia Regional Airport</td>\n",
              "      <td>Albany</td>\n",
              "      <td>GA</td>\n",
              "      <td>USA</td>\n",
              "      <td>31.53552</td>\n",
              "      <td>-84.19447</td>\n",
              "    </tr>\n",
              "    <tr>\n",
              "      <th>5</th>\n",
              "      <td>ACK</td>\n",
              "      <td>Nantucket Memorial Airport</td>\n",
              "      <td>Nantucket</td>\n",
              "      <td>MA</td>\n",
              "      <td>USA</td>\n",
              "      <td>41.25305</td>\n",
              "      <td>-70.06018</td>\n",
              "    </tr>\n",
              "    <tr>\n",
              "      <th>6</th>\n",
              "      <td>ACT</td>\n",
              "      <td>Waco Regional Airport</td>\n",
              "      <td>Waco</td>\n",
              "      <td>TX</td>\n",
              "      <td>USA</td>\n",
              "      <td>31.61129</td>\n",
              "      <td>-97.23052</td>\n",
              "    </tr>\n",
              "    <tr>\n",
              "      <th>7</th>\n",
              "      <td>ACV</td>\n",
              "      <td>Arcata Airport</td>\n",
              "      <td>Arcata/Eureka</td>\n",
              "      <td>CA</td>\n",
              "      <td>USA</td>\n",
              "      <td>40.97812</td>\n",
              "      <td>-124.10862</td>\n",
              "    </tr>\n",
              "    <tr>\n",
              "      <th>8</th>\n",
              "      <td>ACY</td>\n",
              "      <td>Atlantic City International Airport</td>\n",
              "      <td>Atlantic City</td>\n",
              "      <td>NJ</td>\n",
              "      <td>USA</td>\n",
              "      <td>39.45758</td>\n",
              "      <td>-74.57717</td>\n",
              "    </tr>\n",
              "    <tr>\n",
              "      <th>9</th>\n",
              "      <td>ADK</td>\n",
              "      <td>Adak Airport</td>\n",
              "      <td>Adak</td>\n",
              "      <td>AK</td>\n",
              "      <td>USA</td>\n",
              "      <td>51.87796</td>\n",
              "      <td>-176.64603</td>\n",
              "    </tr>\n",
              "  </tbody>\n",
              "</table>\n",
              "</div>\n",
              "      <button class=\"colab-df-convert\" onclick=\"convertToInteractive('df-660b9c5e-865c-4620-9c33-6e603ccb66b1')\"\n",
              "              title=\"Convert this dataframe to an interactive table.\"\n",
              "              style=\"display:none;\">\n",
              "        \n",
              "  <svg xmlns=\"http://www.w3.org/2000/svg\" height=\"24px\"viewBox=\"0 0 24 24\"\n",
              "       width=\"24px\">\n",
              "    <path d=\"M0 0h24v24H0V0z\" fill=\"none\"/>\n",
              "    <path d=\"M18.56 5.44l.94 2.06.94-2.06 2.06-.94-2.06-.94-.94-2.06-.94 2.06-2.06.94zm-11 1L8.5 8.5l.94-2.06 2.06-.94-2.06-.94L8.5 2.5l-.94 2.06-2.06.94zm10 10l.94 2.06.94-2.06 2.06-.94-2.06-.94-.94-2.06-.94 2.06-2.06.94z\"/><path d=\"M17.41 7.96l-1.37-1.37c-.4-.4-.92-.59-1.43-.59-.52 0-1.04.2-1.43.59L10.3 9.45l-7.72 7.72c-.78.78-.78 2.05 0 2.83L4 21.41c.39.39.9.59 1.41.59.51 0 1.02-.2 1.41-.59l7.78-7.78 2.81-2.81c.8-.78.8-2.07 0-2.86zM5.41 20L4 18.59l7.72-7.72 1.47 1.35L5.41 20z\"/>\n",
              "  </svg>\n",
              "      </button>\n",
              "      \n",
              "  <style>\n",
              "    .colab-df-container {\n",
              "      display:flex;\n",
              "      flex-wrap:wrap;\n",
              "      gap: 12px;\n",
              "    }\n",
              "\n",
              "    .colab-df-convert {\n",
              "      background-color: #E8F0FE;\n",
              "      border: none;\n",
              "      border-radius: 50%;\n",
              "      cursor: pointer;\n",
              "      display: none;\n",
              "      fill: #1967D2;\n",
              "      height: 32px;\n",
              "      padding: 0 0 0 0;\n",
              "      width: 32px;\n",
              "    }\n",
              "\n",
              "    .colab-df-convert:hover {\n",
              "      background-color: #E2EBFA;\n",
              "      box-shadow: 0px 1px 2px rgba(60, 64, 67, 0.3), 0px 1px 3px 1px rgba(60, 64, 67, 0.15);\n",
              "      fill: #174EA6;\n",
              "    }\n",
              "\n",
              "    [theme=dark] .colab-df-convert {\n",
              "      background-color: #3B4455;\n",
              "      fill: #D2E3FC;\n",
              "    }\n",
              "\n",
              "    [theme=dark] .colab-df-convert:hover {\n",
              "      background-color: #434B5C;\n",
              "      box-shadow: 0px 1px 3px 1px rgba(0, 0, 0, 0.15);\n",
              "      filter: drop-shadow(0px 1px 2px rgba(0, 0, 0, 0.3));\n",
              "      fill: #FFFFFF;\n",
              "    }\n",
              "  </style>\n",
              "\n",
              "      <script>\n",
              "        const buttonEl =\n",
              "          document.querySelector('#df-660b9c5e-865c-4620-9c33-6e603ccb66b1 button.colab-df-convert');\n",
              "        buttonEl.style.display =\n",
              "          google.colab.kernel.accessAllowed ? 'block' : 'none';\n",
              "\n",
              "        async function convertToInteractive(key) {\n",
              "          const element = document.querySelector('#df-660b9c5e-865c-4620-9c33-6e603ccb66b1');\n",
              "          const dataTable =\n",
              "            await google.colab.kernel.invokeFunction('convertToInteractive',\n",
              "                                                     [key], {});\n",
              "          if (!dataTable) return;\n",
              "\n",
              "          const docLinkHtml = 'Like what you see? Visit the ' +\n",
              "            '<a target=\"_blank\" href=https://colab.research.google.com/notebooks/data_table.ipynb>data table notebook</a>'\n",
              "            + ' to learn more about interactive tables.';\n",
              "          element.innerHTML = '';\n",
              "          dataTable['output_type'] = 'display_data';\n",
              "          await google.colab.output.renderOutput(dataTable, element);\n",
              "          const docLink = document.createElement('div');\n",
              "          docLink.innerHTML = docLinkHtml;\n",
              "          element.appendChild(docLink);\n",
              "        }\n",
              "      </script>\n",
              "    </div>\n",
              "  </div>\n",
              "  "
            ]
          },
          "metadata": {},
          "execution_count": 13
        }
      ]
    },
    {
      "cell_type": "code",
      "source": [
        "airlines"
      ],
      "metadata": {
        "colab": {
          "base_uri": "https://localhost:8080/",
          "height": 488
        },
        "id": "z7TqMOqh0jW-",
        "outputId": "9a103695-b7c8-4b04-b72e-7e835c6e4263"
      },
      "execution_count": 14,
      "outputs": [
        {
          "output_type": "execute_result",
          "data": {
            "text/plain": [
              "   IATA_CODE                       AIRLINE\n",
              "0         UA         United Air Lines Inc.\n",
              "1         AA        American Airlines Inc.\n",
              "2         US               US Airways Inc.\n",
              "3         F9        Frontier Airlines Inc.\n",
              "4         B6               JetBlue Airways\n",
              "5         OO         Skywest Airlines Inc.\n",
              "6         AS          Alaska Airlines Inc.\n",
              "7         NK              Spirit Air Lines\n",
              "8         WN        Southwest Airlines Co.\n",
              "9         DL          Delta Air Lines Inc.\n",
              "10        EV   Atlantic Southeast Airlines\n",
              "11        HA        Hawaiian Airlines Inc.\n",
              "12        MQ  American Eagle Airlines Inc.\n",
              "13        VX                Virgin America"
            ],
            "text/html": [
              "\n",
              "  <div id=\"df-45d8a1e7-5b32-4c7a-82d0-40fdcc7db448\">\n",
              "    <div class=\"colab-df-container\">\n",
              "      <div>\n",
              "<style scoped>\n",
              "    .dataframe tbody tr th:only-of-type {\n",
              "        vertical-align: middle;\n",
              "    }\n",
              "\n",
              "    .dataframe tbody tr th {\n",
              "        vertical-align: top;\n",
              "    }\n",
              "\n",
              "    .dataframe thead th {\n",
              "        text-align: right;\n",
              "    }\n",
              "</style>\n",
              "<table border=\"1\" class=\"dataframe\">\n",
              "  <thead>\n",
              "    <tr style=\"text-align: right;\">\n",
              "      <th></th>\n",
              "      <th>IATA_CODE</th>\n",
              "      <th>AIRLINE</th>\n",
              "    </tr>\n",
              "  </thead>\n",
              "  <tbody>\n",
              "    <tr>\n",
              "      <th>0</th>\n",
              "      <td>UA</td>\n",
              "      <td>United Air Lines Inc.</td>\n",
              "    </tr>\n",
              "    <tr>\n",
              "      <th>1</th>\n",
              "      <td>AA</td>\n",
              "      <td>American Airlines Inc.</td>\n",
              "    </tr>\n",
              "    <tr>\n",
              "      <th>2</th>\n",
              "      <td>US</td>\n",
              "      <td>US Airways Inc.</td>\n",
              "    </tr>\n",
              "    <tr>\n",
              "      <th>3</th>\n",
              "      <td>F9</td>\n",
              "      <td>Frontier Airlines Inc.</td>\n",
              "    </tr>\n",
              "    <tr>\n",
              "      <th>4</th>\n",
              "      <td>B6</td>\n",
              "      <td>JetBlue Airways</td>\n",
              "    </tr>\n",
              "    <tr>\n",
              "      <th>5</th>\n",
              "      <td>OO</td>\n",
              "      <td>Skywest Airlines Inc.</td>\n",
              "    </tr>\n",
              "    <tr>\n",
              "      <th>6</th>\n",
              "      <td>AS</td>\n",
              "      <td>Alaska Airlines Inc.</td>\n",
              "    </tr>\n",
              "    <tr>\n",
              "      <th>7</th>\n",
              "      <td>NK</td>\n",
              "      <td>Spirit Air Lines</td>\n",
              "    </tr>\n",
              "    <tr>\n",
              "      <th>8</th>\n",
              "      <td>WN</td>\n",
              "      <td>Southwest Airlines Co.</td>\n",
              "    </tr>\n",
              "    <tr>\n",
              "      <th>9</th>\n",
              "      <td>DL</td>\n",
              "      <td>Delta Air Lines Inc.</td>\n",
              "    </tr>\n",
              "    <tr>\n",
              "      <th>10</th>\n",
              "      <td>EV</td>\n",
              "      <td>Atlantic Southeast Airlines</td>\n",
              "    </tr>\n",
              "    <tr>\n",
              "      <th>11</th>\n",
              "      <td>HA</td>\n",
              "      <td>Hawaiian Airlines Inc.</td>\n",
              "    </tr>\n",
              "    <tr>\n",
              "      <th>12</th>\n",
              "      <td>MQ</td>\n",
              "      <td>American Eagle Airlines Inc.</td>\n",
              "    </tr>\n",
              "    <tr>\n",
              "      <th>13</th>\n",
              "      <td>VX</td>\n",
              "      <td>Virgin America</td>\n",
              "    </tr>\n",
              "  </tbody>\n",
              "</table>\n",
              "</div>\n",
              "      <button class=\"colab-df-convert\" onclick=\"convertToInteractive('df-45d8a1e7-5b32-4c7a-82d0-40fdcc7db448')\"\n",
              "              title=\"Convert this dataframe to an interactive table.\"\n",
              "              style=\"display:none;\">\n",
              "        \n",
              "  <svg xmlns=\"http://www.w3.org/2000/svg\" height=\"24px\"viewBox=\"0 0 24 24\"\n",
              "       width=\"24px\">\n",
              "    <path d=\"M0 0h24v24H0V0z\" fill=\"none\"/>\n",
              "    <path d=\"M18.56 5.44l.94 2.06.94-2.06 2.06-.94-2.06-.94-.94-2.06-.94 2.06-2.06.94zm-11 1L8.5 8.5l.94-2.06 2.06-.94-2.06-.94L8.5 2.5l-.94 2.06-2.06.94zm10 10l.94 2.06.94-2.06 2.06-.94-2.06-.94-.94-2.06-.94 2.06-2.06.94z\"/><path d=\"M17.41 7.96l-1.37-1.37c-.4-.4-.92-.59-1.43-.59-.52 0-1.04.2-1.43.59L10.3 9.45l-7.72 7.72c-.78.78-.78 2.05 0 2.83L4 21.41c.39.39.9.59 1.41.59.51 0 1.02-.2 1.41-.59l7.78-7.78 2.81-2.81c.8-.78.8-2.07 0-2.86zM5.41 20L4 18.59l7.72-7.72 1.47 1.35L5.41 20z\"/>\n",
              "  </svg>\n",
              "      </button>\n",
              "      \n",
              "  <style>\n",
              "    .colab-df-container {\n",
              "      display:flex;\n",
              "      flex-wrap:wrap;\n",
              "      gap: 12px;\n",
              "    }\n",
              "\n",
              "    .colab-df-convert {\n",
              "      background-color: #E8F0FE;\n",
              "      border: none;\n",
              "      border-radius: 50%;\n",
              "      cursor: pointer;\n",
              "      display: none;\n",
              "      fill: #1967D2;\n",
              "      height: 32px;\n",
              "      padding: 0 0 0 0;\n",
              "      width: 32px;\n",
              "    }\n",
              "\n",
              "    .colab-df-convert:hover {\n",
              "      background-color: #E2EBFA;\n",
              "      box-shadow: 0px 1px 2px rgba(60, 64, 67, 0.3), 0px 1px 3px 1px rgba(60, 64, 67, 0.15);\n",
              "      fill: #174EA6;\n",
              "    }\n",
              "\n",
              "    [theme=dark] .colab-df-convert {\n",
              "      background-color: #3B4455;\n",
              "      fill: #D2E3FC;\n",
              "    }\n",
              "\n",
              "    [theme=dark] .colab-df-convert:hover {\n",
              "      background-color: #434B5C;\n",
              "      box-shadow: 0px 1px 3px 1px rgba(0, 0, 0, 0.15);\n",
              "      filter: drop-shadow(0px 1px 2px rgba(0, 0, 0, 0.3));\n",
              "      fill: #FFFFFF;\n",
              "    }\n",
              "  </style>\n",
              "\n",
              "      <script>\n",
              "        const buttonEl =\n",
              "          document.querySelector('#df-45d8a1e7-5b32-4c7a-82d0-40fdcc7db448 button.colab-df-convert');\n",
              "        buttonEl.style.display =\n",
              "          google.colab.kernel.accessAllowed ? 'block' : 'none';\n",
              "\n",
              "        async function convertToInteractive(key) {\n",
              "          const element = document.querySelector('#df-45d8a1e7-5b32-4c7a-82d0-40fdcc7db448');\n",
              "          const dataTable =\n",
              "            await google.colab.kernel.invokeFunction('convertToInteractive',\n",
              "                                                     [key], {});\n",
              "          if (!dataTable) return;\n",
              "\n",
              "          const docLinkHtml = 'Like what you see? Visit the ' +\n",
              "            '<a target=\"_blank\" href=https://colab.research.google.com/notebooks/data_table.ipynb>data table notebook</a>'\n",
              "            + ' to learn more about interactive tables.';\n",
              "          element.innerHTML = '';\n",
              "          dataTable['output_type'] = 'display_data';\n",
              "          await google.colab.output.renderOutput(dataTable, element);\n",
              "          const docLink = document.createElement('div');\n",
              "          docLink.innerHTML = docLinkHtml;\n",
              "          element.appendChild(docLink);\n",
              "        }\n",
              "      </script>\n",
              "    </div>\n",
              "  </div>\n",
              "  "
            ]
          },
          "metadata": {},
          "execution_count": 14
        }
      ]
    },
    {
      "cell_type": "code",
      "source": [
        "Data_NULL = data.isnull().sum()*100/data.shape[0]\n",
        "Data_NULL"
      ],
      "metadata": {
        "colab": {
          "base_uri": "https://localhost:8080/"
        },
        "id": "wBkwVAFT0lY2",
        "outputId": "a20858c4-caa9-44d8-a976-9a9f370cded7"
      },
      "execution_count": 15,
      "outputs": [
        {
          "output_type": "execute_result",
          "data": {
            "text/plain": [
              "YEAR                    0.000000\n",
              "MONTH                   0.000000\n",
              "DAY                     0.000000\n",
              "DAY_OF_WEEK             0.000000\n",
              "AIRLINE                 0.000000\n",
              "FLIGHT_NUMBER           0.000000\n",
              "TAIL_NUMBER             0.111280\n",
              "ORIGIN_AIRPORT          0.000000\n",
              "DESTINATION_AIRPORT     0.000000\n",
              "SCHEDULED_DEPARTURE     0.000000\n",
              "DEPARTURE_TIME          2.311067\n",
              "DEPARTURE_DELAY         2.311067\n",
              "TAXI_OUT                2.359449\n",
              "WHEELS_OFF              2.359449\n",
              "SCHEDULED_TIME          0.001613\n",
              "ELAPSED_TIME            2.593297\n",
              "AIR_TIME                2.593297\n",
              "DISTANCE                0.001613\n",
              "WHEELS_ON               2.422346\n",
              "TAXI_IN                 2.422346\n",
              "SCHEDULED_ARRIVAL       0.001613\n",
              "ARRIVAL_TIME            2.422346\n",
              "ARRIVAL_DELAY           2.593297\n",
              "DIVERTED                0.001613\n",
              "CANCELLED               0.001613\n",
              "CANCELLATION_REASON    97.622811\n",
              "AIR_SYSTEM_DELAY       64.584073\n",
              "SECURITY_DELAY         64.584073\n",
              "AIRLINE_DELAY          64.584073\n",
              "LATE_AIRCRAFT_DELAY    64.584073\n",
              "WEATHER_DELAY          64.584073\n",
              "dtype: float64"
            ]
          },
          "metadata": {},
          "execution_count": 15
        }
      ]
    },
    {
      "cell_type": "code",
      "source": [
        "# Dropping of subset of null values\n",
        "data1 = data.dropna(subset = [\"TAIL_NUMBER\",'DEPARTURE_TIME','DEPARTURE_DELAY','TAXI_OUT','WHEELS_OFF','SCHEDULED_TIME',\n",
        "             'ELAPSED_TIME','AIR_TIME','WHEELS_ON','TAXI_IN','ARRIVAL_TIME','ARRIVAL_DELAY'])"
      ],
      "metadata": {
        "id": "57S8MxX30num"
      },
      "execution_count": 16,
      "outputs": []
    },
    {
      "cell_type": "code",
      "source": [
        "data1.shape"
      ],
      "metadata": {
        "colab": {
          "base_uri": "https://localhost:8080/"
        },
        "id": "JeChOaBp0q3G",
        "outputId": "a138f339-7e18-4d56-ce69-3e045670870b"
      },
      "execution_count": 17,
      "outputs": [
        {
          "output_type": "execute_result",
          "data": {
            "text/plain": [
              "(60398, 31)"
            ]
          },
          "metadata": {},
          "execution_count": 17
        }
      ]
    },
    {
      "cell_type": "code",
      "source": [
        "data1.isnull().sum()"
      ],
      "metadata": {
        "colab": {
          "base_uri": "https://localhost:8080/"
        },
        "id": "LGLRCX3U0tAt",
        "outputId": "6aff98db-d809-4696-e948-5c49f247e8ea"
      },
      "execution_count": 18,
      "outputs": [
        {
          "output_type": "execute_result",
          "data": {
            "text/plain": [
              "YEAR                       0\n",
              "MONTH                      0\n",
              "DAY                        0\n",
              "DAY_OF_WEEK                0\n",
              "AIRLINE                    0\n",
              "FLIGHT_NUMBER              0\n",
              "TAIL_NUMBER                0\n",
              "ORIGIN_AIRPORT             0\n",
              "DESTINATION_AIRPORT        0\n",
              "SCHEDULED_DEPARTURE        0\n",
              "DEPARTURE_TIME             0\n",
              "DEPARTURE_DELAY            0\n",
              "TAXI_OUT                   0\n",
              "WHEELS_OFF                 0\n",
              "SCHEDULED_TIME             0\n",
              "ELAPSED_TIME               0\n",
              "AIR_TIME                   0\n",
              "DISTANCE                   0\n",
              "WHEELS_ON                  0\n",
              "TAXI_IN                    0\n",
              "SCHEDULED_ARRIVAL          0\n",
              "ARRIVAL_TIME               0\n",
              "ARRIVAL_DELAY              0\n",
              "DIVERTED                   0\n",
              "CANCELLED                  0\n",
              "CANCELLATION_REASON    60398\n",
              "AIR_SYSTEM_DELAY       38438\n",
              "SECURITY_DELAY         38438\n",
              "AIRLINE_DELAY          38438\n",
              "LATE_AIRCRAFT_DELAY    38438\n",
              "WEATHER_DELAY          38438\n",
              "dtype: int64"
            ]
          },
          "metadata": {},
          "execution_count": 18
        }
      ]
    },
    {
      "cell_type": "code",
      "source": [
        "# Creting Dataset w.r.t different Types of Delays\n",
        "data11 = data1.dropna(subset = ['AIR_SYSTEM_DELAY','SECURITY_DELAY','AIRLINE_DELAY','LATE_AIRCRAFT_DELAY','WEATHER_DELAY'])\n",
        "data11 = data11.drop(['YEAR','MONTH','DAY','DAY_OF_WEEK','TAIL_NUMBER','SCHEDULED_DEPARTURE','DEPARTURE_TIME','SCHEDULED_TIME',\n",
        "                     'SCHEDULED_ARRIVAL','ARRIVAL_TIME','DIVERTED','CANCELLED','CANCELLATION_REASON','FLIGHT_NUMBER','WHEELS_OFF',\n",
        "                     'WHEELS_ON','AIR_TIME'],axis = 1)"
      ],
      "metadata": {
        "id": "7rWTnSRp0vZ3"
      },
      "execution_count": 19,
      "outputs": []
    },
    {
      "cell_type": "code",
      "source": [
        "data11.info()"
      ],
      "metadata": {
        "colab": {
          "base_uri": "https://localhost:8080/"
        },
        "id": "cDhHSK6p0z2W",
        "outputId": "e0fc4ad0-d7ca-4be4-b67b-ee8bbc453110"
      },
      "execution_count": 20,
      "outputs": [
        {
          "output_type": "stream",
          "name": "stdout",
          "text": [
            "<class 'pandas.core.frame.DataFrame'>\n",
            "Int64Index: 21960 entries, 27 to 62003\n",
            "Data columns (total 14 columns):\n",
            " #   Column               Non-Null Count  Dtype  \n",
            "---  ------               --------------  -----  \n",
            " 0   AIRLINE              21960 non-null  object \n",
            " 1   ORIGIN_AIRPORT       21960 non-null  object \n",
            " 2   DESTINATION_AIRPORT  21960 non-null  object \n",
            " 3   DEPARTURE_DELAY      21960 non-null  float64\n",
            " 4   TAXI_OUT             21960 non-null  float64\n",
            " 5   ELAPSED_TIME         21960 non-null  float64\n",
            " 6   DISTANCE             21960 non-null  float64\n",
            " 7   TAXI_IN              21960 non-null  float64\n",
            " 8   ARRIVAL_DELAY        21960 non-null  float64\n",
            " 9   AIR_SYSTEM_DELAY     21960 non-null  float64\n",
            " 10  SECURITY_DELAY       21960 non-null  float64\n",
            " 11  AIRLINE_DELAY        21960 non-null  float64\n",
            " 12  LATE_AIRCRAFT_DELAY  21960 non-null  float64\n",
            " 13  WEATHER_DELAY        21960 non-null  float64\n",
            "dtypes: float64(11), object(3)\n",
            "memory usage: 2.5+ MB\n"
          ]
        }
      ]
    },
    {
      "cell_type": "code",
      "source": [
        "# Creating Dataset by removing null values by not focussing fully on different types of Delays\n",
        "data2 = data1.drop(['CANCELLATION_REASON','AIR_SYSTEM_DELAY','SECURITY_DELAY','AIRLINE_DELAY',\n",
        "                    'LATE_AIRCRAFT_DELAY','WEATHER_DELAY'],axis = 1)"
      ],
      "metadata": {
        "id": "gPCrese601Cg"
      },
      "execution_count": 21,
      "outputs": []
    },
    {
      "cell_type": "code",
      "source": [
        "data2.isnull().sum()"
      ],
      "metadata": {
        "colab": {
          "base_uri": "https://localhost:8080/"
        },
        "id": "8Ct1O_yF05Hx",
        "outputId": "ebb33b3a-566e-459f-ddf1-62709658762c"
      },
      "execution_count": 22,
      "outputs": [
        {
          "output_type": "execute_result",
          "data": {
            "text/plain": [
              "YEAR                   0\n",
              "MONTH                  0\n",
              "DAY                    0\n",
              "DAY_OF_WEEK            0\n",
              "AIRLINE                0\n",
              "FLIGHT_NUMBER          0\n",
              "TAIL_NUMBER            0\n",
              "ORIGIN_AIRPORT         0\n",
              "DESTINATION_AIRPORT    0\n",
              "SCHEDULED_DEPARTURE    0\n",
              "DEPARTURE_TIME         0\n",
              "DEPARTURE_DELAY        0\n",
              "TAXI_OUT               0\n",
              "WHEELS_OFF             0\n",
              "SCHEDULED_TIME         0\n",
              "ELAPSED_TIME           0\n",
              "AIR_TIME               0\n",
              "DISTANCE               0\n",
              "WHEELS_ON              0\n",
              "TAXI_IN                0\n",
              "SCHEDULED_ARRIVAL      0\n",
              "ARRIVAL_TIME           0\n",
              "ARRIVAL_DELAY          0\n",
              "DIVERTED               0\n",
              "CANCELLED              0\n",
              "dtype: int64"
            ]
          },
          "metadata": {},
          "execution_count": 22
        }
      ]
    },
    {
      "cell_type": "code",
      "source": [
        "data2.shape"
      ],
      "metadata": {
        "colab": {
          "base_uri": "https://localhost:8080/"
        },
        "id": "s_2Bs37A06eO",
        "outputId": "ebff112e-33b7-4d89-dfaf-dcc9a2bee91b"
      },
      "execution_count": 23,
      "outputs": [
        {
          "output_type": "execute_result",
          "data": {
            "text/plain": [
              "(60398, 25)"
            ]
          },
          "metadata": {},
          "execution_count": 23
        }
      ]
    },
    {
      "cell_type": "code",
      "source": [
        "data2.info()"
      ],
      "metadata": {
        "colab": {
          "base_uri": "https://localhost:8080/"
        },
        "id": "9iYN_1Kr08h_",
        "outputId": "f23f4a3a-1e90-459f-b3fb-9e9f5188b0e1"
      },
      "execution_count": 24,
      "outputs": [
        {
          "output_type": "stream",
          "name": "stdout",
          "text": [
            "<class 'pandas.core.frame.DataFrame'>\n",
            "Int64Index: 60398 entries, 0 to 62004\n",
            "Data columns (total 25 columns):\n",
            " #   Column               Non-Null Count  Dtype  \n",
            "---  ------               --------------  -----  \n",
            " 0   YEAR                 60398 non-null  int64  \n",
            " 1   MONTH                60398 non-null  int64  \n",
            " 2   DAY                  60398 non-null  int64  \n",
            " 3   DAY_OF_WEEK          60398 non-null  int64  \n",
            " 4   AIRLINE              60398 non-null  object \n",
            " 5   FLIGHT_NUMBER        60398 non-null  int64  \n",
            " 6   TAIL_NUMBER          60398 non-null  object \n",
            " 7   ORIGIN_AIRPORT       60398 non-null  object \n",
            " 8   DESTINATION_AIRPORT  60398 non-null  object \n",
            " 9   SCHEDULED_DEPARTURE  60398 non-null  int64  \n",
            " 10  DEPARTURE_TIME       60398 non-null  float64\n",
            " 11  DEPARTURE_DELAY      60398 non-null  float64\n",
            " 12  TAXI_OUT             60398 non-null  float64\n",
            " 13  WHEELS_OFF           60398 non-null  float64\n",
            " 14  SCHEDULED_TIME       60398 non-null  float64\n",
            " 15  ELAPSED_TIME         60398 non-null  float64\n",
            " 16  AIR_TIME             60398 non-null  float64\n",
            " 17  DISTANCE             60398 non-null  float64\n",
            " 18  WHEELS_ON            60398 non-null  float64\n",
            " 19  TAXI_IN              60398 non-null  float64\n",
            " 20  SCHEDULED_ARRIVAL    60398 non-null  float64\n",
            " 21  ARRIVAL_TIME         60398 non-null  float64\n",
            " 22  ARRIVAL_DELAY        60398 non-null  float64\n",
            " 23  DIVERTED             60398 non-null  float64\n",
            " 24  CANCELLED            60398 non-null  float64\n",
            "dtypes: float64(15), int64(6), object(4)\n",
            "memory usage: 12.0+ MB\n"
          ]
        }
      ]
    },
    {
      "cell_type": "code",
      "source": [
        "data2.DEPARTURE_TIME.isnull().sum()"
      ],
      "metadata": {
        "colab": {
          "base_uri": "https://localhost:8080/"
        },
        "id": "BF-_X9KO0-te",
        "outputId": "a6ba2790-c772-4afd-d8a2-90d46235e416"
      },
      "execution_count": 25,
      "outputs": [
        {
          "output_type": "execute_result",
          "data": {
            "text/plain": [
              "0"
            ]
          },
          "metadata": {},
          "execution_count": 25
        }
      ]
    },
    {
      "cell_type": "code",
      "source": [
        "data2.DEPARTURE_TIME.dtype"
      ],
      "metadata": {
        "colab": {
          "base_uri": "https://localhost:8080/"
        },
        "id": "-0o9umSs1CAW",
        "outputId": "9f69c282-cb61-499f-c578-89f0e33d56ca"
      },
      "execution_count": 26,
      "outputs": [
        {
          "output_type": "execute_result",
          "data": {
            "text/plain": [
              "dtype('float64')"
            ]
          },
          "metadata": {},
          "execution_count": 26
        }
      ]
    },
    {
      "cell_type": "code",
      "source": [
        "data2.DEPARTURE_TIME"
      ],
      "metadata": {
        "colab": {
          "base_uri": "https://localhost:8080/"
        },
        "id": "hGjxYyMH1DzG",
        "outputId": "38206ea5-deb0-48f9-c4f3-8ede829e806a"
      },
      "execution_count": 27,
      "outputs": [
        {
          "output_type": "execute_result",
          "data": {
            "text/plain": [
              "0        2354.0\n",
              "1           2.0\n",
              "2          18.0\n",
              "3          15.0\n",
              "4          24.0\n",
              "          ...  \n",
              "61999       5.0\n",
              "62000    2242.0\n",
              "62001    2200.0\n",
              "62003    2242.0\n",
              "62004    2153.0\n",
              "Name: DEPARTURE_TIME, Length: 60398, dtype: float64"
            ]
          },
          "metadata": {},
          "execution_count": 27
        }
      ]
    },
    {
      "cell_type": "code",
      "source": [
        "\n",
        "def Format_Hourmin(hours):\n",
        "        if hours == 2400:\n",
        "            hours = 0\n",
        "        else:\n",
        "            hours = \"{0:04d}\".format(int(hours))\n",
        "            Hourmin = datetime.time(int(hours[0:2]), int(hours[2:4]))\n",
        "            return Hourmin"
      ],
      "metadata": {
        "id": "bhi8Ovcl1F83"
      },
      "execution_count": 29,
      "outputs": []
    },
    {
      "cell_type": "code",
      "source": [
        "data2['Actual_Departure'] =data1['DEPARTURE_TIME'].apply(Format_Hourmin)\n",
        "data2['Actual_Departure']"
      ],
      "metadata": {
        "colab": {
          "base_uri": "https://localhost:8080/"
        },
        "id": "JR3RiazM1JAH",
        "outputId": "8922bc2c-8648-4514-dfb8-739f1129ac34"
      },
      "execution_count": 30,
      "outputs": [
        {
          "output_type": "execute_result",
          "data": {
            "text/plain": [
              "0        23:54:00\n",
              "1        00:02:00\n",
              "2        00:18:00\n",
              "3        00:15:00\n",
              "4        00:24:00\n",
              "           ...   \n",
              "61999    00:05:00\n",
              "62000    22:42:00\n",
              "62001    22:00:00\n",
              "62003    22:42:00\n",
              "62004    21:53:00\n",
              "Name: Actual_Departure, Length: 60398, dtype: object"
            ]
          },
          "metadata": {},
          "execution_count": 30
        }
      ]
    },
    {
      "cell_type": "code",
      "source": [
        "data2.columns"
      ],
      "metadata": {
        "colab": {
          "base_uri": "https://localhost:8080/"
        },
        "id": "xQm9T7h61PQ2",
        "outputId": "66631afb-eda0-4846-ad39-48b4ab01af21"
      },
      "execution_count": 31,
      "outputs": [
        {
          "output_type": "execute_result",
          "data": {
            "text/plain": [
              "Index(['YEAR', 'MONTH', 'DAY', 'DAY_OF_WEEK', 'AIRLINE', 'FLIGHT_NUMBER',\n",
              "       'TAIL_NUMBER', 'ORIGIN_AIRPORT', 'DESTINATION_AIRPORT',\n",
              "       'SCHEDULED_DEPARTURE', 'DEPARTURE_TIME', 'DEPARTURE_DELAY', 'TAXI_OUT',\n",
              "       'WHEELS_OFF', 'SCHEDULED_TIME', 'ELAPSED_TIME', 'AIR_TIME', 'DISTANCE',\n",
              "       'WHEELS_ON', 'TAXI_IN', 'SCHEDULED_ARRIVAL', 'ARRIVAL_TIME',\n",
              "       'ARRIVAL_DELAY', 'DIVERTED', 'CANCELLED', 'Actual_Departure'],\n",
              "      dtype='object')"
            ]
          },
          "metadata": {},
          "execution_count": 31
        }
      ]
    },
    {
      "cell_type": "code",
      "source": [
        "data2['Date'] = pd.to_datetime(data2[['YEAR','MONTH','DAY']])\n",
        "data2.Date"
      ],
      "metadata": {
        "colab": {
          "base_uri": "https://localhost:8080/"
        },
        "id": "n76xa88R1RlG",
        "outputId": "920f5bc2-a953-4fbf-fd59-cc5ff3be3c56"
      },
      "execution_count": 32,
      "outputs": [
        {
          "output_type": "execute_result",
          "data": {
            "text/plain": [
              "0       2015-01-01\n",
              "1       2015-01-01\n",
              "2       2015-01-01\n",
              "3       2015-01-01\n",
              "4       2015-01-01\n",
              "           ...    \n",
              "61999   2015-01-04\n",
              "62000   2015-01-04\n",
              "62001   2015-01-04\n",
              "62003   2015-01-04\n",
              "62004   2015-01-04\n",
              "Name: Date, Length: 60398, dtype: datetime64[ns]"
            ]
          },
          "metadata": {},
          "execution_count": 32
        }
      ]
    },
    {
      "cell_type": "code",
      "source": [
        "from datetime import datetime\n",
        "datetime(year=2015, month=7, day=4)"
      ],
      "metadata": {
        "colab": {
          "base_uri": "https://localhost:8080/"
        },
        "id": "Ez0P8VWO4f6k",
        "outputId": "ce1d832d-f33d-4486-ff37-711e34b65d8f"
      },
      "execution_count": 61,
      "outputs": [
        {
          "output_type": "execute_result",
          "data": {
            "text/plain": [
              "datetime.datetime(2015, 7, 4, 0, 0)"
            ]
          },
          "metadata": {},
          "execution_count": 61
        }
      ]
    },
    {
      "cell_type": "code",
      "source": [
        "data2['Weekday'] = data2['Date'].dt.day_name()\n"
      ],
      "metadata": {
        "id": "e5gtlYSJ5P-a"
      },
      "execution_count": 70,
      "outputs": []
    },
    {
      "cell_type": "code",
      "source": [
        "data2['Actual_Departure'] =data1['DEPARTURE_TIME'].apply(Format_Hourmin)\n",
        "data2['Scheduled_Arrival'] =data1['SCHEDULED_ARRIVAL'].apply(Format_Hourmin)\n",
        "data2['Scheduled_Departure'] =data1['SCHEDULED_DEPARTURE'].apply(Format_Hourmin)\n",
        "data2['Actual_Arrival'] =data1['ARRIVAL_TIME'].apply(Format_Hourmin)"
      ],
      "metadata": {
        "id": "TUnhc-va1cEg"
      },
      "execution_count": 35,
      "outputs": []
    },
    {
      "cell_type": "code",
      "source": [
        "data2 = data2.merge(airlines, left_on='AIRLINE', right_on='IATA_CODE', how='inner')"
      ],
      "metadata": {
        "id": "H4kRvHiE1k4f"
      },
      "execution_count": 36,
      "outputs": []
    },
    {
      "cell_type": "code",
      "source": [
        "data2 = data2.drop(['AIRLINE_x','IATA_CODE'], axis=1)"
      ],
      "metadata": {
        "id": "pSkRcKt21nY-"
      },
      "execution_count": 37,
      "outputs": []
    },
    {
      "cell_type": "code",
      "source": [
        "data2 = data2.rename(columns={\"AIRLINE_y\":\"AIRLINE\"})"
      ],
      "metadata": {
        "id": "3Z4gS9UM1pwv"
      },
      "execution_count": 38,
      "outputs": []
    },
    {
      "cell_type": "code",
      "source": [
        "data2 = data2.merge(airport, left_on='ORIGIN_AIRPORT', right_on='IATA_CODE', how='inner')\n",
        "data2 = data2.merge(airport, left_on='DESTINATION_AIRPORT', right_on='IATA_CODE', how='inner')"
      ],
      "metadata": {
        "id": "EoFrcZoK104G"
      },
      "execution_count": 40,
      "outputs": []
    },
    {
      "cell_type": "code",
      "source": [
        "data2.columns"
      ],
      "metadata": {
        "colab": {
          "base_uri": "https://localhost:8080/"
        },
        "id": "zCIKdkgU15In",
        "outputId": "733aa6d6-0627-499a-dab4-9bc5dcc07723"
      },
      "execution_count": 41,
      "outputs": [
        {
          "output_type": "execute_result",
          "data": {
            "text/plain": [
              "Index(['YEAR', 'MONTH', 'DAY', 'DAY_OF_WEEK', 'FLIGHT_NUMBER', 'TAIL_NUMBER',\n",
              "       'ORIGIN_AIRPORT', 'DESTINATION_AIRPORT', 'SCHEDULED_DEPARTURE',\n",
              "       'DEPARTURE_TIME', 'DEPARTURE_DELAY', 'TAXI_OUT', 'WHEELS_OFF',\n",
              "       'SCHEDULED_TIME', 'ELAPSED_TIME', 'AIR_TIME', 'DISTANCE', 'WHEELS_ON',\n",
              "       'TAXI_IN', 'SCHEDULED_ARRIVAL', 'ARRIVAL_TIME', 'ARRIVAL_DELAY',\n",
              "       'DIVERTED', 'CANCELLED', 'Actual_Departure', 'Date',\n",
              "       'Scheduled_Arrival', 'Scheduled_Departure', 'Actual_Arrival', 'AIRLINE',\n",
              "       'IATA_CODE_x', 'AIRPORT_x', 'CITY_x', 'STATE_x', 'COUNTRY_x',\n",
              "       'LATITUDE_x', 'LONGITUDE_x', 'IATA_CODE_y', 'AIRPORT_y', 'CITY_y',\n",
              "       'STATE_y', 'COUNTRY_y', 'LATITUDE_y', 'LONGITUDE_y'],\n",
              "      dtype='object')"
            ]
          },
          "metadata": {},
          "execution_count": 41
        }
      ]
    },
    {
      "cell_type": "code",
      "source": [
        "data2 = data2.drop(['LATITUDE_x', 'LONGITUDE_x',\n",
        "       'STATE_y', 'COUNTRY_y', 'LATITUDE_y', 'LONGITUDE_y','STATE_x', 'COUNTRY_x'], axis=1)"
      ],
      "metadata": {
        "id": "egvwva9U17hv"
      },
      "execution_count": 42,
      "outputs": []
    },
    {
      "cell_type": "code",
      "source": [
        "data2 = data2.rename(columns={'IATA_CODE_x':'Org_Airport_Code','AIRPORT_x':'Org_Airport_Name','CITY_x':'Origin_city',\n",
        "                             'IATA_CODE_y':'Dest_Airport_Code','AIRPORT_y':'Dest_Airport_Name','CITY_y':'Destination_city'})"
      ],
      "metadata": {
        "id": "iHB0yhcJ191v"
      },
      "execution_count": 43,
      "outputs": []
    },
    {
      "cell_type": "code",
      "source": [
        "data2"
      ],
      "metadata": {
        "colab": {
          "base_uri": "https://localhost:8080/",
          "height": 835
        },
        "id": "4C2kAZ_V2Afg",
        "outputId": "df5c881e-2814-475d-99ce-5ba2ed3ff36a"
      },
      "execution_count": 44,
      "outputs": [
        {
          "output_type": "execute_result",
          "data": {
            "text/plain": [
              "       YEAR  MONTH  DAY  DAY_OF_WEEK  FLIGHT_NUMBER TAIL_NUMBER  \\\n",
              "0      2015      1    1            4             98      N407AS   \n",
              "1      2015      1    1            4            108      N309AS   \n",
              "2      2015      1    1            4            134      N464AS   \n",
              "3      2015      1    1            4            114      N303AS   \n",
              "4      2015      1    1            4            730      N423AS   \n",
              "...     ...    ...  ...          ...            ...         ...   \n",
              "60318  2015      1    1            4           2571      N879AS   \n",
              "60319  2015      1    2            5           2570      N830AS   \n",
              "60320  2015      1    2            5           2571      N877AS   \n",
              "60321  2015      1    3            6           2571      N902EV   \n",
              "60322  2015      1    4            7           2571      N909EV   \n",
              "\n",
              "      ORIGIN_AIRPORT DESTINATION_AIRPORT  SCHEDULED_DEPARTURE  DEPARTURE_TIME  \\\n",
              "0                ANC                 SEA                    5          2354.0   \n",
              "1                ANC                 SEA                   45            41.0   \n",
              "2                ANC                 SEA                  155           140.0   \n",
              "3                ANC                 SEA                  220           209.0   \n",
              "4                ANC                 SEA                  505           457.0   \n",
              "...              ...                 ...                  ...             ...   \n",
              "60318            MEI                 PIB                 2055          2051.0   \n",
              "60319            MEI                 PIB                 1440          1537.0   \n",
              "60320            MEI                 PIB                 2055          2351.0   \n",
              "60321            MEI                 PIB                 2055          2125.0   \n",
              "60322            MEI                 PIB                 2055          2221.0   \n",
              "\n",
              "       ...  Scheduled_Arrival  Scheduled_Departure  Actual_Arrival  \\\n",
              "0      ...           04:30:00             00:05:00        04:08:00   \n",
              "1      ...           05:09:00             00:45:00        04:55:00   \n",
              "2      ...           06:33:00             01:55:00        05:58:00   \n",
              "3      ...           06:40:00             02:20:00        06:28:00   \n",
              "4      ...           09:30:00             05:05:00        09:16:00   \n",
              "...    ...                ...                  ...             ...   \n",
              "60318  ...           21:30:00             20:55:00        21:20:00   \n",
              "60319  ...           15:15:00             14:40:00        16:06:00   \n",
              "60320  ...           21:30:00             20:55:00        00:25:00   \n",
              "60321  ...           21:30:00             20:55:00        21:57:00   \n",
              "60322  ...           21:30:00             20:55:00        22:46:00   \n",
              "\n",
              "                           AIRLINE  Org_Airport_Code  \\\n",
              "0             Alaska Airlines Inc.               ANC   \n",
              "1             Alaska Airlines Inc.               ANC   \n",
              "2             Alaska Airlines Inc.               ANC   \n",
              "3             Alaska Airlines Inc.               ANC   \n",
              "4             Alaska Airlines Inc.               ANC   \n",
              "...                            ...               ...   \n",
              "60318  Atlantic Southeast Airlines               MEI   \n",
              "60319  Atlantic Southeast Airlines               MEI   \n",
              "60320  Atlantic Southeast Airlines               MEI   \n",
              "60321  Atlantic Southeast Airlines               MEI   \n",
              "60322  Atlantic Southeast Airlines               MEI   \n",
              "\n",
              "                                  Org_Airport_Name  Origin_city  \\\n",
              "0      Ted Stevens Anchorage International Airport    Anchorage   \n",
              "1      Ted Stevens Anchorage International Airport    Anchorage   \n",
              "2      Ted Stevens Anchorage International Airport    Anchorage   \n",
              "3      Ted Stevens Anchorage International Airport    Anchorage   \n",
              "4      Ted Stevens Anchorage International Airport    Anchorage   \n",
              "...                                            ...          ...   \n",
              "60318                    Meridian Regional Airport     Meridian   \n",
              "60319                    Meridian Regional Airport     Meridian   \n",
              "60320                    Meridian Regional Airport     Meridian   \n",
              "60321                    Meridian Regional Airport     Meridian   \n",
              "60322                    Meridian Regional Airport     Meridian   \n",
              "\n",
              "       Dest_Airport_Code                     Dest_Airport_Name  \\\n",
              "0                    SEA  Seattle-Tacoma International Airport   \n",
              "1                    SEA  Seattle-Tacoma International Airport   \n",
              "2                    SEA  Seattle-Tacoma International Airport   \n",
              "3                    SEA  Seattle-Tacoma International Airport   \n",
              "4                    SEA  Seattle-Tacoma International Airport   \n",
              "...                  ...                                   ...   \n",
              "60318                PIB   Hattiesburg-Laurel Regional Airport   \n",
              "60319                PIB   Hattiesburg-Laurel Regional Airport   \n",
              "60320                PIB   Hattiesburg-Laurel Regional Airport   \n",
              "60321                PIB   Hattiesburg-Laurel Regional Airport   \n",
              "60322                PIB   Hattiesburg-Laurel Regional Airport   \n",
              "\n",
              "         Destination_city  \n",
              "0                 Seattle  \n",
              "1                 Seattle  \n",
              "2                 Seattle  \n",
              "3                 Seattle  \n",
              "4                 Seattle  \n",
              "...                   ...  \n",
              "60318  Hattiesburg-Laurel  \n",
              "60319  Hattiesburg-Laurel  \n",
              "60320  Hattiesburg-Laurel  \n",
              "60321  Hattiesburg-Laurel  \n",
              "60322  Hattiesburg-Laurel  \n",
              "\n",
              "[60323 rows x 36 columns]"
            ],
            "text/html": [
              "\n",
              "  <div id=\"df-210e47ec-b7bc-4508-a5d3-c98a1f9df984\">\n",
              "    <div class=\"colab-df-container\">\n",
              "      <div>\n",
              "<style scoped>\n",
              "    .dataframe tbody tr th:only-of-type {\n",
              "        vertical-align: middle;\n",
              "    }\n",
              "\n",
              "    .dataframe tbody tr th {\n",
              "        vertical-align: top;\n",
              "    }\n",
              "\n",
              "    .dataframe thead th {\n",
              "        text-align: right;\n",
              "    }\n",
              "</style>\n",
              "<table border=\"1\" class=\"dataframe\">\n",
              "  <thead>\n",
              "    <tr style=\"text-align: right;\">\n",
              "      <th></th>\n",
              "      <th>YEAR</th>\n",
              "      <th>MONTH</th>\n",
              "      <th>DAY</th>\n",
              "      <th>DAY_OF_WEEK</th>\n",
              "      <th>FLIGHT_NUMBER</th>\n",
              "      <th>TAIL_NUMBER</th>\n",
              "      <th>ORIGIN_AIRPORT</th>\n",
              "      <th>DESTINATION_AIRPORT</th>\n",
              "      <th>SCHEDULED_DEPARTURE</th>\n",
              "      <th>DEPARTURE_TIME</th>\n",
              "      <th>...</th>\n",
              "      <th>Scheduled_Arrival</th>\n",
              "      <th>Scheduled_Departure</th>\n",
              "      <th>Actual_Arrival</th>\n",
              "      <th>AIRLINE</th>\n",
              "      <th>Org_Airport_Code</th>\n",
              "      <th>Org_Airport_Name</th>\n",
              "      <th>Origin_city</th>\n",
              "      <th>Dest_Airport_Code</th>\n",
              "      <th>Dest_Airport_Name</th>\n",
              "      <th>Destination_city</th>\n",
              "    </tr>\n",
              "  </thead>\n",
              "  <tbody>\n",
              "    <tr>\n",
              "      <th>0</th>\n",
              "      <td>2015</td>\n",
              "      <td>1</td>\n",
              "      <td>1</td>\n",
              "      <td>4</td>\n",
              "      <td>98</td>\n",
              "      <td>N407AS</td>\n",
              "      <td>ANC</td>\n",
              "      <td>SEA</td>\n",
              "      <td>5</td>\n",
              "      <td>2354.0</td>\n",
              "      <td>...</td>\n",
              "      <td>04:30:00</td>\n",
              "      <td>00:05:00</td>\n",
              "      <td>04:08:00</td>\n",
              "      <td>Alaska Airlines Inc.</td>\n",
              "      <td>ANC</td>\n",
              "      <td>Ted Stevens Anchorage International Airport</td>\n",
              "      <td>Anchorage</td>\n",
              "      <td>SEA</td>\n",
              "      <td>Seattle-Tacoma International Airport</td>\n",
              "      <td>Seattle</td>\n",
              "    </tr>\n",
              "    <tr>\n",
              "      <th>1</th>\n",
              "      <td>2015</td>\n",
              "      <td>1</td>\n",
              "      <td>1</td>\n",
              "      <td>4</td>\n",
              "      <td>108</td>\n",
              "      <td>N309AS</td>\n",
              "      <td>ANC</td>\n",
              "      <td>SEA</td>\n",
              "      <td>45</td>\n",
              "      <td>41.0</td>\n",
              "      <td>...</td>\n",
              "      <td>05:09:00</td>\n",
              "      <td>00:45:00</td>\n",
              "      <td>04:55:00</td>\n",
              "      <td>Alaska Airlines Inc.</td>\n",
              "      <td>ANC</td>\n",
              "      <td>Ted Stevens Anchorage International Airport</td>\n",
              "      <td>Anchorage</td>\n",
              "      <td>SEA</td>\n",
              "      <td>Seattle-Tacoma International Airport</td>\n",
              "      <td>Seattle</td>\n",
              "    </tr>\n",
              "    <tr>\n",
              "      <th>2</th>\n",
              "      <td>2015</td>\n",
              "      <td>1</td>\n",
              "      <td>1</td>\n",
              "      <td>4</td>\n",
              "      <td>134</td>\n",
              "      <td>N464AS</td>\n",
              "      <td>ANC</td>\n",
              "      <td>SEA</td>\n",
              "      <td>155</td>\n",
              "      <td>140.0</td>\n",
              "      <td>...</td>\n",
              "      <td>06:33:00</td>\n",
              "      <td>01:55:00</td>\n",
              "      <td>05:58:00</td>\n",
              "      <td>Alaska Airlines Inc.</td>\n",
              "      <td>ANC</td>\n",
              "      <td>Ted Stevens Anchorage International Airport</td>\n",
              "      <td>Anchorage</td>\n",
              "      <td>SEA</td>\n",
              "      <td>Seattle-Tacoma International Airport</td>\n",
              "      <td>Seattle</td>\n",
              "    </tr>\n",
              "    <tr>\n",
              "      <th>3</th>\n",
              "      <td>2015</td>\n",
              "      <td>1</td>\n",
              "      <td>1</td>\n",
              "      <td>4</td>\n",
              "      <td>114</td>\n",
              "      <td>N303AS</td>\n",
              "      <td>ANC</td>\n",
              "      <td>SEA</td>\n",
              "      <td>220</td>\n",
              "      <td>209.0</td>\n",
              "      <td>...</td>\n",
              "      <td>06:40:00</td>\n",
              "      <td>02:20:00</td>\n",
              "      <td>06:28:00</td>\n",
              "      <td>Alaska Airlines Inc.</td>\n",
              "      <td>ANC</td>\n",
              "      <td>Ted Stevens Anchorage International Airport</td>\n",
              "      <td>Anchorage</td>\n",
              "      <td>SEA</td>\n",
              "      <td>Seattle-Tacoma International Airport</td>\n",
              "      <td>Seattle</td>\n",
              "    </tr>\n",
              "    <tr>\n",
              "      <th>4</th>\n",
              "      <td>2015</td>\n",
              "      <td>1</td>\n",
              "      <td>1</td>\n",
              "      <td>4</td>\n",
              "      <td>730</td>\n",
              "      <td>N423AS</td>\n",
              "      <td>ANC</td>\n",
              "      <td>SEA</td>\n",
              "      <td>505</td>\n",
              "      <td>457.0</td>\n",
              "      <td>...</td>\n",
              "      <td>09:30:00</td>\n",
              "      <td>05:05:00</td>\n",
              "      <td>09:16:00</td>\n",
              "      <td>Alaska Airlines Inc.</td>\n",
              "      <td>ANC</td>\n",
              "      <td>Ted Stevens Anchorage International Airport</td>\n",
              "      <td>Anchorage</td>\n",
              "      <td>SEA</td>\n",
              "      <td>Seattle-Tacoma International Airport</td>\n",
              "      <td>Seattle</td>\n",
              "    </tr>\n",
              "    <tr>\n",
              "      <th>...</th>\n",
              "      <td>...</td>\n",
              "      <td>...</td>\n",
              "      <td>...</td>\n",
              "      <td>...</td>\n",
              "      <td>...</td>\n",
              "      <td>...</td>\n",
              "      <td>...</td>\n",
              "      <td>...</td>\n",
              "      <td>...</td>\n",
              "      <td>...</td>\n",
              "      <td>...</td>\n",
              "      <td>...</td>\n",
              "      <td>...</td>\n",
              "      <td>...</td>\n",
              "      <td>...</td>\n",
              "      <td>...</td>\n",
              "      <td>...</td>\n",
              "      <td>...</td>\n",
              "      <td>...</td>\n",
              "      <td>...</td>\n",
              "      <td>...</td>\n",
              "    </tr>\n",
              "    <tr>\n",
              "      <th>60318</th>\n",
              "      <td>2015</td>\n",
              "      <td>1</td>\n",
              "      <td>1</td>\n",
              "      <td>4</td>\n",
              "      <td>2571</td>\n",
              "      <td>N879AS</td>\n",
              "      <td>MEI</td>\n",
              "      <td>PIB</td>\n",
              "      <td>2055</td>\n",
              "      <td>2051.0</td>\n",
              "      <td>...</td>\n",
              "      <td>21:30:00</td>\n",
              "      <td>20:55:00</td>\n",
              "      <td>21:20:00</td>\n",
              "      <td>Atlantic Southeast Airlines</td>\n",
              "      <td>MEI</td>\n",
              "      <td>Meridian Regional Airport</td>\n",
              "      <td>Meridian</td>\n",
              "      <td>PIB</td>\n",
              "      <td>Hattiesburg-Laurel Regional Airport</td>\n",
              "      <td>Hattiesburg-Laurel</td>\n",
              "    </tr>\n",
              "    <tr>\n",
              "      <th>60319</th>\n",
              "      <td>2015</td>\n",
              "      <td>1</td>\n",
              "      <td>2</td>\n",
              "      <td>5</td>\n",
              "      <td>2570</td>\n",
              "      <td>N830AS</td>\n",
              "      <td>MEI</td>\n",
              "      <td>PIB</td>\n",
              "      <td>1440</td>\n",
              "      <td>1537.0</td>\n",
              "      <td>...</td>\n",
              "      <td>15:15:00</td>\n",
              "      <td>14:40:00</td>\n",
              "      <td>16:06:00</td>\n",
              "      <td>Atlantic Southeast Airlines</td>\n",
              "      <td>MEI</td>\n",
              "      <td>Meridian Regional Airport</td>\n",
              "      <td>Meridian</td>\n",
              "      <td>PIB</td>\n",
              "      <td>Hattiesburg-Laurel Regional Airport</td>\n",
              "      <td>Hattiesburg-Laurel</td>\n",
              "    </tr>\n",
              "    <tr>\n",
              "      <th>60320</th>\n",
              "      <td>2015</td>\n",
              "      <td>1</td>\n",
              "      <td>2</td>\n",
              "      <td>5</td>\n",
              "      <td>2571</td>\n",
              "      <td>N877AS</td>\n",
              "      <td>MEI</td>\n",
              "      <td>PIB</td>\n",
              "      <td>2055</td>\n",
              "      <td>2351.0</td>\n",
              "      <td>...</td>\n",
              "      <td>21:30:00</td>\n",
              "      <td>20:55:00</td>\n",
              "      <td>00:25:00</td>\n",
              "      <td>Atlantic Southeast Airlines</td>\n",
              "      <td>MEI</td>\n",
              "      <td>Meridian Regional Airport</td>\n",
              "      <td>Meridian</td>\n",
              "      <td>PIB</td>\n",
              "      <td>Hattiesburg-Laurel Regional Airport</td>\n",
              "      <td>Hattiesburg-Laurel</td>\n",
              "    </tr>\n",
              "    <tr>\n",
              "      <th>60321</th>\n",
              "      <td>2015</td>\n",
              "      <td>1</td>\n",
              "      <td>3</td>\n",
              "      <td>6</td>\n",
              "      <td>2571</td>\n",
              "      <td>N902EV</td>\n",
              "      <td>MEI</td>\n",
              "      <td>PIB</td>\n",
              "      <td>2055</td>\n",
              "      <td>2125.0</td>\n",
              "      <td>...</td>\n",
              "      <td>21:30:00</td>\n",
              "      <td>20:55:00</td>\n",
              "      <td>21:57:00</td>\n",
              "      <td>Atlantic Southeast Airlines</td>\n",
              "      <td>MEI</td>\n",
              "      <td>Meridian Regional Airport</td>\n",
              "      <td>Meridian</td>\n",
              "      <td>PIB</td>\n",
              "      <td>Hattiesburg-Laurel Regional Airport</td>\n",
              "      <td>Hattiesburg-Laurel</td>\n",
              "    </tr>\n",
              "    <tr>\n",
              "      <th>60322</th>\n",
              "      <td>2015</td>\n",
              "      <td>1</td>\n",
              "      <td>4</td>\n",
              "      <td>7</td>\n",
              "      <td>2571</td>\n",
              "      <td>N909EV</td>\n",
              "      <td>MEI</td>\n",
              "      <td>PIB</td>\n",
              "      <td>2055</td>\n",
              "      <td>2221.0</td>\n",
              "      <td>...</td>\n",
              "      <td>21:30:00</td>\n",
              "      <td>20:55:00</td>\n",
              "      <td>22:46:00</td>\n",
              "      <td>Atlantic Southeast Airlines</td>\n",
              "      <td>MEI</td>\n",
              "      <td>Meridian Regional Airport</td>\n",
              "      <td>Meridian</td>\n",
              "      <td>PIB</td>\n",
              "      <td>Hattiesburg-Laurel Regional Airport</td>\n",
              "      <td>Hattiesburg-Laurel</td>\n",
              "    </tr>\n",
              "  </tbody>\n",
              "</table>\n",
              "<p>60323 rows × 36 columns</p>\n",
              "</div>\n",
              "      <button class=\"colab-df-convert\" onclick=\"convertToInteractive('df-210e47ec-b7bc-4508-a5d3-c98a1f9df984')\"\n",
              "              title=\"Convert this dataframe to an interactive table.\"\n",
              "              style=\"display:none;\">\n",
              "        \n",
              "  <svg xmlns=\"http://www.w3.org/2000/svg\" height=\"24px\"viewBox=\"0 0 24 24\"\n",
              "       width=\"24px\">\n",
              "    <path d=\"M0 0h24v24H0V0z\" fill=\"none\"/>\n",
              "    <path d=\"M18.56 5.44l.94 2.06.94-2.06 2.06-.94-2.06-.94-.94-2.06-.94 2.06-2.06.94zm-11 1L8.5 8.5l.94-2.06 2.06-.94-2.06-.94L8.5 2.5l-.94 2.06-2.06.94zm10 10l.94 2.06.94-2.06 2.06-.94-2.06-.94-.94-2.06-.94 2.06-2.06.94z\"/><path d=\"M17.41 7.96l-1.37-1.37c-.4-.4-.92-.59-1.43-.59-.52 0-1.04.2-1.43.59L10.3 9.45l-7.72 7.72c-.78.78-.78 2.05 0 2.83L4 21.41c.39.39.9.59 1.41.59.51 0 1.02-.2 1.41-.59l7.78-7.78 2.81-2.81c.8-.78.8-2.07 0-2.86zM5.41 20L4 18.59l7.72-7.72 1.47 1.35L5.41 20z\"/>\n",
              "  </svg>\n",
              "      </button>\n",
              "      \n",
              "  <style>\n",
              "    .colab-df-container {\n",
              "      display:flex;\n",
              "      flex-wrap:wrap;\n",
              "      gap: 12px;\n",
              "    }\n",
              "\n",
              "    .colab-df-convert {\n",
              "      background-color: #E8F0FE;\n",
              "      border: none;\n",
              "      border-radius: 50%;\n",
              "      cursor: pointer;\n",
              "      display: none;\n",
              "      fill: #1967D2;\n",
              "      height: 32px;\n",
              "      padding: 0 0 0 0;\n",
              "      width: 32px;\n",
              "    }\n",
              "\n",
              "    .colab-df-convert:hover {\n",
              "      background-color: #E2EBFA;\n",
              "      box-shadow: 0px 1px 2px rgba(60, 64, 67, 0.3), 0px 1px 3px 1px rgba(60, 64, 67, 0.15);\n",
              "      fill: #174EA6;\n",
              "    }\n",
              "\n",
              "    [theme=dark] .colab-df-convert {\n",
              "      background-color: #3B4455;\n",
              "      fill: #D2E3FC;\n",
              "    }\n",
              "\n",
              "    [theme=dark] .colab-df-convert:hover {\n",
              "      background-color: #434B5C;\n",
              "      box-shadow: 0px 1px 3px 1px rgba(0, 0, 0, 0.15);\n",
              "      filter: drop-shadow(0px 1px 2px rgba(0, 0, 0, 0.3));\n",
              "      fill: #FFFFFF;\n",
              "    }\n",
              "  </style>\n",
              "\n",
              "      <script>\n",
              "        const buttonEl =\n",
              "          document.querySelector('#df-210e47ec-b7bc-4508-a5d3-c98a1f9df984 button.colab-df-convert');\n",
              "        buttonEl.style.display =\n",
              "          google.colab.kernel.accessAllowed ? 'block' : 'none';\n",
              "\n",
              "        async function convertToInteractive(key) {\n",
              "          const element = document.querySelector('#df-210e47ec-b7bc-4508-a5d3-c98a1f9df984');\n",
              "          const dataTable =\n",
              "            await google.colab.kernel.invokeFunction('convertToInteractive',\n",
              "                                                     [key], {});\n",
              "          if (!dataTable) return;\n",
              "\n",
              "          const docLinkHtml = 'Like what you see? Visit the ' +\n",
              "            '<a target=\"_blank\" href=https://colab.research.google.com/notebooks/data_table.ipynb>data table notebook</a>'\n",
              "            + ' to learn more about interactive tables.';\n",
              "          element.innerHTML = '';\n",
              "          dataTable['output_type'] = 'display_data';\n",
              "          await google.colab.output.renderOutput(dataTable, element);\n",
              "          const docLink = document.createElement('div');\n",
              "          docLink.innerHTML = docLinkHtml;\n",
              "          element.appendChild(docLink);\n",
              "        }\n",
              "      </script>\n",
              "    </div>\n",
              "  </div>\n",
              "  "
            ]
          },
          "metadata": {},
          "execution_count": 44
        }
      ]
    },
    {
      "cell_type": "code",
      "source": [
        "from datetime import datetime\n",
        "datetime(year=2015, month=7, day=4)"
      ],
      "metadata": {
        "colab": {
          "base_uri": "https://localhost:8080/"
        },
        "id": "q7NAOtQR4mK7",
        "outputId": "c885d8fc-75c8-4253-85f8-c48fe053e87b"
      },
      "execution_count": 65,
      "outputs": [
        {
          "output_type": "execute_result",
          "data": {
            "text/plain": [
              "datetime.datetime(2015, 7, 4, 0, 0)"
            ]
          },
          "metadata": {},
          "execution_count": 65
        }
      ]
    },
    {
      "cell_type": "code",
      "source": [
        "import numpy as np\n",
        "import pandas as pd\n",
        "s = pd.date_range('2018-12-31', '2019-01-08', freq='D').to_series()\n",
        "s.dt.dayofweek\n"
      ],
      "metadata": {
        "colab": {
          "base_uri": "https://localhost:8080/"
        },
        "id": "0a4U05p76PYT",
        "outputId": "464863ba-12dd-48d2-d04f-b71272b85929"
      },
      "execution_count": 77,
      "outputs": [
        {
          "output_type": "execute_result",
          "data": {
            "text/plain": [
              "2018-12-31    0\n",
              "2019-01-01    1\n",
              "2019-01-02    2\n",
              "2019-01-03    3\n",
              "2019-01-04    4\n",
              "2019-01-05    5\n",
              "2019-01-06    6\n",
              "2019-01-07    0\n",
              "2019-01-08    1\n",
              "Freq: D, dtype: int64"
            ]
          },
          "metadata": {},
          "execution_count": 77
        }
      ]
    },
    {
      "cell_type": "code",
      "source": [
        "ReqdData = pd.DataFrame(data2[['AIRLINE','Org_Airport_Name','Origin_city',\n",
        "                               'Dest_Airport_Name','Destination_city','ORIGIN_AIRPORT',\n",
        "                               'DESTINATION_AIRPORT','DISTANCE','Actual_Departure','Date','Weekday',\n",
        "                               'Scheduled_Departure','DEPARTURE_DELAY','Actual_Arrival','Scheduled_Arrival','ARRIVAL_DELAY',\n",
        "                              'SCHEDULED_TIME','ELAPSED_TIME','AIR_TIME','TAXI_IN','TAXI_OUT','DIVERTED',]])"
      ],
      "metadata": {
        "id": "k9-UN_Nj5fHc"
      },
      "execution_count": 79,
      "outputs": []
    },
    {
      "cell_type": "code",
      "source": [
        "data2.DEPARTURE_TIME.dtype"
      ],
      "metadata": {
        "colab": {
          "base_uri": "https://localhost:8080/"
        },
        "id": "Mceq1Gnc2LUe",
        "outputId": "4247355c-8f96-4a7f-eab8-4b11bd6109db"
      },
      "execution_count": 46,
      "outputs": [
        {
          "output_type": "execute_result",
          "data": {
            "text/plain": [
              "dtype('float64')"
            ]
          },
          "metadata": {},
          "execution_count": 46
        }
      ]
    },
    {
      "cell_type": "code",
      "source": [
        "ReqdData = ReqdData.dropna(subset = ['Actual_Departure','Actual_Arrival'])"
      ],
      "metadata": {
        "id": "DExpaSkG2M-2"
      },
      "execution_count": 58,
      "outputs": []
    },
    {
      "cell_type": "code",
      "source": [
        "\n",
        "ReqdData.info()\n"
      ],
      "metadata": {
        "colab": {
          "base_uri": "https://localhost:8080/"
        },
        "id": "h-4VGr0-2pNP",
        "outputId": "116f3a34-abf9-41c5-fa66-4a77039d00ce"
      },
      "execution_count": 80,
      "outputs": [
        {
          "output_type": "stream",
          "name": "stdout",
          "text": [
            "<class 'pandas.core.frame.DataFrame'>\n",
            "Int64Index: 60323 entries, 0 to 60322\n",
            "Data columns (total 22 columns):\n",
            " #   Column               Non-Null Count  Dtype         \n",
            "---  ------               --------------  -----         \n",
            " 0   AIRLINE              60323 non-null  object        \n",
            " 1   Org_Airport_Name     60323 non-null  object        \n",
            " 2   Origin_city          60323 non-null  object        \n",
            " 3   Dest_Airport_Name    60323 non-null  object        \n",
            " 4   Destination_city     60323 non-null  object        \n",
            " 5   ORIGIN_AIRPORT       60323 non-null  object        \n",
            " 6   DESTINATION_AIRPORT  60323 non-null  object        \n",
            " 7   DISTANCE             60323 non-null  float64       \n",
            " 8   Actual_Departure     60319 non-null  object        \n",
            " 9   Date                 60323 non-null  datetime64[ns]\n",
            " 10  Weekday              60323 non-null  object        \n",
            " 11  Scheduled_Departure  60323 non-null  object        \n",
            " 12  DEPARTURE_DELAY      60323 non-null  float64       \n",
            " 13  Actual_Arrival       60291 non-null  object        \n",
            " 14  Scheduled_Arrival    60323 non-null  object        \n",
            " 15  ARRIVAL_DELAY        60323 non-null  float64       \n",
            " 16  SCHEDULED_TIME       60323 non-null  float64       \n",
            " 17  ELAPSED_TIME         60323 non-null  float64       \n",
            " 18  AIR_TIME             60323 non-null  float64       \n",
            " 19  TAXI_IN              60323 non-null  float64       \n",
            " 20  TAXI_OUT             60323 non-null  float64       \n",
            " 21  DIVERTED             60323 non-null  float64       \n",
            "dtypes: datetime64[ns](1), float64(9), object(12)\n",
            "memory usage: 10.6+ MB\n"
          ]
        }
      ]
    },
    {
      "cell_type": "code",
      "source": [
        "Flights = ReqdData\n",
        "Flights"
      ],
      "metadata": {
        "colab": {
          "base_uri": "https://localhost:8080/",
          "height": 835
        },
        "id": "bMGhbBgq6pKu",
        "outputId": "ce154055-6ec0-47aa-d52f-6131ff0baad7"
      },
      "execution_count": 81,
      "outputs": [
        {
          "output_type": "execute_result",
          "data": {
            "text/plain": [
              "                           AIRLINE  \\\n",
              "0             Alaska Airlines Inc.   \n",
              "1             Alaska Airlines Inc.   \n",
              "2             Alaska Airlines Inc.   \n",
              "3             Alaska Airlines Inc.   \n",
              "4             Alaska Airlines Inc.   \n",
              "...                            ...   \n",
              "60318  Atlantic Southeast Airlines   \n",
              "60319  Atlantic Southeast Airlines   \n",
              "60320  Atlantic Southeast Airlines   \n",
              "60321  Atlantic Southeast Airlines   \n",
              "60322  Atlantic Southeast Airlines   \n",
              "\n",
              "                                  Org_Airport_Name Origin_city  \\\n",
              "0      Ted Stevens Anchorage International Airport   Anchorage   \n",
              "1      Ted Stevens Anchorage International Airport   Anchorage   \n",
              "2      Ted Stevens Anchorage International Airport   Anchorage   \n",
              "3      Ted Stevens Anchorage International Airport   Anchorage   \n",
              "4      Ted Stevens Anchorage International Airport   Anchorage   \n",
              "...                                            ...         ...   \n",
              "60318                    Meridian Regional Airport    Meridian   \n",
              "60319                    Meridian Regional Airport    Meridian   \n",
              "60320                    Meridian Regional Airport    Meridian   \n",
              "60321                    Meridian Regional Airport    Meridian   \n",
              "60322                    Meridian Regional Airport    Meridian   \n",
              "\n",
              "                          Dest_Airport_Name    Destination_city  \\\n",
              "0      Seattle-Tacoma International Airport             Seattle   \n",
              "1      Seattle-Tacoma International Airport             Seattle   \n",
              "2      Seattle-Tacoma International Airport             Seattle   \n",
              "3      Seattle-Tacoma International Airport             Seattle   \n",
              "4      Seattle-Tacoma International Airport             Seattle   \n",
              "...                                     ...                 ...   \n",
              "60318   Hattiesburg-Laurel Regional Airport  Hattiesburg-Laurel   \n",
              "60319   Hattiesburg-Laurel Regional Airport  Hattiesburg-Laurel   \n",
              "60320   Hattiesburg-Laurel Regional Airport  Hattiesburg-Laurel   \n",
              "60321   Hattiesburg-Laurel Regional Airport  Hattiesburg-Laurel   \n",
              "60322   Hattiesburg-Laurel Regional Airport  Hattiesburg-Laurel   \n",
              "\n",
              "      ORIGIN_AIRPORT DESTINATION_AIRPORT  DISTANCE Actual_Departure  \\\n",
              "0                ANC                 SEA    1448.0         23:54:00   \n",
              "1                ANC                 SEA    1448.0         00:41:00   \n",
              "2                ANC                 SEA    1448.0         01:40:00   \n",
              "3                ANC                 SEA    1448.0         02:09:00   \n",
              "4                ANC                 SEA    1448.0         04:57:00   \n",
              "...              ...                 ...       ...              ...   \n",
              "60318            MEI                 PIB      69.0         20:51:00   \n",
              "60319            MEI                 PIB      69.0         15:37:00   \n",
              "60320            MEI                 PIB      69.0         23:51:00   \n",
              "60321            MEI                 PIB      69.0         21:25:00   \n",
              "60322            MEI                 PIB      69.0         22:21:00   \n",
              "\n",
              "            Date  ... DEPARTURE_DELAY Actual_Arrival  Scheduled_Arrival  \\\n",
              "0     2015-01-01  ...           -11.0       04:08:00           04:30:00   \n",
              "1     2015-01-01  ...            -4.0       04:55:00           05:09:00   \n",
              "2     2015-01-01  ...           -15.0       05:58:00           06:33:00   \n",
              "3     2015-01-01  ...           -11.0       06:28:00           06:40:00   \n",
              "4     2015-01-01  ...            -8.0       09:16:00           09:30:00   \n",
              "...          ...  ...             ...            ...                ...   \n",
              "60318 2015-01-01  ...            -4.0       21:20:00           21:30:00   \n",
              "60319 2015-01-02  ...            57.0       16:06:00           15:15:00   \n",
              "60320 2015-01-02  ...           176.0       00:25:00           21:30:00   \n",
              "60321 2015-01-03  ...            30.0       21:57:00           21:30:00   \n",
              "60322 2015-01-04  ...            86.0       22:46:00           21:30:00   \n",
              "\n",
              "      ARRIVAL_DELAY SCHEDULED_TIME  ELAPSED_TIME  AIR_TIME  TAXI_IN  TAXI_OUT  \\\n",
              "0             -22.0          205.0         194.0     169.0      4.0      21.0   \n",
              "1             -14.0          204.0         194.0     173.0      4.0      17.0   \n",
              "2             -35.0          218.0         198.0     170.0     11.0      17.0   \n",
              "3             -12.0          200.0         199.0     176.0      8.0      15.0   \n",
              "4             -14.0          205.0         199.0     179.0      4.0      16.0   \n",
              "...             ...            ...           ...       ...      ...       ...   \n",
              "60318         -10.0           35.0          29.0      21.0      3.0       5.0   \n",
              "60319          51.0           35.0          29.0      17.0      4.0       8.0   \n",
              "60320         175.0           35.0          34.0      21.0      4.0       9.0   \n",
              "60321          27.0           35.0          32.0      15.0      9.0       8.0   \n",
              "60322          76.0           35.0          25.0      16.0      3.0       6.0   \n",
              "\n",
              "       DIVERTED  \n",
              "0           0.0  \n",
              "1           0.0  \n",
              "2           0.0  \n",
              "3           0.0  \n",
              "4           0.0  \n",
              "...         ...  \n",
              "60318       0.0  \n",
              "60319       0.0  \n",
              "60320       0.0  \n",
              "60321       0.0  \n",
              "60322       0.0  \n",
              "\n",
              "[60323 rows x 22 columns]"
            ],
            "text/html": [
              "\n",
              "  <div id=\"df-64fe4796-692e-4148-b3c8-c620afc5c9bd\">\n",
              "    <div class=\"colab-df-container\">\n",
              "      <div>\n",
              "<style scoped>\n",
              "    .dataframe tbody tr th:only-of-type {\n",
              "        vertical-align: middle;\n",
              "    }\n",
              "\n",
              "    .dataframe tbody tr th {\n",
              "        vertical-align: top;\n",
              "    }\n",
              "\n",
              "    .dataframe thead th {\n",
              "        text-align: right;\n",
              "    }\n",
              "</style>\n",
              "<table border=\"1\" class=\"dataframe\">\n",
              "  <thead>\n",
              "    <tr style=\"text-align: right;\">\n",
              "      <th></th>\n",
              "      <th>AIRLINE</th>\n",
              "      <th>Org_Airport_Name</th>\n",
              "      <th>Origin_city</th>\n",
              "      <th>Dest_Airport_Name</th>\n",
              "      <th>Destination_city</th>\n",
              "      <th>ORIGIN_AIRPORT</th>\n",
              "      <th>DESTINATION_AIRPORT</th>\n",
              "      <th>DISTANCE</th>\n",
              "      <th>Actual_Departure</th>\n",
              "      <th>Date</th>\n",
              "      <th>...</th>\n",
              "      <th>DEPARTURE_DELAY</th>\n",
              "      <th>Actual_Arrival</th>\n",
              "      <th>Scheduled_Arrival</th>\n",
              "      <th>ARRIVAL_DELAY</th>\n",
              "      <th>SCHEDULED_TIME</th>\n",
              "      <th>ELAPSED_TIME</th>\n",
              "      <th>AIR_TIME</th>\n",
              "      <th>TAXI_IN</th>\n",
              "      <th>TAXI_OUT</th>\n",
              "      <th>DIVERTED</th>\n",
              "    </tr>\n",
              "  </thead>\n",
              "  <tbody>\n",
              "    <tr>\n",
              "      <th>0</th>\n",
              "      <td>Alaska Airlines Inc.</td>\n",
              "      <td>Ted Stevens Anchorage International Airport</td>\n",
              "      <td>Anchorage</td>\n",
              "      <td>Seattle-Tacoma International Airport</td>\n",
              "      <td>Seattle</td>\n",
              "      <td>ANC</td>\n",
              "      <td>SEA</td>\n",
              "      <td>1448.0</td>\n",
              "      <td>23:54:00</td>\n",
              "      <td>2015-01-01</td>\n",
              "      <td>...</td>\n",
              "      <td>-11.0</td>\n",
              "      <td>04:08:00</td>\n",
              "      <td>04:30:00</td>\n",
              "      <td>-22.0</td>\n",
              "      <td>205.0</td>\n",
              "      <td>194.0</td>\n",
              "      <td>169.0</td>\n",
              "      <td>4.0</td>\n",
              "      <td>21.0</td>\n",
              "      <td>0.0</td>\n",
              "    </tr>\n",
              "    <tr>\n",
              "      <th>1</th>\n",
              "      <td>Alaska Airlines Inc.</td>\n",
              "      <td>Ted Stevens Anchorage International Airport</td>\n",
              "      <td>Anchorage</td>\n",
              "      <td>Seattle-Tacoma International Airport</td>\n",
              "      <td>Seattle</td>\n",
              "      <td>ANC</td>\n",
              "      <td>SEA</td>\n",
              "      <td>1448.0</td>\n",
              "      <td>00:41:00</td>\n",
              "      <td>2015-01-01</td>\n",
              "      <td>...</td>\n",
              "      <td>-4.0</td>\n",
              "      <td>04:55:00</td>\n",
              "      <td>05:09:00</td>\n",
              "      <td>-14.0</td>\n",
              "      <td>204.0</td>\n",
              "      <td>194.0</td>\n",
              "      <td>173.0</td>\n",
              "      <td>4.0</td>\n",
              "      <td>17.0</td>\n",
              "      <td>0.0</td>\n",
              "    </tr>\n",
              "    <tr>\n",
              "      <th>2</th>\n",
              "      <td>Alaska Airlines Inc.</td>\n",
              "      <td>Ted Stevens Anchorage International Airport</td>\n",
              "      <td>Anchorage</td>\n",
              "      <td>Seattle-Tacoma International Airport</td>\n",
              "      <td>Seattle</td>\n",
              "      <td>ANC</td>\n",
              "      <td>SEA</td>\n",
              "      <td>1448.0</td>\n",
              "      <td>01:40:00</td>\n",
              "      <td>2015-01-01</td>\n",
              "      <td>...</td>\n",
              "      <td>-15.0</td>\n",
              "      <td>05:58:00</td>\n",
              "      <td>06:33:00</td>\n",
              "      <td>-35.0</td>\n",
              "      <td>218.0</td>\n",
              "      <td>198.0</td>\n",
              "      <td>170.0</td>\n",
              "      <td>11.0</td>\n",
              "      <td>17.0</td>\n",
              "      <td>0.0</td>\n",
              "    </tr>\n",
              "    <tr>\n",
              "      <th>3</th>\n",
              "      <td>Alaska Airlines Inc.</td>\n",
              "      <td>Ted Stevens Anchorage International Airport</td>\n",
              "      <td>Anchorage</td>\n",
              "      <td>Seattle-Tacoma International Airport</td>\n",
              "      <td>Seattle</td>\n",
              "      <td>ANC</td>\n",
              "      <td>SEA</td>\n",
              "      <td>1448.0</td>\n",
              "      <td>02:09:00</td>\n",
              "      <td>2015-01-01</td>\n",
              "      <td>...</td>\n",
              "      <td>-11.0</td>\n",
              "      <td>06:28:00</td>\n",
              "      <td>06:40:00</td>\n",
              "      <td>-12.0</td>\n",
              "      <td>200.0</td>\n",
              "      <td>199.0</td>\n",
              "      <td>176.0</td>\n",
              "      <td>8.0</td>\n",
              "      <td>15.0</td>\n",
              "      <td>0.0</td>\n",
              "    </tr>\n",
              "    <tr>\n",
              "      <th>4</th>\n",
              "      <td>Alaska Airlines Inc.</td>\n",
              "      <td>Ted Stevens Anchorage International Airport</td>\n",
              "      <td>Anchorage</td>\n",
              "      <td>Seattle-Tacoma International Airport</td>\n",
              "      <td>Seattle</td>\n",
              "      <td>ANC</td>\n",
              "      <td>SEA</td>\n",
              "      <td>1448.0</td>\n",
              "      <td>04:57:00</td>\n",
              "      <td>2015-01-01</td>\n",
              "      <td>...</td>\n",
              "      <td>-8.0</td>\n",
              "      <td>09:16:00</td>\n",
              "      <td>09:30:00</td>\n",
              "      <td>-14.0</td>\n",
              "      <td>205.0</td>\n",
              "      <td>199.0</td>\n",
              "      <td>179.0</td>\n",
              "      <td>4.0</td>\n",
              "      <td>16.0</td>\n",
              "      <td>0.0</td>\n",
              "    </tr>\n",
              "    <tr>\n",
              "      <th>...</th>\n",
              "      <td>...</td>\n",
              "      <td>...</td>\n",
              "      <td>...</td>\n",
              "      <td>...</td>\n",
              "      <td>...</td>\n",
              "      <td>...</td>\n",
              "      <td>...</td>\n",
              "      <td>...</td>\n",
              "      <td>...</td>\n",
              "      <td>...</td>\n",
              "      <td>...</td>\n",
              "      <td>...</td>\n",
              "      <td>...</td>\n",
              "      <td>...</td>\n",
              "      <td>...</td>\n",
              "      <td>...</td>\n",
              "      <td>...</td>\n",
              "      <td>...</td>\n",
              "      <td>...</td>\n",
              "      <td>...</td>\n",
              "      <td>...</td>\n",
              "    </tr>\n",
              "    <tr>\n",
              "      <th>60318</th>\n",
              "      <td>Atlantic Southeast Airlines</td>\n",
              "      <td>Meridian Regional Airport</td>\n",
              "      <td>Meridian</td>\n",
              "      <td>Hattiesburg-Laurel Regional Airport</td>\n",
              "      <td>Hattiesburg-Laurel</td>\n",
              "      <td>MEI</td>\n",
              "      <td>PIB</td>\n",
              "      <td>69.0</td>\n",
              "      <td>20:51:00</td>\n",
              "      <td>2015-01-01</td>\n",
              "      <td>...</td>\n",
              "      <td>-4.0</td>\n",
              "      <td>21:20:00</td>\n",
              "      <td>21:30:00</td>\n",
              "      <td>-10.0</td>\n",
              "      <td>35.0</td>\n",
              "      <td>29.0</td>\n",
              "      <td>21.0</td>\n",
              "      <td>3.0</td>\n",
              "      <td>5.0</td>\n",
              "      <td>0.0</td>\n",
              "    </tr>\n",
              "    <tr>\n",
              "      <th>60319</th>\n",
              "      <td>Atlantic Southeast Airlines</td>\n",
              "      <td>Meridian Regional Airport</td>\n",
              "      <td>Meridian</td>\n",
              "      <td>Hattiesburg-Laurel Regional Airport</td>\n",
              "      <td>Hattiesburg-Laurel</td>\n",
              "      <td>MEI</td>\n",
              "      <td>PIB</td>\n",
              "      <td>69.0</td>\n",
              "      <td>15:37:00</td>\n",
              "      <td>2015-01-02</td>\n",
              "      <td>...</td>\n",
              "      <td>57.0</td>\n",
              "      <td>16:06:00</td>\n",
              "      <td>15:15:00</td>\n",
              "      <td>51.0</td>\n",
              "      <td>35.0</td>\n",
              "      <td>29.0</td>\n",
              "      <td>17.0</td>\n",
              "      <td>4.0</td>\n",
              "      <td>8.0</td>\n",
              "      <td>0.0</td>\n",
              "    </tr>\n",
              "    <tr>\n",
              "      <th>60320</th>\n",
              "      <td>Atlantic Southeast Airlines</td>\n",
              "      <td>Meridian Regional Airport</td>\n",
              "      <td>Meridian</td>\n",
              "      <td>Hattiesburg-Laurel Regional Airport</td>\n",
              "      <td>Hattiesburg-Laurel</td>\n",
              "      <td>MEI</td>\n",
              "      <td>PIB</td>\n",
              "      <td>69.0</td>\n",
              "      <td>23:51:00</td>\n",
              "      <td>2015-01-02</td>\n",
              "      <td>...</td>\n",
              "      <td>176.0</td>\n",
              "      <td>00:25:00</td>\n",
              "      <td>21:30:00</td>\n",
              "      <td>175.0</td>\n",
              "      <td>35.0</td>\n",
              "      <td>34.0</td>\n",
              "      <td>21.0</td>\n",
              "      <td>4.0</td>\n",
              "      <td>9.0</td>\n",
              "      <td>0.0</td>\n",
              "    </tr>\n",
              "    <tr>\n",
              "      <th>60321</th>\n",
              "      <td>Atlantic Southeast Airlines</td>\n",
              "      <td>Meridian Regional Airport</td>\n",
              "      <td>Meridian</td>\n",
              "      <td>Hattiesburg-Laurel Regional Airport</td>\n",
              "      <td>Hattiesburg-Laurel</td>\n",
              "      <td>MEI</td>\n",
              "      <td>PIB</td>\n",
              "      <td>69.0</td>\n",
              "      <td>21:25:00</td>\n",
              "      <td>2015-01-03</td>\n",
              "      <td>...</td>\n",
              "      <td>30.0</td>\n",
              "      <td>21:57:00</td>\n",
              "      <td>21:30:00</td>\n",
              "      <td>27.0</td>\n",
              "      <td>35.0</td>\n",
              "      <td>32.0</td>\n",
              "      <td>15.0</td>\n",
              "      <td>9.0</td>\n",
              "      <td>8.0</td>\n",
              "      <td>0.0</td>\n",
              "    </tr>\n",
              "    <tr>\n",
              "      <th>60322</th>\n",
              "      <td>Atlantic Southeast Airlines</td>\n",
              "      <td>Meridian Regional Airport</td>\n",
              "      <td>Meridian</td>\n",
              "      <td>Hattiesburg-Laurel Regional Airport</td>\n",
              "      <td>Hattiesburg-Laurel</td>\n",
              "      <td>MEI</td>\n",
              "      <td>PIB</td>\n",
              "      <td>69.0</td>\n",
              "      <td>22:21:00</td>\n",
              "      <td>2015-01-04</td>\n",
              "      <td>...</td>\n",
              "      <td>86.0</td>\n",
              "      <td>22:46:00</td>\n",
              "      <td>21:30:00</td>\n",
              "      <td>76.0</td>\n",
              "      <td>35.0</td>\n",
              "      <td>25.0</td>\n",
              "      <td>16.0</td>\n",
              "      <td>3.0</td>\n",
              "      <td>6.0</td>\n",
              "      <td>0.0</td>\n",
              "    </tr>\n",
              "  </tbody>\n",
              "</table>\n",
              "<p>60323 rows × 22 columns</p>\n",
              "</div>\n",
              "      <button class=\"colab-df-convert\" onclick=\"convertToInteractive('df-64fe4796-692e-4148-b3c8-c620afc5c9bd')\"\n",
              "              title=\"Convert this dataframe to an interactive table.\"\n",
              "              style=\"display:none;\">\n",
              "        \n",
              "  <svg xmlns=\"http://www.w3.org/2000/svg\" height=\"24px\"viewBox=\"0 0 24 24\"\n",
              "       width=\"24px\">\n",
              "    <path d=\"M0 0h24v24H0V0z\" fill=\"none\"/>\n",
              "    <path d=\"M18.56 5.44l.94 2.06.94-2.06 2.06-.94-2.06-.94-.94-2.06-.94 2.06-2.06.94zm-11 1L8.5 8.5l.94-2.06 2.06-.94-2.06-.94L8.5 2.5l-.94 2.06-2.06.94zm10 10l.94 2.06.94-2.06 2.06-.94-2.06-.94-.94-2.06-.94 2.06-2.06.94z\"/><path d=\"M17.41 7.96l-1.37-1.37c-.4-.4-.92-.59-1.43-.59-.52 0-1.04.2-1.43.59L10.3 9.45l-7.72 7.72c-.78.78-.78 2.05 0 2.83L4 21.41c.39.39.9.59 1.41.59.51 0 1.02-.2 1.41-.59l7.78-7.78 2.81-2.81c.8-.78.8-2.07 0-2.86zM5.41 20L4 18.59l7.72-7.72 1.47 1.35L5.41 20z\"/>\n",
              "  </svg>\n",
              "      </button>\n",
              "      \n",
              "  <style>\n",
              "    .colab-df-container {\n",
              "      display:flex;\n",
              "      flex-wrap:wrap;\n",
              "      gap: 12px;\n",
              "    }\n",
              "\n",
              "    .colab-df-convert {\n",
              "      background-color: #E8F0FE;\n",
              "      border: none;\n",
              "      border-radius: 50%;\n",
              "      cursor: pointer;\n",
              "      display: none;\n",
              "      fill: #1967D2;\n",
              "      height: 32px;\n",
              "      padding: 0 0 0 0;\n",
              "      width: 32px;\n",
              "    }\n",
              "\n",
              "    .colab-df-convert:hover {\n",
              "      background-color: #E2EBFA;\n",
              "      box-shadow: 0px 1px 2px rgba(60, 64, 67, 0.3), 0px 1px 3px 1px rgba(60, 64, 67, 0.15);\n",
              "      fill: #174EA6;\n",
              "    }\n",
              "\n",
              "    [theme=dark] .colab-df-convert {\n",
              "      background-color: #3B4455;\n",
              "      fill: #D2E3FC;\n",
              "    }\n",
              "\n",
              "    [theme=dark] .colab-df-convert:hover {\n",
              "      background-color: #434B5C;\n",
              "      box-shadow: 0px 1px 3px 1px rgba(0, 0, 0, 0.15);\n",
              "      filter: drop-shadow(0px 1px 2px rgba(0, 0, 0, 0.3));\n",
              "      fill: #FFFFFF;\n",
              "    }\n",
              "  </style>\n",
              "\n",
              "      <script>\n",
              "        const buttonEl =\n",
              "          document.querySelector('#df-64fe4796-692e-4148-b3c8-c620afc5c9bd button.colab-df-convert');\n",
              "        buttonEl.style.display =\n",
              "          google.colab.kernel.accessAllowed ? 'block' : 'none';\n",
              "\n",
              "        async function convertToInteractive(key) {\n",
              "          const element = document.querySelector('#df-64fe4796-692e-4148-b3c8-c620afc5c9bd');\n",
              "          const dataTable =\n",
              "            await google.colab.kernel.invokeFunction('convertToInteractive',\n",
              "                                                     [key], {});\n",
              "          if (!dataTable) return;\n",
              "\n",
              "          const docLinkHtml = 'Like what you see? Visit the ' +\n",
              "            '<a target=\"_blank\" href=https://colab.research.google.com/notebooks/data_table.ipynb>data table notebook</a>'\n",
              "            + ' to learn more about interactive tables.';\n",
              "          element.innerHTML = '';\n",
              "          dataTable['output_type'] = 'display_data';\n",
              "          await google.colab.output.renderOutput(dataTable, element);\n",
              "          const docLink = document.createElement('div');\n",
              "          docLink.innerHTML = docLinkHtml;\n",
              "          element.appendChild(docLink);\n",
              "        }\n",
              "      </script>\n",
              "    </div>\n",
              "  </div>\n",
              "  "
            ]
          },
          "metadata": {},
          "execution_count": 81
        }
      ]
    },
    {
      "cell_type": "code",
      "source": [
        "plt.figure(figsize=(10, 10))\n",
        "axis = sns.countplot(x=Flights['Origin_city'], data = Flights,\n",
        "              order=Flights['Origin_city'].value_counts().iloc[:20].index)\n",
        "axis.set_xticklabels(axis.get_xticklabels(), rotation=90, ha=\"right\")\n",
        "plt.tight_layout()\n",
        "plt.show()"
      ],
      "metadata": {
        "colab": {
          "base_uri": "https://localhost:8080/",
          "height": 729
        },
        "id": "b1czn02_6q6F",
        "outputId": "5c1b3547-f8cf-41ef-9040-6c873cef0929"
      },
      "execution_count": 82,
      "outputs": [
        {
          "output_type": "display_data",
          "data": {
            "text/plain": [
              "<Figure size 720x720 with 1 Axes>"
            ],
            "image/png": "[encoded data removed]"
          },
          "metadata": {
            "needs_background": "light"
          }
        }
      ]
    },
    {
      "cell_type": "code",
      "source": [
        "plt.figure(figsize=(10, 10))\n",
        "axis = sns.countplot(x=Flights['Org_Airport_Name'], data = Flights,\n",
        "              order=Flights['Org_Airport_Name'].value_counts().iloc[:20].index)\n",
        "axis.set_xticklabels(axis.get_xticklabels(), rotation=90, ha=\"right\")\n",
        "plt.tight_layout()\n",
        "plt.show()"
      ],
      "metadata": {
        "colab": {
          "base_uri": "https://localhost:8080/",
          "height": 729
        },
        "id": "12pWG18c6uBl",
        "outputId": "93204ae0-205b-4b14-ee9c-47b82c00a951"
      },
      "execution_count": 83,
      "outputs": [
        {
          "output_type": "display_data",
          "data": {
            "text/plain": [
              "<Figure size 720x720 with 1 Axes>"
            ],
            "image/png": "[encoded data removed]"
          },
          "metadata": {
            "needs_background": "light"
          }
        }
      ]
    },
    {
      "cell_type": "code",
      "source": [
        "axis = plt.subplots(figsize=(10,14))\n",
        "Name = Flights[\"AIRLINE\"].unique()\n",
        "size = Flights[\"AIRLINE\"].value_counts()\n",
        "plt.pie(size,labels=Name,autopct='%5.0f%%')\n",
        "plt.show()"
      ],
      "metadata": {
        "colab": {
          "base_uri": "https://localhost:8080/",
          "height": 589
        },
        "id": "EPSKPyLa6xU9",
        "outputId": "3976091c-e105-4593-8003-3df6ed22411b"
      },
      "execution_count": 84,
      "outputs": [
        {
          "output_type": "display_data",
          "data": {
            "text/plain": [
              "<Figure size 720x1008 with 1 Axes>"
            ],
            "image/png": "[encoded data removed]"
          },
          "metadata": {}
        }
      ]
    },
    {
      "cell_type": "code",
      "source": [
        "axis = plt.subplots(figsize=(10,14))\n",
        "sns.despine(bottom=True, left=True)\n",
        "# Observations with Scatter Plot\n",
        "sns.stripplot(x=\"ARRIVAL_DELAY\", y=\"AIRLINE\",\n",
        "              data = Flights, dodge=True, jitter=True\n",
        "            )\n",
        "plt.show()"
      ],
      "metadata": {
        "colab": {
          "base_uri": "https://localhost:8080/",
          "height": 824
        },
        "id": "SJe6k5006zeu",
        "outputId": "1bd501ba-8762-4dc2-f1a9-f4740f4483e0"
      },
      "execution_count": 85,
      "outputs": [
        {
          "output_type": "display_data",
          "data": {
            "text/plain": [
              "<Figure size 720x1008 with 1 Axes>"
            ],
            "image/png": "[encoded data removed]"
          },
          "metadata": {
            "needs_background": "light"
          }
        }
      ]
    },
    {
      "cell_type": "code",
      "source": [
        "%%html\n",
        "<div class='tableauPlaceholder' id='viz1569938215526' style='position: relative'><noscript><a href='#'><img alt=' ' \n",
        "src='https:&#47;&#47;public.tableau.com&#47;static&#47;images&#47;PH&#47;PHNKQPSZG&#47;1_rss.png' style='border: none'\n",
        "/></a></noscript><object class='tableauViz'  style='display:none;'><param name='host_url' value='https%3A%2F%2Fpublic.tableau.com%2F' \n",
        "/> <param name='embed_code_version' value='3' \n",
        "/> <param name='path' value='shared&#47;PHNKQPSZG' \n",
        "/> <param name='toolbar' value='yes' /><param name='static_image' value='https:&#47;&#47;public.tableau.com&#47;static&#47;images&#47;PH&#47;PHNKQPSZG&#47;1.png' \n",
        "/> <param name='animate_transition' value='yes' /><param name='display_static_image' value='yes' /><param name='display_spinner' value='yes'\n",
        "/><param name='display_overlay' value='yes' \n",
        "/><param name='display_count' value='yes' /></object></div>                \n",
        "<script type='text/javascript'>                   \n",
        "var divElement = document.getElementById('viz1569938215526');                   \n",
        "var vizElement = divElement.getElementsByTagName('object')[0];                   \n",
        "vizElement.style.width='100%';vizElement.style.height=(divElement.offsetWidth*0.75)+'px';                   \n",
        "var scriptElement = document.createElement('script');                    \n",
        "scriptElement.src = 'https://public.tableau.com/javascripts/api/viz_v1.js';                   \n",
        "vizElement.parentNode.insertBefore(scriptElement, vizElement);               \n",
        "</script>"
      ],
      "metadata": {
        "colab": {
          "base_uri": "https://localhost:8080/",
          "height": 488
        },
        "id": "75UpY9ol62kV",
        "outputId": "92e2ec22-dd1f-4622-e6d9-e8e45c446249"
      },
      "execution_count": 86,
      "outputs": [
        {
          "output_type": "display_data",
          "data": {
            "text/plain": [
              "<IPython.core.display.HTML object>"
            ],
            "text/html": [
              "<div class='tableauPlaceholder' id='viz1569938215526' style='position: relative'><noscript><a href='#'><img alt=' ' \n",
              "src='https:&#47;&#47;public.tableau.com&#47;static&#47;images&#47;PH&#47;PHNKQPSZG&#47;1_rss.png' style='border: none'\n",
              "/></a></noscript><object class='tableauViz'  style='display:none;'><param name='host_url' value='https%3A%2F%2Fpublic.tableau.com%2F' \n",
              "/> <param name='embed_code_version' value='3' \n",
              "/> <param name='path' value='shared&#47;PHNKQPSZG' \n",
              "/> <param name='toolbar' value='yes' /><param name='static_image' value='https:&#47;&#47;public.tableau.com&#47;static&#47;images&#47;PH&#47;PHNKQPSZG&#47;1.png' \n",
              "/> <param name='animate_transition' value='yes' /><param name='display_static_image' value='yes' /><param name='display_spinner' value='yes'\n",
              "/><param name='display_overlay' value='yes' \n",
              "/><param name='display_count' value='yes' /></object></div>                \n",
              "<script type='text/javascript'>                   \n",
              "var divElement = document.getElementById('viz1569938215526');                   \n",
              "var vizElement = divElement.getElementsByTagName('object')[0];                   \n",
              "vizElement.style.width='100%';vizElement.style.height=(divElement.offsetWidth*0.75)+'px';                   \n",
              "var scriptElement = document.createElement('script');                    \n",
              "scriptElement.src = 'https://public.tableau.com/javascripts/api/viz_v1.js';                   \n",
              "vizElement.parentNode.insertBefore(scriptElement, vizElement);               \n",
              "</script>\n"
            ]
          },
          "metadata": {}
        }
      ]
    },
    {
      "cell_type": "code",
      "source": [
        "Flights.head()"
      ],
      "metadata": {
        "colab": {
          "base_uri": "https://localhost:8080/",
          "height": 473
        },
        "id": "AixejsJO7JQu",
        "outputId": "d3853238-3462-466d-a169-36f29b01378a"
      },
      "execution_count": 87,
      "outputs": [
        {
          "output_type": "execute_result",
          "data": {
            "text/plain": [
              "                AIRLINE                             Org_Airport_Name  \\\n",
              "0  Alaska Airlines Inc.  Ted Stevens Anchorage International Airport   \n",
              "1  Alaska Airlines Inc.  Ted Stevens Anchorage International Airport   \n",
              "2  Alaska Airlines Inc.  Ted Stevens Anchorage International Airport   \n",
              "3  Alaska Airlines Inc.  Ted Stevens Anchorage International Airport   \n",
              "4  Alaska Airlines Inc.  Ted Stevens Anchorage International Airport   \n",
              "\n",
              "  Origin_city                     Dest_Airport_Name Destination_city  \\\n",
              "0   Anchorage  Seattle-Tacoma International Airport          Seattle   \n",
              "1   Anchorage  Seattle-Tacoma International Airport          Seattle   \n",
              "2   Anchorage  Seattle-Tacoma International Airport          Seattle   \n",
              "3   Anchorage  Seattle-Tacoma International Airport          Seattle   \n",
              "4   Anchorage  Seattle-Tacoma International Airport          Seattle   \n",
              "\n",
              "  ORIGIN_AIRPORT DESTINATION_AIRPORT  DISTANCE Actual_Departure       Date  \\\n",
              "0            ANC                 SEA    1448.0         23:54:00 2015-01-01   \n",
              "1            ANC                 SEA    1448.0         00:41:00 2015-01-01   \n",
              "2            ANC                 SEA    1448.0         01:40:00 2015-01-01   \n",
              "3            ANC                 SEA    1448.0         02:09:00 2015-01-01   \n",
              "4            ANC                 SEA    1448.0         04:57:00 2015-01-01   \n",
              "\n",
              "   ... DEPARTURE_DELAY Actual_Arrival  Scheduled_Arrival ARRIVAL_DELAY  \\\n",
              "0  ...           -11.0       04:08:00           04:30:00         -22.0   \n",
              "1  ...            -4.0       04:55:00           05:09:00         -14.0   \n",
              "2  ...           -15.0       05:58:00           06:33:00         -35.0   \n",
              "3  ...           -11.0       06:28:00           06:40:00         -12.0   \n",
              "4  ...            -8.0       09:16:00           09:30:00         -14.0   \n",
              "\n",
              "  SCHEDULED_TIME  ELAPSED_TIME  AIR_TIME  TAXI_IN  TAXI_OUT  DIVERTED  \n",
              "0          205.0         194.0     169.0      4.0      21.0       0.0  \n",
              "1          204.0         194.0     173.0      4.0      17.0       0.0  \n",
              "2          218.0         198.0     170.0     11.0      17.0       0.0  \n",
              "3          200.0         199.0     176.0      8.0      15.0       0.0  \n",
              "4          205.0         199.0     179.0      4.0      16.0       0.0  \n",
              "\n",
              "[5 rows x 22 columns]"
            ],
            "text/html": [
              "\n",
              "  <div id=\"df-39ee9ef6-825d-494c-b65c-d9f64bcfaee4\">\n",
              "    <div class=\"colab-df-container\">\n",
              "      <div>\n",
              "<style scoped>\n",
              "    .dataframe tbody tr th:only-of-type {\n",
              "        vertical-align: middle;\n",
              "    }\n",
              "\n",
              "    .dataframe tbody tr th {\n",
              "        vertical-align: top;\n",
              "    }\n",
              "\n",
              "    .dataframe thead th {\n",
              "        text-align: right;\n",
              "    }\n",
              "</style>\n",
              "<table border=\"1\" class=\"dataframe\">\n",
              "  <thead>\n",
              "    <tr style=\"text-align: right;\">\n",
              "      <th></th>\n",
              "      <th>AIRLINE</th>\n",
              "      <th>Org_Airport_Name</th>\n",
              "      <th>Origin_city</th>\n",
              "      <th>Dest_Airport_Name</th>\n",
              "      <th>Destination_city</th>\n",
              "      <th>ORIGIN_AIRPORT</th>\n",
              "      <th>DESTINATION_AIRPORT</th>\n",
              "      <th>DISTANCE</th>\n",
              "      <th>Actual_Departure</th>\n",
              "      <th>Date</th>\n",
              "      <th>...</th>\n",
              "      <th>DEPARTURE_DELAY</th>\n",
              "      <th>Actual_Arrival</th>\n",
              "      <th>Scheduled_Arrival</th>\n",
              "      <th>ARRIVAL_DELAY</th>\n",
              "      <th>SCHEDULED_TIME</th>\n",
              "      <th>ELAPSED_TIME</th>\n",
              "      <th>AIR_TIME</th>\n",
              "      <th>TAXI_IN</th>\n",
              "      <th>TAXI_OUT</th>\n",
              "      <th>DIVERTED</th>\n",
              "    </tr>\n",
              "  </thead>\n",
              "  <tbody>\n",
              "    <tr>\n",
              "      <th>0</th>\n",
              "      <td>Alaska Airlines Inc.</td>\n",
              "      <td>Ted Stevens Anchorage International Airport</td>\n",
              "      <td>Anchorage</td>\n",
              "      <td>Seattle-Tacoma International Airport</td>\n",
              "      <td>Seattle</td>\n",
              "      <td>ANC</td>\n",
              "      <td>SEA</td>\n",
              "      <td>1448.0</td>\n",
              "      <td>23:54:00</td>\n",
              "      <td>2015-01-01</td>\n",
              "      <td>...</td>\n",
              "      <td>-11.0</td>\n",
              "      <td>04:08:00</td>\n",
              "      <td>04:30:00</td>\n",
              "      <td>-22.0</td>\n",
              "      <td>205.0</td>\n",
              "      <td>194.0</td>\n",
              "      <td>169.0</td>\n",
              "      <td>4.0</td>\n",
              "      <td>21.0</td>\n",
              "      <td>0.0</td>\n",
              "    </tr>\n",
              "    <tr>\n",
              "      <th>1</th>\n",
              "      <td>Alaska Airlines Inc.</td>\n",
              "      <td>Ted Stevens Anchorage International Airport</td>\n",
              "      <td>Anchorage</td>\n",
              "      <td>Seattle-Tacoma International Airport</td>\n",
              "      <td>Seattle</td>\n",
              "      <td>ANC</td>\n",
              "      <td>SEA</td>\n",
              "      <td>1448.0</td>\n",
              "      <td>00:41:00</td>\n",
              "      <td>2015-01-01</td>\n",
              "      <td>...</td>\n",
              "      <td>-4.0</td>\n",
              "      <td>04:55:00</td>\n",
              "      <td>05:09:00</td>\n",
              "      <td>-14.0</td>\n",
              "      <td>204.0</td>\n",
              "      <td>194.0</td>\n",
              "      <td>173.0</td>\n",
              "      <td>4.0</td>\n",
              "      <td>17.0</td>\n",
              "      <td>0.0</td>\n",
              "    </tr>\n",
              "    <tr>\n",
              "      <th>2</th>\n",
              "      <td>Alaska Airlines Inc.</td>\n",
              "      <td>Ted Stevens Anchorage International Airport</td>\n",
              "      <td>Anchorage</td>\n",
              "      <td>Seattle-Tacoma International Airport</td>\n",
              "      <td>Seattle</td>\n",
              "      <td>ANC</td>\n",
              "      <td>SEA</td>\n",
              "      <td>1448.0</td>\n",
              "      <td>01:40:00</td>\n",
              "      <td>2015-01-01</td>\n",
              "      <td>...</td>\n",
              "      <td>-15.0</td>\n",
              "      <td>05:58:00</td>\n",
              "      <td>06:33:00</td>\n",
              "      <td>-35.0</td>\n",
              "      <td>218.0</td>\n",
              "      <td>198.0</td>\n",
              "      <td>170.0</td>\n",
              "      <td>11.0</td>\n",
              "      <td>17.0</td>\n",
              "      <td>0.0</td>\n",
              "    </tr>\n",
              "    <tr>\n",
              "      <th>3</th>\n",
              "      <td>Alaska Airlines Inc.</td>\n",
              "      <td>Ted Stevens Anchorage International Airport</td>\n",
              "      <td>Anchorage</td>\n",
              "      <td>Seattle-Tacoma International Airport</td>\n",
              "      <td>Seattle</td>\n",
              "      <td>ANC</td>\n",
              "      <td>SEA</td>\n",
              "      <td>1448.0</td>\n",
              "      <td>02:09:00</td>\n",
              "      <td>2015-01-01</td>\n",
              "      <td>...</td>\n",
              "      <td>-11.0</td>\n",
              "      <td>06:28:00</td>\n",
              "      <td>06:40:00</td>\n",
              "      <td>-12.0</td>\n",
              "      <td>200.0</td>\n",
              "      <td>199.0</td>\n",
              "      <td>176.0</td>\n",
              "      <td>8.0</td>\n",
              "      <td>15.0</td>\n",
              "      <td>0.0</td>\n",
              "    </tr>\n",
              "    <tr>\n",
              "      <th>4</th>\n",
              "      <td>Alaska Airlines Inc.</td>\n",
              "      <td>Ted Stevens Anchorage International Airport</td>\n",
              "      <td>Anchorage</td>\n",
              "      <td>Seattle-Tacoma International Airport</td>\n",
              "      <td>Seattle</td>\n",
              "      <td>ANC</td>\n",
              "      <td>SEA</td>\n",
              "      <td>1448.0</td>\n",
              "      <td>04:57:00</td>\n",
              "      <td>2015-01-01</td>\n",
              "      <td>...</td>\n",
              "      <td>-8.0</td>\n",
              "      <td>09:16:00</td>\n",
              "      <td>09:30:00</td>\n",
              "      <td>-14.0</td>\n",
              "      <td>205.0</td>\n",
              "      <td>199.0</td>\n",
              "      <td>179.0</td>\n",
              "      <td>4.0</td>\n",
              "      <td>16.0</td>\n",
              "      <td>0.0</td>\n",
              "    </tr>\n",
              "  </tbody>\n",
              "</table>\n",
              "<p>5 rows × 22 columns</p>\n",
              "</div>\n",
              "      <button class=\"colab-df-convert\" onclick=\"convertToInteractive('df-39ee9ef6-825d-494c-b65c-d9f64bcfaee4')\"\n",
              "              title=\"Convert this dataframe to an interactive table.\"\n",
              "              style=\"display:none;\">\n",
              "        \n",
              "  <svg xmlns=\"http://www.w3.org/2000/svg\" height=\"24px\"viewBox=\"0 0 24 24\"\n",
              "       width=\"24px\">\n",
              "    <path d=\"M0 0h24v24H0V0z\" fill=\"none\"/>\n",
              "    <path d=\"M18.56 5.44l.94 2.06.94-2.06 2.06-.94-2.06-.94-.94-2.06-.94 2.06-2.06.94zm-11 1L8.5 8.5l.94-2.06 2.06-.94-2.06-.94L8.5 2.5l-.94 2.06-2.06.94zm10 10l.94 2.06.94-2.06 2.06-.94-2.06-.94-.94-2.06-.94 2.06-2.06.94z\"/><path d=\"M17.41 7.96l-1.37-1.37c-.4-.4-.92-.59-1.43-.59-.52 0-1.04.2-1.43.59L10.3 9.45l-7.72 7.72c-.78.78-.78 2.05 0 2.83L4 21.41c.39.39.9.59 1.41.59.51 0 1.02-.2 1.41-.59l7.78-7.78 2.81-2.81c.8-.78.8-2.07 0-2.86zM5.41 20L4 18.59l7.72-7.72 1.47 1.35L5.41 20z\"/>\n",
              "  </svg>\n",
              "      </button>\n",
              "      \n",
              "  <style>\n",
              "    .colab-df-container {\n",
              "      display:flex;\n",
              "      flex-wrap:wrap;\n",
              "      gap: 12px;\n",
              "    }\n",
              "\n",
              "    .colab-df-convert {\n",
              "      background-color: #E8F0FE;\n",
              "      border: none;\n",
              "      border-radius: 50%;\n",
              "      cursor: pointer;\n",
              "      display: none;\n",
              "      fill: #1967D2;\n",
              "      height: 32px;\n",
              "      padding: 0 0 0 0;\n",
              "      width: 32px;\n",
              "    }\n",
              "\n",
              "    .colab-df-convert:hover {\n",
              "      background-color: #E2EBFA;\n",
              "      box-shadow: 0px 1px 2px rgba(60, 64, 67, 0.3), 0px 1px 3px 1px rgba(60, 64, 67, 0.15);\n",
              "      fill: #174EA6;\n",
              "    }\n",
              "\n",
              "    [theme=dark] .colab-df-convert {\n",
              "      background-color: #3B4455;\n",
              "      fill: #D2E3FC;\n",
              "    }\n",
              "\n",
              "    [theme=dark] .colab-df-convert:hover {\n",
              "      background-color: #434B5C;\n",
              "      box-shadow: 0px 1px 3px 1px rgba(0, 0, 0, 0.15);\n",
              "      filter: drop-shadow(0px 1px 2px rgba(0, 0, 0, 0.3));\n",
              "      fill: #FFFFFF;\n",
              "    }\n",
              "  </style>\n",
              "\n",
              "      <script>\n",
              "        const buttonEl =\n",
              "          document.querySelector('#df-39ee9ef6-825d-494c-b65c-d9f64bcfaee4 button.colab-df-convert');\n",
              "        buttonEl.style.display =\n",
              "          google.colab.kernel.accessAllowed ? 'block' : 'none';\n",
              "\n",
              "        async function convertToInteractive(key) {\n",
              "          const element = document.querySelector('#df-39ee9ef6-825d-494c-b65c-d9f64bcfaee4');\n",
              "          const dataTable =\n",
              "            await google.colab.kernel.invokeFunction('convertToInteractive',\n",
              "                                                     [key], {});\n",
              "          if (!dataTable) return;\n",
              "\n",
              "          const docLinkHtml = 'Like what you see? Visit the ' +\n",
              "            '<a target=\"_blank\" href=https://colab.research.google.com/notebooks/data_table.ipynb>data table notebook</a>'\n",
              "            + ' to learn more about interactive tables.';\n",
              "          element.innerHTML = '';\n",
              "          dataTable['output_type'] = 'display_data';\n",
              "          await google.colab.output.renderOutput(dataTable, element);\n",
              "          const docLink = document.createElement('div');\n",
              "          docLink.innerHTML = docLinkHtml;\n",
              "          element.appendChild(docLink);\n",
              "        }\n",
              "      </script>\n",
              "    </div>\n",
              "  </div>\n",
              "  "
            ]
          },
          "metadata": {},
          "execution_count": 87
        }
      ]
    },
    {
      "cell_type": "code",
      "source": [
        "Flights1 = Flights.drop(['Org_Airport_Name','Origin_city','Dest_Airport_Name','Destination_city'],axis=1) "
      ],
      "metadata": {
        "id": "0OhID89Z7Ky2"
      },
      "execution_count": 89,
      "outputs": []
    },
    {
      "cell_type": "code",
      "source": [
        "Flights1.columns"
      ],
      "metadata": {
        "colab": {
          "base_uri": "https://localhost:8080/"
        },
        "id": "tkTSQyLM7QIf",
        "outputId": "88117de6-197b-4ea8-a8a4-d2586085c540"
      },
      "execution_count": 90,
      "outputs": [
        {
          "output_type": "execute_result",
          "data": {
            "text/plain": [
              "Index(['AIRLINE', 'ORIGIN_AIRPORT', 'DESTINATION_AIRPORT', 'DISTANCE',\n",
              "       'Actual_Departure', 'Date', 'Weekday', 'Scheduled_Departure',\n",
              "       'DEPARTURE_DELAY', 'Actual_Arrival', 'Scheduled_Arrival',\n",
              "       'ARRIVAL_DELAY', 'SCHEDULED_TIME', 'ELAPSED_TIME', 'AIR_TIME',\n",
              "       'TAXI_IN', 'TAXI_OUT', 'DIVERTED'],\n",
              "      dtype='object')"
            ]
          },
          "metadata": {},
          "execution_count": 90
        }
      ]
    },
    {
      "cell_type": "code",
      "source": [
        "sns.distplot(Flights1['AIR_TIME'])\n",
        "plt.show()"
      ],
      "metadata": {
        "id": "-psmQkBH7So-"
      },
      "execution_count": null,
      "outputs": []
    },
    {
      "cell_type": "code",
      "source": [
        "sns.distplot(Flights1['ELAPSED_TIME'])\n",
        "plt.show()"
      ],
      "metadata": {
        "id": "Dn0MLCLv7ZIU"
      },
      "execution_count": null,
      "outputs": []
    },
    {
      "cell_type": "code",
      "source": [
        "sns.distplot(Flights1['TAXI_IN'])\n",
        "plt.show()"
      ],
      "metadata": {
        "id": "WBG1C1En7h10"
      },
      "execution_count": null,
      "outputs": []
    },
    {
      "cell_type": "code",
      "source": [
        "sns.distplot(Flights1['TAXI_OUT'])\n",
        "plt.show()"
      ],
      "metadata": {
        "id": "7cNPHEVM7swW"
      },
      "execution_count": null,
      "outputs": []
    },
    {
      "cell_type": "code",
      "source": [
        "from sklearn.preprocessing import StandardScaler\n",
        "from sklearn.model_selection import train_test_split\n",
        "from sklearn.preprocessing import LabelEncoder\n",
        "from sklearn.linear_model import Lasso,LinearRegression,Ridge\n",
        "from sklearn.tree import DecisionTreeRegressor\n",
        "from sklearn.ensemble import RandomForestRegressor,AdaBoostRegressor,BaggingRegressor\n",
        "from sklearn.metrics import mean_absolute_error,mean_squared_error,r2_score"
      ],
      "metadata": {
        "id": "1RfK5Bgq7vr1"
      },
      "execution_count": 95,
      "outputs": []
    },
    {
      "cell_type": "code",
      "source": [
        "Las = Lasso()\n",
        "LinR = LinearRegression()\n",
        "Rid = Ridge()\n",
        "Rfc = RandomForestRegressor(random_state=2)\n",
        "Dtc = DecisionTreeRegressor(random_state = 2)\n",
        "Boost_Lin = AdaBoostRegressor(base_estimator=LinR,random_state=2)\n",
        "Boost_las = AdaBoostRegressor(base_estimator=Las,random_state=2)\n",
        "Boost_rid = AdaBoostRegressor(base_estimator=Rid,random_state=2)\n",
        "Bg_Lin = BaggingRegressor(base_estimator=LinR,random_state=2)\n",
        "Bg_las = BaggingRegressor(base_estimator=Las,random_state=2)\n",
        "Bg_rid = BaggingRegressor(base_estimator=Rid,random_state=2)"
      ],
      "metadata": {
        "id": "KJ4nr8lz7ywN"
      },
      "execution_count": 96,
      "outputs": []
    },
    {
      "cell_type": "code",
      "source": [
        "le = LabelEncoder()"
      ],
      "metadata": {
        "id": "xc61PxiF707u"
      },
      "execution_count": 97,
      "outputs": []
    },
    {
      "cell_type": "code",
      "source": [
        "Flights1['AIRLINE']= le.fit_transform(Flights1['AIRLINE'])\n",
        "Flights1['ORIGIN_AIRPORT'] = le.fit_transform(Flights1['ORIGIN_AIRPORT'])\n",
        "Flights1['DESTINATION_AIRPORT'] = le.fit_transform(Flights1['DESTINATION_AIRPORT'])\n",
        "Flights1['Weekday'] = le.fit_transform(Flights1['Weekday'])"
      ],
      "metadata": {
        "id": "-HB_B7_v727E"
      },
      "execution_count": 115,
      "outputs": []
    },
    {
      "cell_type": "code",
      "source": [
        "Flights1 = Flights1.drop(['Scheduled_Departure','Scheduled_Arrival','Actual_Arrival','Date','Actual_Departure'], axis = 1)"
      ],
      "metadata": {
        "id": "Bh61aCBA78rF"
      },
      "execution_count": 99,
      "outputs": []
    },
    {
      "cell_type": "code",
      "source": [
        "Flights1.info()"
      ],
      "metadata": {
        "colab": {
          "base_uri": "https://localhost:8080/"
        },
        "id": "ebU67vT48GnO",
        "outputId": "86547303-e9a4-4388-f519-e663215477b8"
      },
      "execution_count": 102,
      "outputs": [
        {
          "output_type": "stream",
          "name": "stdout",
          "text": [
            "<class 'pandas.core.frame.DataFrame'>\n",
            "Int64Index: 60323 entries, 0 to 60322\n",
            "Data columns (total 13 columns):\n",
            " #   Column               Non-Null Count  Dtype  \n",
            "---  ------               --------------  -----  \n",
            " 0   AIRLINE              60323 non-null  int64  \n",
            " 1   ORIGIN_AIRPORT       60323 non-null  int64  \n",
            " 2   DESTINATION_AIRPORT  60323 non-null  int64  \n",
            " 3   DISTANCE             60323 non-null  float64\n",
            " 4   Weekday              60323 non-null  int64  \n",
            " 5   DEPARTURE_DELAY      60323 non-null  float64\n",
            " 6   ARRIVAL_DELAY        60323 non-null  float64\n",
            " 7   SCHEDULED_TIME       60323 non-null  float64\n",
            " 8   ELAPSED_TIME         60323 non-null  float64\n",
            " 9   AIR_TIME             60323 non-null  float64\n",
            " 10  TAXI_IN              60323 non-null  float64\n",
            " 11  TAXI_OUT             60323 non-null  float64\n",
            " 12  DIVERTED             60323 non-null  float64\n",
            "dtypes: float64(9), int64(4)\n",
            "memory usage: 6.4 MB\n"
          ]
        }
      ]
    },
    {
      "cell_type": "code",
      "source": [
        "X = Flights1.drop('ARRIVAL_DELAY',axis = 1)\n",
        "X.shape"
      ],
      "metadata": {
        "colab": {
          "base_uri": "https://localhost:8080/"
        },
        "id": "XJV6f2yE8JZN",
        "outputId": "874605df-05d6-4c3a-ca56-170b9e9da4bf"
      },
      "execution_count": 103,
      "outputs": [
        {
          "output_type": "execute_result",
          "data": {
            "text/plain": [
              "(60323, 12)"
            ]
          },
          "metadata": {},
          "execution_count": 103
        }
      ]
    },
    {
      "cell_type": "code",
      "source": [
        "y = Flights1['ARRIVAL_DELAY']\n",
        "y.head()"
      ],
      "metadata": {
        "colab": {
          "base_uri": "https://localhost:8080/"
        },
        "id": "6uZA0o-R8LcV",
        "outputId": "7753fb0d-a8e8-49d3-9b54-6066d68a8e98"
      },
      "execution_count": 104,
      "outputs": [
        {
          "output_type": "execute_result",
          "data": {
            "text/plain": [
              "0   -22.0\n",
              "1   -14.0\n",
              "2   -35.0\n",
              "3   -12.0\n",
              "4   -14.0\n",
              "Name: ARRIVAL_DELAY, dtype: float64"
            ]
          },
          "metadata": {},
          "execution_count": 104
        }
      ]
    },
    {
      "cell_type": "code",
      "source": [
        "X_train,X_test,y_train,y_test = train_test_split(X,y,test_size=0.3,random_state = 2)"
      ],
      "metadata": {
        "id": "7I1gmDxI8Ns9"
      },
      "execution_count": 105,
      "outputs": []
    },
    {
      "cell_type": "code",
      "source": [
        "sc1=StandardScaler()\n",
        "X_train_sc=sc1.fit_transform(X_train)\n",
        "X_test_sc=sc1.transform(X_test)"
      ],
      "metadata": {
        "id": "067L9IW78QDF"
      },
      "execution_count": 106,
      "outputs": []
    },
    {
      "cell_type": "code",
      "source": [
        "for model, name in zip([Las,LinR,Rid,Dtc,Rfc,Boost_Lin,Boost_las,Boost_rid,Bg_Lin,Bg_las,Bg_rid], \n",
        "     ['Lasso','Linear Regression','Ridge','Random forest Regressor','Decision Tree Regressor','Boosted Linear',\n",
        "      'Boosted Lasso','Boosted Ridge','Bagged Linear','Bagged Lasso','Bagged Ridge']):\n",
        "    model1 = model.fit(X_train_sc,y_train)\n",
        "    Y_predict=model1.predict(X_test_sc)\n",
        "    print(name)\n",
        "    print('Mean Absolute Error:', mean_absolute_error(y_test, Y_predict))  \n",
        "    print('Mean Squared Error:', mean_squared_error(y_test, Y_predict))  \n",
        "    print('Root Mean Squared Error:', np.sqrt(mean_squared_error(y_test, Y_predict)))\n",
        "    print('R2 : ',r2_score(y_test, Y_predict))\n",
        "    print()"
      ],
      "metadata": {
        "colab": {
          "base_uri": "https://localhost:8080/"
        },
        "id": "w3HkZlqS8TV1",
        "outputId": "9584bc37-2923-4bf0-8b95-d08faf456a3f"
      },
      "execution_count": 107,
      "outputs": [
        {
          "output_type": "stream",
          "name": "stdout",
          "text": [
            "Lasso\n",
            "Mean Absolute Error: 7.670202791137397\n",
            "Mean Squared Error: 101.51853882513072\n",
            "Root Mean Squared Error: 10.075640864239391\n",
            "R2 :  0.956925085690737\n",
            "\n",
            "Linear Regression\n",
            "Mean Absolute Error: 1.5331813719785684e-13\n",
            "Mean Squared Error: 4.0082608366111645e-26\n",
            "Root Mean Squared Error: 2.0020641439801985e-13\n",
            "R2 :  1.0\n",
            "\n",
            "Ridge\n",
            "Mean Absolute Error: 0.016688749774057852\n",
            "Mean Squared Error: 0.0004675769423486762\n",
            "Root Mean Squared Error: 0.021623527518623693\n",
            "R2 :  0.9999998016043478\n",
            "\n",
            "Random forest Regressor\n",
            "Mean Absolute Error: 6.831076974084103\n",
            "Mean Squared Error: 108.97607338232856\n",
            "Root Mean Squared Error: 10.439160568854593\n",
            "R2 :  0.9537608098281479\n",
            "\n",
            "Decision Tree Regressor\n",
            "Mean Absolute Error: 4.624400729402663\n",
            "Mean Squared Error: 50.72798331215119\n",
            "Root Mean Squared Error: 7.122357988205254\n",
            "R2 :  0.9784758177221546\n",
            "\n"
          ]
        },
        {
          "output_type": "stream",
          "name": "stderr",
          "text": [
            "/usr/local/lib/python3.9/dist-packages/sklearn/ensemble/_base.py:166: FutureWarning: `base_estimator` was renamed to `estimator` in version 1.2 and will be removed in 1.4.\n",
            "  warnings.warn(\n"
          ]
        },
        {
          "output_type": "stream",
          "name": "stdout",
          "text": [
            "Boosted Linear\n",
            "Mean Absolute Error: 5.02904220879528e-14\n",
            "Mean Squared Error: 4.3015453111212265e-27\n",
            "Root Mean Squared Error: 6.55861670714277e-14\n",
            "R2 :  1.0\n",
            "\n"
          ]
        },
        {
          "output_type": "stream",
          "name": "stderr",
          "text": [
            "/usr/local/lib/python3.9/dist-packages/sklearn/ensemble/_base.py:166: FutureWarning: `base_estimator` was renamed to `estimator` in version 1.2 and will be removed in 1.4.\n",
            "  warnings.warn(\n"
          ]
        },
        {
          "output_type": "stream",
          "name": "stdout",
          "text": [
            "Boosted Lasso\n",
            "Mean Absolute Error: 4.803060852871847\n",
            "Mean Squared Error: 39.352995677186456\n",
            "Root Mean Squared Error: 6.2731966075667085\n",
            "R2 :  0.9833022920126193\n",
            "\n"
          ]
        },
        {
          "output_type": "stream",
          "name": "stderr",
          "text": [
            "/usr/local/lib/python3.9/dist-packages/sklearn/ensemble/_base.py:166: FutureWarning: `base_estimator` was renamed to `estimator` in version 1.2 and will be removed in 1.4.\n",
            "  warnings.warn(\n"
          ]
        },
        {
          "output_type": "stream",
          "name": "stdout",
          "text": [
            "Boosted Ridge\n",
            "Mean Absolute Error: 0.005906991846233567\n",
            "Mean Squared Error: 5.787883138150365e-05\n",
            "Root Mean Squared Error: 0.00760781383720078\n",
            "R2 :  0.9999999754416707\n",
            "\n"
          ]
        },
        {
          "output_type": "stream",
          "name": "stderr",
          "text": [
            "/usr/local/lib/python3.9/dist-packages/sklearn/ensemble/_base.py:166: FutureWarning: `base_estimator` was renamed to `estimator` in version 1.2 and will be removed in 1.4.\n",
            "  warnings.warn(\n"
          ]
        },
        {
          "output_type": "stream",
          "name": "stdout",
          "text": [
            "Bagged Linear\n",
            "Mean Absolute Error: 1.1114988639440448e-13\n",
            "Mean Squared Error: 2.1207555924084516e-26\n",
            "Root Mean Squared Error: 1.456281426238916e-13\n",
            "R2 :  1.0\n",
            "\n"
          ]
        },
        {
          "output_type": "stream",
          "name": "stderr",
          "text": [
            "/usr/local/lib/python3.9/dist-packages/sklearn/ensemble/_base.py:166: FutureWarning: `base_estimator` was renamed to `estimator` in version 1.2 and will be removed in 1.4.\n",
            "  warnings.warn(\n"
          ]
        },
        {
          "output_type": "stream",
          "name": "stdout",
          "text": [
            "Bagged Lasso\n",
            "Mean Absolute Error: 7.674890742648523\n",
            "Mean Squared Error: 101.63678357632749\n",
            "Root Mean Squared Error: 10.081507009189027\n",
            "R2 :  0.9568749137459447\n",
            "\n"
          ]
        },
        {
          "output_type": "stream",
          "name": "stderr",
          "text": [
            "/usr/local/lib/python3.9/dist-packages/sklearn/ensemble/_base.py:166: FutureWarning: `base_estimator` was renamed to `estimator` in version 1.2 and will be removed in 1.4.\n",
            "  warnings.warn(\n"
          ]
        },
        {
          "output_type": "stream",
          "name": "stdout",
          "text": [
            "Bagged Ridge\n",
            "Mean Absolute Error: 0.016765679377503596\n",
            "Mean Squared Error: 0.0004717402953249371\n",
            "Root Mean Squared Error: 0.021719583221713464\n",
            "R2 :  0.9999997998378125\n",
            "\n"
          ]
        }
      ]
    },
    {
      "cell_type": "code",
      "source": [
        "for model, name in zip([Las,LinR,Rid,Dtc,Rfc,Boost_Lin,Boost_las,Boost_rid,Bg_Lin,Bg_las,Bg_rid], \n",
        "     ['Lasso','Linear Regression','Ridge','Random forest Regressor','Decision Tree Regressor','Boosted Linear',\n",
        "      'Boosted Lasso','Boosted Ridge','Bagged Linear','Bagged Lasso','Bagged Ridge']):\n",
        "    model1 = model.fit(X_train_sc,y_train)\n",
        "    Y_predict=model1.predict(X_test_sc)\n",
        "    print(name)\n",
        "    plt.scatter(y_test, Y_predict)\n",
        "    plt.title(\"Model Analysis\")\n",
        "    plt.xlabel(\"Truth\")\n",
        "    plt.ylabel(\"Prediction\")\n",
        "    plt.show()"
      ],
      "metadata": {
        "colab": {
          "base_uri": "https://localhost:8080/",
          "height": 1000
        },
        "id": "rBf6LB898g8d",
        "outputId": "0d8216b3-6dbf-43ef-fede-ca3ca1061c66"
      },
      "execution_count": 108,
      "outputs": [
        {
          "output_type": "stream",
          "name": "stdout",
          "text": [
            "Lasso\n"
          ]
        },
        {
          "output_type": "display_data",
          "data": {
            "text/plain": [
              "<Figure size 432x288 with 1 Axes>"
            ],
            "image/png": "[encoded data removed]"
          },
          "metadata": {
            "needs_background": "light"
          }
        },
        {
          "output_type": "stream",
          "name": "stdout",
          "text": [
            "Linear Regression\n"
          ]
        },
        {
          "output_type": "display_data",
          "data": {
            "text/plain": [
              "<Figure size 432x288 with 1 Axes>"
            ],
            "image/png": "[encoded data removed]"
          },
          "metadata": {
            "needs_background": "light"
          }
        },
        {
          "output_type": "stream",
          "name": "stdout",
          "text": [
            "Ridge\n"
          ]
        },
        {
          "output_type": "display_data",
          "data": {
            "text/plain": [
              "<Figure size 432x288 with 1 Axes>"
            ],
            "image/png": "[encoded data removed]"
          },
          "metadata": {
            "needs_background": "light"
          }
        },
        {
          "output_type": "stream",
          "name": "stdout",
          "text": [
            "Random forest Regressor\n"
          ]
        },
        {
          "output_type": "display_data",
          "data": {
            "text/plain": [
              "<Figure size 432x288 with 1 Axes>"
            ],
            "image/png": "[encoded data removed]"
          },
          "metadata": {
            "needs_background": "light"
          }
        },
        {
          "output_type": "stream",
          "name": "stdout",
          "text": [
            "Decision Tree Regressor\n"
          ]
        },
        {
          "output_type": "display_data",
          "data": {
            "text/plain": [
              "<Figure size 432x288 with 1 Axes>"
            ],
            "image/png": "[encoded data removed]"
          },
          "metadata": {
            "needs_background": "light"
          }
        },
        {
          "output_type": "stream",
          "name": "stderr",
          "text": [
            "/usr/local/lib/python3.9/dist-packages/sklearn/ensemble/_base.py:166: FutureWarning: `base_estimator` was renamed to `estimator` in version 1.2 and will be removed in 1.4.\n",
            "  warnings.warn(\n"
          ]
        },
        {
          "output_type": "stream",
          "name": "stdout",
          "text": [
            "Boosted Linear\n"
          ]
        },
        {
          "output_type": "display_data",
          "data": {
            "text/plain": [
              "<Figure size 432x288 with 1 Axes>"
            ],
            "image/png": "[encoded data removed]"
          },
          "metadata": {
            "needs_background": "light"
          }
        },
        {
          "output_type": "stream",
          "name": "stderr",
          "text": [
            "/usr/local/lib/python3.9/dist-packages/sklearn/ensemble/_base.py:166: FutureWarning: `base_estimator` was renamed to `estimator` in version 1.2 and will be removed in 1.4.\n",
            "  warnings.warn(\n"
          ]
        },
        {
          "output_type": "stream",
          "name": "stdout",
          "text": [
            "Boosted Lasso\n"
          ]
        },
        {
          "output_type": "display_data",
          "data": {
            "text/plain": [
              "<Figure size 432x288 with 1 Axes>"
            ],
            "image/png": "[encoded data removed]"
          },
          "metadata": {
            "needs_background": "light"
          }
        },
        {
          "output_type": "stream",
          "name": "stderr",
          "text": [
            "/usr/local/lib/python3.9/dist-packages/sklearn/ensemble/_base.py:166: FutureWarning: `base_estimator` was renamed to `estimator` in version 1.2 and will be removed in 1.4.\n",
            "  warnings.warn(\n"
          ]
        },
        {
          "output_type": "stream",
          "name": "stdout",
          "text": [
            "Boosted Ridge\n"
          ]
        },
        {
          "output_type": "display_data",
          "data": {
            "text/plain": [
              "<Figure size 432x288 with 1 Axes>"
            ],
            "image/png": "[encoded data removed]"
          },
          "metadata": {
            "needs_background": "light"
          }
        },
        {
          "output_type": "stream",
          "name": "stderr",
          "text": [
            "/usr/local/lib/python3.9/dist-packages/sklearn/ensemble/_base.py:166: FutureWarning: `base_estimator` was renamed to `estimator` in version 1.2 and will be removed in 1.4.\n",
            "  warnings.warn(\n"
          ]
        },
        {
          "output_type": "stream",
          "name": "stdout",
          "text": [
            "Bagged Linear\n"
          ]
        },
        {
          "output_type": "display_data",
          "data": {
            "text/plain": [
              "<Figure size 432x288 with 1 Axes>"
            ],
            "image/png": "[encoded data removed]"
          },
          "metadata": {
            "needs_background": "light"
          }
        },
        {
          "output_type": "stream",
          "name": "stderr",
          "text": [
            "/usr/local/lib/python3.9/dist-packages/sklearn/ensemble/_base.py:166: FutureWarning: `base_estimator` was renamed to `estimator` in version 1.2 and will be removed in 1.4.\n",
            "  warnings.warn(\n"
          ]
        },
        {
          "output_type": "stream",
          "name": "stdout",
          "text": [
            "Bagged Lasso\n"
          ]
        },
        {
          "output_type": "display_data",
          "data": {
            "text/plain": [
              "<Figure size 432x288 with 1 Axes>"
            ],
            "image/png": "[encoded data removed]"
          },
          "metadata": {
            "needs_background": "light"
          }
        },
        {
          "output_type": "stream",
          "name": "stderr",
          "text": [
            "/usr/local/lib/python3.9/dist-packages/sklearn/ensemble/_base.py:166: FutureWarning: `base_estimator` was renamed to `estimator` in version 1.2 and will be removed in 1.4.\n",
            "  warnings.warn(\n"
          ]
        },
        {
          "output_type": "stream",
          "name": "stdout",
          "text": [
            "Bagged Ridge\n"
          ]
        },
        {
          "output_type": "display_data",
          "data": {
            "text/plain": [
              "<Figure size 432x288 with 1 Axes>"
            ],
            "image/png": "[encoded data removed]"
          },
          "metadata": {
            "needs_background": "light"
          }
        }
      ]
    },
    {
      "cell_type": "code",
      "source": [
        "axis = plt.subplots(figsize=(10,14))\n",
        "Name = Flight_Delays[\"AIRLINE\"].unique()\n",
        "size = Flight_Delays[\"AIRLINE\"].value_counts()\n",
        "plt.pie(size,labels=Name,autopct='%5.0f%%')\n",
        "plt.show()"
      ],
      "metadata": {
        "colab": {
          "base_uri": "https://localhost:8080/",
          "height": 1000
        },
        "id": "Zeu8Bmej8v_O",
        "outputId": "863fa840-e041-4451-8d4b-d3e571b8acc6"
      },
      "execution_count": 111,
      "outputs": [
        {
          "output_type": "error",
          "ename": "NameError",
          "evalue": "ignored",
          "traceback": [
            "\u001b[0;31m---------------------------------------------------------------------------\u001b[0m",
            "\u001b[0;31mNameError\u001b[0m                                 Traceback (most recent call last)",
            "\u001b[0;32m<ipython-input-111-6f0b04271c6f>\u001b[0m in \u001b[0;36m<module>\u001b[0;34m\u001b[0m\n\u001b[1;32m      1\u001b[0m \u001b[0maxis\u001b[0m \u001b[0;34m=\u001b[0m \u001b[0mplt\u001b[0m\u001b[0;34m.\u001b[0m\u001b[0msubplots\u001b[0m\u001b[0;34m(\u001b[0m\u001b[0mfigsize\u001b[0m\u001b[0;34m=\u001b[0m\u001b[0;34m(\u001b[0m\u001b[0;36m10\u001b[0m\u001b[0;34m,\u001b[0m\u001b[0;36m14\u001b[0m\u001b[0;34m)\u001b[0m\u001b[0;34m)\u001b[0m\u001b[0;34m\u001b[0m\u001b[0;34m\u001b[0m\u001b[0m\n\u001b[0;32m----> 2\u001b[0;31m \u001b[0mName\u001b[0m \u001b[0;34m=\u001b[0m \u001b[0mFlight_Delays\u001b[0m\u001b[0;34m[\u001b[0m\u001b[0;34m\"AIRLINE\"\u001b[0m\u001b[0;34m]\u001b[0m\u001b[0;34m.\u001b[0m\u001b[0munique\u001b[0m\u001b[0;34m(\u001b[0m\u001b[0;34m)\u001b[0m\u001b[0;34m\u001b[0m\u001b[0;34m\u001b[0m\u001b[0m\n\u001b[0m\u001b[1;32m      3\u001b[0m \u001b[0msize\u001b[0m \u001b[0;34m=\u001b[0m \u001b[0mFlight_Delays\u001b[0m\u001b[0;34m[\u001b[0m\u001b[0;34m\"AIRLINE\"\u001b[0m\u001b[0;34m]\u001b[0m\u001b[0;34m.\u001b[0m\u001b[0mvalue_counts\u001b[0m\u001b[0;34m(\u001b[0m\u001b[0;34m)\u001b[0m\u001b[0;34m\u001b[0m\u001b[0;34m\u001b[0m\u001b[0m\n\u001b[1;32m      4\u001b[0m \u001b[0mplt\u001b[0m\u001b[0;34m.\u001b[0m\u001b[0mpie\u001b[0m\u001b[0;34m(\u001b[0m\u001b[0msize\u001b[0m\u001b[0;34m,\u001b[0m\u001b[0mlabels\u001b[0m\u001b[0;34m=\u001b[0m\u001b[0mName\u001b[0m\u001b[0;34m,\u001b[0m\u001b[0mautopct\u001b[0m\u001b[0;34m=\u001b[0m\u001b[0;34m'%5.0f%%'\u001b[0m\u001b[0;34m)\u001b[0m\u001b[0;34m\u001b[0m\u001b[0;34m\u001b[0m\u001b[0m\n\u001b[1;32m      5\u001b[0m \u001b[0mplt\u001b[0m\u001b[0;34m.\u001b[0m\u001b[0mshow\u001b[0m\u001b[0;34m(\u001b[0m\u001b[0;34m)\u001b[0m\u001b[0;34m\u001b[0m\u001b[0;34m\u001b[0m\u001b[0m\n",
            "\u001b[0;31mNameError\u001b[0m: name 'Flight_Delays' is not defined"
          ]
        },
        {
          "output_type": "display_data",
          "data": {
            "text/plain": [
              "<Figure size 720x1008 with 1 Axes>"
            ],
            "image/png": "[encoded data removed]"
          },
          "metadata": {
            "needs_background": "light"
          }
        }
      ]
    },
    {
      "cell_type": "code",
      "source": [
        "Flight_Delays"
      ],
      "metadata": {
        "id": "EuEvZz5o9L4n"
      },
      "execution_count": null,
      "outputs": []
    },
    {
      "cell_type": "code",
      "source": [
        "Flight_Delays['ORIGIN_AIRPORT'] = Flight_Delays['ORIGIN_AIRPORT'].astype(str)\n",
        "Flight_Delays['DESTINATION_AIRPORT'] = Flight_Delays['DESTINATION_AIRPORT'].astype(str)"
      ],
      "metadata": {
        "id": "ZbUZmHqn-wAF"
      },
      "execution_count": null,
      "outputs": []
    },
    {
      "cell_type": "code",
      "source": [
        "Flight_Delays['AIRLINE']= le.fit_transform(Flight_Delays['AIRLINE'])\n",
        "Flight_Delays['ORIGIN_AIRPORT'] = le.fit_transform(Flight_Delays['ORIGIN_AIRPORT'])\n",
        "Flight_Delays['DESTINATION_AIRPORT'] = le.fit_transform(Flight_Delays['DESTINATION_AIRPORT'])"
      ],
      "metadata": {
        "id": "VYaem0tC_7Fi"
      },
      "execution_count": null,
      "outputs": []
    },
    {
      "cell_type": "code",
      "source": [
        "X = Flight_Delays.drop('ARRIVAL_DELAY',axis = 1)\n",
        "X.shape\n",
        "y = Flight_Delays['ARRIVAL_DELAY']\n",
        "y.head()"
      ],
      "metadata": {
        "id": "gSSWAAPTAuQ6"
      },
      "execution_count": null,
      "outputs": []
    },
    {
      "cell_type": "code",
      "source": [
        "X_train,X_test,y_train,y_test = train_test_split(X,y,test_size=0.3,random_state = 2)"
      ],
      "metadata": {
        "id": "CCEyaVCKAxAh"
      },
      "execution_count": 124,
      "outputs": []
    },
    {
      "cell_type": "code",
      "source": [
        "sc1=StandardScaler()\n",
        "X_train_sc=sc1.fit_transform(X_train)\n",
        "X_test_sc=sc1.transform(X_test)"
      ],
      "metadata": {
        "id": "ptsyznm_AzbJ"
      },
      "execution_count": 125,
      "outputs": []
    },
    {
      "cell_type": "code",
      "source": [
        "for model, name in zip([Las,LinR,Rid,Dtc,Rfc,Boost_Lin,Boost_las,Boost_rid,Bg_Lin,Bg_las,Bg_rid], \n",
        "     ['Lasso','Linear Regression','Ridge','Random forest Regressor','Decision Tree Regressor','Boosted Linear',\n",
        "      'Boosted Lasso','Boosted Ridge','Bagged Linear','Bagged Lasso','Bagged Ridge']):\n",
        "    model1 = model.fit(X_train_sc,y_train)\n",
        "    Y_predict=model1.predict(X_test_sc)\n",
        "    print(name)\n",
        "    print('Mean Absolute Error:', mean_absolute_error(y_test, Y_predict))  \n",
        "    print('Mean Squared Error:', mean_squared_error(y_test, Y_predict))  \n",
        "    print('Root Mean Squared Error:', np.sqrt(mean_squared_error(y_test, Y_predict)))\n",
        "    print('R2 : ',r2_score(y_test, Y_predict))\n",
        "    print()"
      ],
      "metadata": {
        "colab": {
          "base_uri": "https://localhost:8080/"
        },
        "id": "taiS31nr_nRE",
        "outputId": "5707d624-86be-4c7d-c6ba-ad4132896903"
      },
      "execution_count": 116,
      "outputs": [
        {
          "output_type": "stream",
          "name": "stdout",
          "text": [
            "Lasso\n",
            "Mean Absolute Error: 7.670202791137397\n",
            "Mean Squared Error: 101.51853882513072\n",
            "Root Mean Squared Error: 10.075640864239391\n",
            "R2 :  0.956925085690737\n",
            "\n",
            "Linear Regression\n",
            "Mean Absolute Error: 1.5331813719785684e-13\n",
            "Mean Squared Error: 4.0082608366111645e-26\n",
            "Root Mean Squared Error: 2.0020641439801985e-13\n",
            "R2 :  1.0\n",
            "\n",
            "Ridge\n",
            "Mean Absolute Error: 0.016688749774057852\n",
            "Mean Squared Error: 0.0004675769423486762\n",
            "Root Mean Squared Error: 0.021623527518623693\n",
            "R2 :  0.9999998016043478\n",
            "\n",
            "Random forest Regressor\n",
            "Mean Absolute Error: 6.831076974084103\n",
            "Mean Squared Error: 108.97607338232856\n",
            "Root Mean Squared Error: 10.439160568854593\n",
            "R2 :  0.9537608098281479\n",
            "\n",
            "Decision Tree Regressor\n",
            "Mean Absolute Error: 4.624400729402663\n",
            "Mean Squared Error: 50.72798331215119\n",
            "Root Mean Squared Error: 7.122357988205254\n",
            "R2 :  0.9784758177221546\n",
            "\n"
          ]
        },
        {
          "output_type": "stream",
          "name": "stderr",
          "text": [
            "/usr/local/lib/python3.9/dist-packages/sklearn/ensemble/_base.py:166: FutureWarning: `base_estimator` was renamed to `estimator` in version 1.2 and will be removed in 1.4.\n",
            "  warnings.warn(\n"
          ]
        },
        {
          "output_type": "stream",
          "name": "stdout",
          "text": [
            "Boosted Linear\n",
            "Mean Absolute Error: 5.02904220879528e-14\n",
            "Mean Squared Error: 4.3015453111212265e-27\n",
            "Root Mean Squared Error: 6.55861670714277e-14\n",
            "R2 :  1.0\n",
            "\n"
          ]
        },
        {
          "output_type": "stream",
          "name": "stderr",
          "text": [
            "/usr/local/lib/python3.9/dist-packages/sklearn/ensemble/_base.py:166: FutureWarning: `base_estimator` was renamed to `estimator` in version 1.2 and will be removed in 1.4.\n",
            "  warnings.warn(\n"
          ]
        },
        {
          "output_type": "stream",
          "name": "stdout",
          "text": [
            "Boosted Lasso\n",
            "Mean Absolute Error: 4.803060852871847\n",
            "Mean Squared Error: 39.352995677186456\n",
            "Root Mean Squared Error: 6.2731966075667085\n",
            "R2 :  0.9833022920126193\n",
            "\n"
          ]
        },
        {
          "output_type": "stream",
          "name": "stderr",
          "text": [
            "/usr/local/lib/python3.9/dist-packages/sklearn/ensemble/_base.py:166: FutureWarning: `base_estimator` was renamed to `estimator` in version 1.2 and will be removed in 1.4.\n",
            "  warnings.warn(\n"
          ]
        },
        {
          "output_type": "stream",
          "name": "stdout",
          "text": [
            "Boosted Ridge\n",
            "Mean Absolute Error: 0.005906991846233567\n",
            "Mean Squared Error: 5.787883138150365e-05\n",
            "Root Mean Squared Error: 0.00760781383720078\n",
            "R2 :  0.9999999754416707\n",
            "\n"
          ]
        },
        {
          "output_type": "stream",
          "name": "stderr",
          "text": [
            "/usr/local/lib/python3.9/dist-packages/sklearn/ensemble/_base.py:166: FutureWarning: `base_estimator` was renamed to `estimator` in version 1.2 and will be removed in 1.4.\n",
            "  warnings.warn(\n"
          ]
        },
        {
          "output_type": "stream",
          "name": "stdout",
          "text": [
            "Bagged Linear\n",
            "Mean Absolute Error: 1.1114988639440448e-13\n",
            "Mean Squared Error: 2.1207555924084516e-26\n",
            "Root Mean Squared Error: 1.456281426238916e-13\n",
            "R2 :  1.0\n",
            "\n"
          ]
        },
        {
          "output_type": "stream",
          "name": "stderr",
          "text": [
            "/usr/local/lib/python3.9/dist-packages/sklearn/ensemble/_base.py:166: FutureWarning: `base_estimator` was renamed to `estimator` in version 1.2 and will be removed in 1.4.\n",
            "  warnings.warn(\n"
          ]
        },
        {
          "output_type": "stream",
          "name": "stdout",
          "text": [
            "Bagged Lasso\n",
            "Mean Absolute Error: 7.674890742648523\n",
            "Mean Squared Error: 101.63678357632749\n",
            "Root Mean Squared Error: 10.081507009189027\n",
            "R2 :  0.9568749137459447\n",
            "\n"
          ]
        },
        {
          "output_type": "stream",
          "name": "stderr",
          "text": [
            "/usr/local/lib/python3.9/dist-packages/sklearn/ensemble/_base.py:166: FutureWarning: `base_estimator` was renamed to `estimator` in version 1.2 and will be removed in 1.4.\n",
            "  warnings.warn(\n"
          ]
        },
        {
          "output_type": "stream",
          "name": "stdout",
          "text": [
            "Bagged Ridge\n",
            "Mean Absolute Error: 0.016765679377503596\n",
            "Mean Squared Error: 0.0004717402953249371\n",
            "Root Mean Squared Error: 0.021719583221713464\n",
            "R2 :  0.9999997998378125\n",
            "\n"
          ]
        }
      ]
    },
    {
      "cell_type": "code",
      "source": [
        "for model, name in zip([Las,LinR,Rid,Dtc,Rfc,Boost_Lin,Boost_las,Boost_rid,Bg_Lin,Bg_las,Bg_rid], \n",
        "     ['Lasso','Linear Regression','Ridge','Random forest Regressor','Decision Tree Regressor','Boosted Linear',\n",
        "      'Boosted Lasso','Boosted Ridge','Bagged Linear','Bagged Lasso','Bagged Ridge']):\n",
        "    model1 = model.fit(X_train_sc,y_train)\n",
        "    Y_predict=model1.predict(X_test_sc)\n",
        "    print(name)\n",
        "    plt.scatter(y_test, Y_predict)\n",
        "    plt.title(\"Model Analysis\")\n",
        "    plt.xlabel(\"Truth\")\n",
        "    plt.ylabel(\"Prediction\")\n",
        "    plt.show()"
      ],
      "metadata": {
        "colab": {
          "base_uri": "https://localhost:8080/",
          "height": 1000
        },
        "id": "Cp9wVFW5_zBM",
        "outputId": "002a43c9-9747-46bb-bcfc-57d3f6306810"
      },
      "execution_count": 117,
      "outputs": [
        {
          "output_type": "stream",
          "name": "stdout",
          "text": [
            "Lasso\n"
          ]
        },
        {
          "output_type": "display_data",
          "data": {
            "text/plain": [
              "<Figure size 432x288 with 1 Axes>"
            ],
            "image/png": "[encoded data removed]"
          },
          "metadata": {
            "needs_background": "light"
          }
        },
        {
          "output_type": "stream",
          "name": "stdout",
          "text": [
            "Linear Regression\n"
          ]
        },
        {
          "output_type": "display_data",
          "data": {
            "text/plain": [
              "<Figure size 432x288 with 1 Axes>"
            ],
            "image/png": "[encoded data removed]"
          },
          "metadata": {
            "needs_background": "light"
          }
        },
        {
          "output_type": "stream",
          "name": "stdout",
          "text": [
            "Ridge\n"
          ]
        },
        {
          "output_type": "display_data",
          "data": {
            "text/plain": [
              "<Figure size 432x288 with 1 Axes>"
            ],
            "image/png": "[encoded data removed]"
          },
          "metadata": {
            "needs_background": "light"
          }
        },
        {
          "output_type": "stream",
          "name": "stdout",
          "text": [
            "Random forest Regressor\n"
          ]
        },
        {
          "output_type": "display_data",
          "data": {
            "text/plain": [
              "<Figure size 432x288 with 1 Axes>"
            ],
            "image/png": "[encoded data removed]"
          },
          "metadata": {
            "needs_background": "light"
          }
        },
        {
          "output_type": "stream",
          "name": "stdout",
          "text": [
            "Decision Tree Regressor\n"
          ]
        },
        {
          "output_type": "display_data",
          "data": {
            "text/plain": [
              "<Figure size 432x288 with 1 Axes>"
            ],
            "image/png": "[encoded data removed]"
          },
          "metadata": {
            "needs_background": "light"
          }
        },
        {
          "output_type": "stream",
          "name": "stderr",
          "text": [
            "/usr/local/lib/python3.9/dist-packages/sklearn/ensemble/_base.py:166: FutureWarning: `base_estimator` was renamed to `estimator` in version 1.2 and will be removed in 1.4.\n",
            "  warnings.warn(\n"
          ]
        },
        {
          "output_type": "stream",
          "name": "stdout",
          "text": [
            "Boosted Linear\n"
          ]
        },
        {
          "output_type": "display_data",
          "data": {
            "text/plain": [
              "<Figure size 432x288 with 1 Axes>"
            ],
            "image/png": "[encoded data removed]"
          },
          "metadata": {
            "needs_background": "light"
          }
        },
        {
          "output_type": "stream",
          "name": "stderr",
          "text": [
            "/usr/local/lib/python3.9/dist-packages/sklearn/ensemble/_base.py:166: FutureWarning: `base_estimator` was renamed to `estimator` in version 1.2 and will be removed in 1.4.\n",
            "  warnings.warn(\n"
          ]
        },
        {
          "output_type": "stream",
          "name": "stdout",
          "text": [
            "Boosted Lasso\n"
          ]
        },
        {
          "output_type": "display_data",
          "data": {
            "text/plain": [
              "<Figure size 432x288 with 1 Axes>"
            ],
            "image/png": "[encoded data removed]"
          },
          "metadata": {
            "needs_background": "light"
          }
        },
        {
          "output_type": "stream",
          "name": "stderr",
          "text": [
            "/usr/local/lib/python3.9/dist-packages/sklearn/ensemble/_base.py:166: FutureWarning: `base_estimator` was renamed to `estimator` in version 1.2 and will be removed in 1.4.\n",
            "  warnings.warn(\n"
          ]
        },
        {
          "output_type": "stream",
          "name": "stdout",
          "text": [
            "Boosted Ridge\n"
          ]
        },
        {
          "output_type": "display_data",
          "data": {
            "text/plain": [
              "<Figure size 432x288 with 1 Axes>"
            ],
            "image/png": "[encoded data removed]"
          },
          "metadata": {
            "needs_background": "light"
          }
        },
        {
          "output_type": "stream",
          "name": "stderr",
          "text": [
            "/usr/local/lib/python3.9/dist-packages/sklearn/ensemble/_base.py:166: FutureWarning: `base_estimator` was renamed to `estimator` in version 1.2 and will be removed in 1.4.\n",
            "  warnings.warn(\n"
          ]
        },
        {
          "output_type": "stream",
          "name": "stdout",
          "text": [
            "Bagged Linear\n"
          ]
        },
        {
          "output_type": "display_data",
          "data": {
            "text/plain": [
              "<Figure size 432x288 with 1 Axes>"
            ],
            "image/png": "[encoded data removed]"
          },
          "metadata": {
            "needs_background": "light"
          }
        },
        {
          "output_type": "stream",
          "name": "stderr",
          "text": [
            "/usr/local/lib/python3.9/dist-packages/sklearn/ensemble/_base.py:166: FutureWarning: `base_estimator` was renamed to `estimator` in version 1.2 and will be removed in 1.4.\n",
            "  warnings.warn(\n"
          ]
        },
        {
          "output_type": "stream",
          "name": "stdout",
          "text": [
            "Bagged Lasso\n"
          ]
        },
        {
          "output_type": "display_data",
          "data": {
            "text/plain": [
              "<Figure size 432x288 with 1 Axes>"
            ],
            "image/png": "[encoded data removed]"
          },
          "metadata": {
            "needs_background": "light"
          }
        },
        {
          "output_type": "stream",
          "name": "stderr",
          "text": [
            "/usr/local/lib/python3.9/dist-packages/sklearn/ensemble/_base.py:166: FutureWarning: `base_estimator` was renamed to `estimator` in version 1.2 and will be removed in 1.4.\n",
            "  warnings.warn(\n"
          ]
        },
        {
          "output_type": "stream",
          "name": "stdout",
          "text": [
            "Bagged Ridge\n"
          ]
        },
        {
          "output_type": "display_data",
          "data": {
            "text/plain": [
              "<Figure size 432x288 with 1 Axes>"
            ],
            "image/png": "[encoded data removed]"
          },
          "metadata": {
            "needs_background": "light"
          }
        }
      ]
    }
  ]
}