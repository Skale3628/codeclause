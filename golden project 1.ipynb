{
  "metadata": {
    "language_info": {
      "codemirror_mode": {
        "name": "python",
        "version": 3
      },
      "file_extension": ".py",
      "mimetype": "text/x-python",
      "name": "python",
      "nbconvert_exporter": "python",
      "pygments_lexer": "ipython3",
      "version": "3.8"
    },
    "kernelspec": {
      "name": "python",
      "display_name": "Python (Pyodide)",
      "language": "python"
    }
  },
  "nbformat_minor": 4,
  "nbformat": 4,
  "cells": [
    {
      "cell_type": "code",
      "source": "import pandas as pd\nimport matplotlib.pyplot as plt\nimport plotly.express as px\nimport plotly.graph_objects as go\nfrom statsmodels.tsa.seasonal import seasonal_decompose\nfrom statsmodels.graphics.tsaplots import plot_pacf\nfrom statsmodels.tsa.arima_model import ARIMA\nimport statsmodels.api as sm\n\ndata = pd.read_csv(r\"C:\\Users\\skale\\Downloads\\Thecleverprogrammer.csv\")\nprint(data.head())\n\n\n# In[2]:\n\n\ndata[\"Date\"] = pd.to_datetime(data[\"Date\"], \n                              format=\"%d/%m/%Y\")\nprint(data.info())\n\n\n# In[3]:\n\n\nplt.style.use('fivethirtyeight')\nplt.figure(figsize=(15, 10))\nplt.plot(data[\"Date\"], data[\"Views\"])\nplt.title(\"Daily Traffic of Thecleverprogrammer.com\")\nplt.show()\n\n\n# In[4]:\n\n\nplot_pacf(data[\"Views\"], lags = 100)\n\n\n# In[5]:\n\n\npd.plotting.autocorrelation_plot(data[\"Views\"])\n\n\n# In[12]:\n\n\np, d, q = 5, 1, 2\nmodel=sm.tsa.statespace.SARIMAX(data['Views'],\n                                order=(p, d, q),\n                                seasonal_order=(p, d, q, 12))\nmodel=model.fit()\nprint(model.summary())\n\n\n# In[10]:\n\n\npredictions = model.predict(len(data), len(data)+50)\nprint(predictions)\n\n\n# In[11]:\n\n\ndata[\"Views\"].plot(legend=True, label=\"Training Data\", \n                   figsize=(15, 10))\npredictions.plot(legend=True, label=\"Predictions\")\n\n\n# In[ ]:\n",
      "metadata": {
        "trusted": true
      },
      "execution_count": null,
      "outputs": []
    },
    {
      "cell_type": "code",
      "source": "",
      "metadata": {},
      "execution_count": null,
      "outputs": []
    }
  ]
}