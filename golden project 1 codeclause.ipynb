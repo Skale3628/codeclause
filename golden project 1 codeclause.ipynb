{
  "nbformat": 4,
  "nbformat_minor": 0,
  "metadata": {
    "colab": {
      "provenance": []
    },
    "kernelspec": {
      "name": "python3",
      "display_name": "Python 3"
    },
    "language_info": {
      "name": "python"
    }
  },
  "cells": [
    {
      "cell_type": "code",
      "execution_count": 1,
      "metadata": {
        "id": "VgCuSRcgTwUK"
      },
      "outputs": [],
      "source": [
        "import pandas as pd\n",
        "import matplotlib.pyplot as plt\n",
        "import plotly.express as px\n",
        "import plotly.graph_objects as go\n",
        "from statsmodels.tsa.seasonal import seasonal_decompose\n",
        "from statsmodels.graphics.tsaplots import plot_pacf\n",
        "from statsmodels.tsa.arima_model import ARIMA\n",
        "import statsmodels.api as sm"
      ]
    },
    {
      "cell_type": "code",
      "source": [
        "data = pd.read_csv(r\"C:\\Users\\Gaurav\\Downloads\\Thecleverprogrammer.csv\")\n",
        "print(data.head())\n"
      ],
      "metadata": {
        "id": "5_jOL18pTzPx"
      },
      "execution_count": null,
      "outputs": []
    },
    {
      "cell_type": "code",
      "source": [
        "data[\"Date\"] = pd.to_datetime(data[\"Date\"], \n",
        "                              format=\"%d/%m/%Y\")\n",
        "print(data.info())"
      ],
      "metadata": {
        "id": "6BAgHZe6T03g"
      },
      "execution_count": null,
      "outputs": []
    },
    {
      "cell_type": "code",
      "source": [
        "plt.style.use('fivethirtyeight')\n",
        "plt.figure(figsize=(15, 10))\n",
        "plt.plot(data[\"Date\"], data[\"Views\"])\n",
        "plt.title(\"Daily Traffic of Thecleverprogrammer.com\")\n",
        "plt.show()\n"
      ],
      "metadata": {
        "id": "WQIYF8zFT6nA"
      },
      "execution_count": null,
      "outputs": []
    },
    {
      "cell_type": "code",
      "source": [
        "plot_pacf(data[\"Views\"], lags = 100)"
      ],
      "metadata": {
        "id": "N7qy5mUOT85c"
      },
      "execution_count": null,
      "outputs": []
    },
    {
      "cell_type": "code",
      "source": [
        "pd.plotting.autocorrelation_plot(data[\"Views\"])\n"
      ],
      "metadata": {
        "id": "nq80EI5MT_d0"
      },
      "execution_count": null,
      "outputs": []
    },
    {
      "cell_type": "code",
      "source": [
        "p, d, q = 5, 1, 2\n",
        "model=sm.tsa.statespace.SARIMAX(data['Views'],\n",
        "                                order=(p, d, q),\n",
        "                                seasonal_order=(p, d, q, 12))\n",
        "model=model.fit()\n",
        "print(model.summary())\n"
      ],
      "metadata": {
        "id": "0f51lmYjUBsM"
      },
      "execution_count": null,
      "outputs": []
    },
    {
      "cell_type": "code",
      "source": [
        "predictions = model.predict(len(data), len(data)+50)\n",
        "print(predictions)\n"
      ],
      "metadata": {
        "id": "59qUPyGfUEaF"
      },
      "execution_count": null,
      "outputs": []
    },
    {
      "cell_type": "code",
      "source": [
        "\n",
        "data[\"Views\"].plot(legend=True, label=\"Training Data\", \n",
        "                   figsize=(15, 10))\n",
        "predictions.plot(legend=True, label=\"Predictions\")\n"
      ],
      "metadata": {
        "id": "yAjG4c7uUG8s"
      },
      "execution_count": null,
      "outputs": []
    }
  ]
}