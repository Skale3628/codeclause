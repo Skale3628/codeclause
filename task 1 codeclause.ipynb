{
  "metadata": {
    "language_info": {
      "codemirror_mode": {
        "name": "python",
        "version": 3
      },
      "file_extension": ".py",
      "mimetype": "text/x-python",
      "name": "python",
      "nbconvert_exporter": "python",
      "pygments_lexer": "ipython3",
      "version": "3.8"
    },
    "kernelspec": {
      "name": "python",
      "display_name": "Python (Pyodide)",
      "language": "python"
    }
  },
  "nbformat_minor": 4,
  "nbformat": 4,
  "cells": [
    {
      "cell_type": "code",
      "source": "\nimport cv2\nimport math\nimport sys",
      "metadata": {
        "trusted": true
      },
      "execution_count": 1,
      "outputs": []
    },
    {
      "cell_type": "code",
      "source": "FACE_PROTO = r\"D:\\python-gender-age-detect-master\\weights\\opencv_face_detector.pbtxt\"\nFACE_MODEL = r\"D:\\python-gender-age-detect-master\\weights\\opencv_face_detector_uint8.pb\"\n\nAGE_PROTO = r\"D:\\python-gender-age-detect-master\\weights\\age_deploy.prototxt\"\nAGE_MODEL = r\"D:\\python-gender-age-detect-master\\weights\\age_net.caffemodel\"\n\nGENDER_PROTO = r\"D:\\python-gender-age-detect-master\\weights\\gender_deploy.prototxt\"\nGENDER_MODEL = r\"D:\\python-gender-age-detect-master\\weights\\gender_net.caffemodel\"\n",
      "metadata": {
        "trusted": true
      },
      "execution_count": 2,
      "outputs": []
    },
    {
      "cell_type": "code",
      "source": "FACE_NET = cv2.dnn.readNet(FACE_MODEL, FACE_PROTO)\nAGE_NET = cv2.dnn.readNet(AGE_MODEL, AGE_PROTO)\nGENDER_NET = cv2.dnn.readNet(GENDER_MODEL, GENDER_PROTO)\n\nMODEL_MEAN_VALUES = (78.4263377603, 87.7689143744, 114.895847746)\nAGE_LIST = [\"(0-2)\", \"(4-6)\", \"(8-12)\", \"(15-20)\", \"(25-32)\", \"(38-43)\", \"(48-53)\", \"(60-100)\"]\nGENDER_LIST = [\"Male\", \"Female\"]\n\nbox_padding = 20",
      "metadata": {
        "trusted": true
      },
      "execution_count": null,
      "outputs": []
    },
    {
      "cell_type": "code",
      "source": "\ndef get_face_box (net, frame, conf_threshold = 0.7):\n  frame_copy = frame.copy()\n  frame_height = frame_copy.shape[0]\n  frame_width = frame_copy.shape[1]\n  blob = cv2.dnn.blobFromImage(frame_copy, 1.0, (300, 300), [104, 117, 123], True, False)\n\n  net.setInput(blob)\n  detections = net.forward()\n  boxes = []\n\n  for i in range(detections.shape[2]):\n    confidence = detections[0, 0, i, 2]\n\n    if confidence > conf_threshold:\n      x1 = int(detections[0, 0, i, 3] * frame_width)\n      y1 = int(detections[0, 0, i, 4] * frame_height)\n      x2 = int(detections[0, 0, i, 5] * frame_width)\n      y2 = int(detections[0, 0, i, 6] * frame_height)\n      boxes.append([x1, y1, x2, y2])\n      cv2.rectangle(frame_copy, (x1, y1), (x2, y2), (0, 255, 0), int(round(frame_height / 150)), 8)\n\n  return frame_copy, boxes\n\n",
      "metadata": {
        "trusted": true
      },
      "execution_count": null,
      "outputs": []
    },
    {
      "cell_type": "code",
      "source": "\ndef age_gender_detector (input_path):\n  image = cv2.imread(\"D:\\python-gender-age-detect-master\\lena.jpg\")\n  resized_image = cv2.resize(image, (640, 480))\n\n  frame = resized_image.copy()\n  frame_face, boxes = get_face_box(FACE_NET, frame)\n\n  for box in boxes:\n    face = frame[max(0, box[1] - box_padding):min(box[3] + box_padding, frame.shape[0] - 1),       max(0, box[0] - box_padding):min(box[2] + box_padding, frame.shape[1] - 1)]\n\n    blob = cv2.dnn.blobFromImage(face, 1.0, (227, 227), MODEL_MEAN_VALUES, swapRB = False)\n    GENDER_NET.setInput(blob)\n    gender_predictions = GENDER_NET.forward()\n    gender = GENDER_LIST[gender_predictions[0].argmax()]\n    print(\"Gender: {}, conf: {:.3f}\".format(gender, gender_predictions[0].max()))\n\n    AGE_NET.setInput(blob)\n    age_predictions = AGE_NET.forward()\n    age = AGE_LIST[age_predictions[0].argmax()]\n    print(\"Age: {}, conf: {:.3f}\".format(age, age_predictions[0].max()))\n\n    label = \"{},{}\".format(gender, age)\n    cv2.putText(frame_face, label, (box[0], box[1] - 10), cv2.FONT_HERSHEY_SIMPLEX, 0.8, (0, 255, 255), 2, cv2.LINE_AA)\n\n  return frame_face",
      "metadata": {
        "trusted": true
      },
      "execution_count": null,
      "outputs": []
    },
    {
      "cell_type": "code",
      "source": "\nif __name__ == \"__main__\":\n  output = age_gender_detector(sys.argv[1])\n  cv2.imwrite(\"output/output.jpg\", output)\n  cv2.imshow(\"Output\", output)\n\n  cv2.waitKey(0)\n  cv2.destroyAllWindows()\n",
      "metadata": {
        "trusted": true
      },
      "execution_count": null,
      "outputs": []
    },
    {
      "cell_type": "code",
      "source": "",
      "metadata": {},
      "execution_count": null,
      "outputs": []
    }
  ]
}